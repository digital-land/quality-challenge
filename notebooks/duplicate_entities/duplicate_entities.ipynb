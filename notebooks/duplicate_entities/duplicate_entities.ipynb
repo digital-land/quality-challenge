{
 "cells": [
  {
   "cell_type": "markdown",
   "id": "0",
   "metadata": {},
   "source": [
    "# Duplicate Entities\n",
    "\n",
    "This notebook is intended to develop a handful of simple tests to see if there are duplicate entities or entities that don't exist in the "
   ]
  }
 ],
 "metadata": {
  "language_info": {
   "name": "python"
  }
 },
 "nbformat": 4,
 "nbformat_minor": 5
}
