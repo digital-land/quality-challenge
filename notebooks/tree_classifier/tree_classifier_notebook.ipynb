{
 "cells": [
  {
   "cell_type": "code",
   "execution_count": null,
   "id": "0",
   "metadata": {},
   "outputs": [],
   "source": [
    "import json\n",
    "import math\n",
    "import os\n",
    "from urllib.parse import urlencode\n",
    "\n",
    "import cv2\n",
    "import polars as pl\n",
    "import requests\n",
    "from deepforest import main\n",
    "from dotenv import load_dotenv\n",
    "from geopy.distance import geodesic\n",
    "from matplotlib import pyplot as plt\n",
    "from owslib.wms import WebMapService"
   ]
  },
  {
   "cell_type": "code",
   "execution_count": null,
   "id": "1",
   "metadata": {},
   "outputs": [],
   "source": [
    "# silence some deepforest warnings\n",
    "import warnings\n",
    "\n",
    "warnings.filterwarnings(\n",
    "    \"ignore\", message=\".*root_dir argument for the location of images.*\"\n",
    ")\n",
    "warnings.filterwarnings(\n",
    "    \"ignore\",\n",
    "    message=\".*An image was passed directly to predict_tile, the results.root_dir attribute will be None in the output dataframe, to use visualize.plot_results, please assign results.root_dir*\",\n",
    ")"
   ]
  },
  {
   "cell_type": "code",
   "execution_count": null,
   "id": "2",
   "metadata": {},
   "outputs": [],
   "source": [
    "load_dotenv()"
   ]
  },
  {
   "cell_type": "code",
   "execution_count": null,
   "id": "3",
   "metadata": {},
   "outputs": [],
   "source": [
    "IMG_SIZE = (500, 500)"
   ]
  },
  {
   "cell_type": "markdown",
   "id": "4",
   "metadata": {},
   "source": [
    "## Get tree data"
   ]
  },
  {
   "cell_type": "code",
   "execution_count": null,
   "id": "5",
   "metadata": {},
   "outputs": [],
   "source": [
    "planning_base_csv_url = \"https://files.planning.data.gov.uk/\""
   ]
  },
  {
   "cell_type": "code",
   "execution_count": null,
   "id": "6",
   "metadata": {},
   "outputs": [],
   "source": [
    "dataset = \"tree\"\n",
    "r = requests.get(f\"{planning_base_csv_url}dataset/{dataset}.csv\")\n",
    "\n",
    "filename = \"data/trees.csv\"\n",
    "with open(filename, \"wb\") as f_out:\n",
    "    f_out.write(r.content)"
   ]
  },
  {
   "cell_type": "code",
   "execution_count": null,
   "id": "7",
   "metadata": {},
   "outputs": [],
   "source": [
    "data = pl.read_csv(filename).select([\"name\", \"point\", \"address-text\"])\n",
    "data"
   ]
  },
  {
   "cell_type": "code",
   "execution_count": null,
   "id": "8",
   "metadata": {},
   "outputs": [],
   "source": [
    "# pick some example trees\n",
    "example_indices = [\n",
    "    765,\n",
    "    7865,\n",
    "    8030,\n",
    "    12458,\n",
    "    14120,\n",
    "    17346,\n",
    "    20745,\n",
    "    21555,\n",
    "    22483,\n",
    "    24920,\n",
    "    26152,\n",
    "    31622,\n",
    "    35518,\n",
    "    41236,\n",
    "    46031,\n",
    "    56861,\n",
    "    57073,\n",
    "    63443,\n",
    "    71083,\n",
    "    80506,\n",
    "    81889,\n",
    "    84328,\n",
    "]\n",
    "single_example_index = 765"
   ]
  },
  {
   "cell_type": "markdown",
   "id": "9",
   "metadata": {},
   "source": [
    "## Get data from Google map tiles\n",
    "\n",
    "Images are worse quality than the WMS link from Paul, and the tile system uses a different coordinate system making it harder to work with. Will default to WMS.\n",
    "\n",
    "Usage limit for this API is 100,000 requests per month. Do not run this on the whole dataset.\n",
    "\n",
    "You can monitor usage here (select Map tiles API): https://console.cloud.google.com/google/maps-apis/quotas?invt=AbueGQ&project=mhclg-data-quality&api=static-maps-backend.googleapis.com"
   ]
  },
  {
   "cell_type": "code",
   "execution_count": null,
   "id": "10",
   "metadata": {},
   "outputs": [],
   "source": [
    "api_key = os.environ.get(\"GOOGLE_MAPS_API_KEY\")"
   ]
  },
  {
   "cell_type": "code",
   "execution_count": null,
   "id": "11",
   "metadata": {},
   "outputs": [],
   "source": [
    "def getXY(lon, lat, zoom):\n",
    "    lat_rad = math.radians(lat)\n",
    "    n = 2.0**zoom\n",
    "    xtile = int((lon + 180.0) / 360.0 * n)\n",
    "    ytile = int(\n",
    "        (1.0 - math.log(math.tan(lat_rad) + 1 / math.cos(lat_rad)) / math.pi) / 2.0 * n\n",
    "    )\n",
    "    return xtile, ytile"
   ]
  },
  {
   "cell_type": "code",
   "execution_count": null,
   "id": "12",
   "metadata": {},
   "outputs": [],
   "source": [
    "def get_session_token():\n",
    "    url = f\"https://tile.googleapis.com/v1/createSession?key={api_key}\"\n",
    "\n",
    "    payload = {\"mapType\": \"satellite\"}\n",
    "    headers = {\"Content-Type\": \"application/json\"}\n",
    "\n",
    "    response = requests.post(url, json=payload, headers=headers)\n",
    "    session_token = response.json().get(\"session\", \"\")\n",
    "    if session_token == \"\":\n",
    "        print(\"Couldn't get session token.\")\n",
    "        return\n",
    "    return session_token"
   ]
  },
  {
   "cell_type": "code",
   "execution_count": null,
   "id": "13",
   "metadata": {},
   "outputs": [],
   "source": [
    "def download_google_image(lat, long, zoom, filename):\n",
    "    x, y = getXY(lon, lat, zoom)\n",
    "    session_token = get_session_token()\n",
    "\n",
    "    url = f\"https://tile.googleapis.com/v1/2dtiles/{zoom}/{x}/{y}?session={session_token}&key={api_key}\"\n",
    "    res = requests.get(url)\n",
    "\n",
    "    if not os.path.exists(\"data/google_images\"):\n",
    "        os.makedirs(\"data/google_images\")\n",
    "    with open(filename, \"wb\") as f_out:\n",
    "        f_out.write(res.content)"
   ]
  },
  {
   "cell_type": "code",
   "execution_count": null,
   "id": "14",
   "metadata": {},
   "outputs": [],
   "source": [
    "for example_index in example_indices:\n",
    "    point = data.get_column(\"point\")[example_index].split(\"(\")[1].split(\")\")[0]\n",
    "    lon, lat = map(float, point.split(\" \"))\n",
    "\n",
    "    filename = f\"data/google_images/tree_{example_index}.png\"\n",
    "    download_google_image(lat, lon, zoom=18, filename=filename)"
   ]
  },
  {
   "cell_type": "markdown",
   "id": "15",
   "metadata": {},
   "source": [
    "## Get data from Google static maps\n",
    "\n",
    "This is another alternative to map tiles, which did not have the best quality. It is easier to work with however the service is more expensive.\n",
    "\n",
    "#### DO NOT RUN unless you have to.\n",
    "\n",
    "Usage limit for this API is 10,000 requests per month. Do not run this on the whole dataset.\n",
    "\n",
    "You can monitor usage here (select Maps static API): https://console.cloud.google.com/google/maps-apis/quotas?invt=AbueGQ&project=mhclg-data-quality&api=static-maps-backend.googleapis.com"
   ]
  },
  {
   "cell_type": "code",
   "execution_count": null,
   "id": "16",
   "metadata": {},
   "outputs": [],
   "source": [
    "static_maps_base_url = \"https://maps.googleapis.com/maps/api/staticmap?\""
   ]
  },
  {
   "cell_type": "code",
   "execution_count": null,
   "id": "17",
   "metadata": {},
   "outputs": [],
   "source": [
    "def download_static_map(params, filename):\n",
    "    query_string = urlencode(params)\n",
    "    full_url = f\"{static_maps_base_url}{query_string}\"\n",
    "\n",
    "    res = requests.get(full_url)\n",
    "    if not os.path.exists(\"data/google_static_images\"):\n",
    "        os.makedirs(\"data/google_static_images\")\n",
    "    with open(filename, \"wb\") as f_out:\n",
    "        f_out.write(res.content)"
   ]
  },
  {
   "cell_type": "code",
   "execution_count": null,
   "id": "18",
   "metadata": {},
   "outputs": [],
   "source": [
    "# for example_index in example_indices:\n",
    "#     point = data.get_column(\"point\")[example_index].split(\"(\")[1].split(\")\")[0]\n",
    "#     lon, lat = map(float, point.split(\" \"))\n",
    "#     params = {\n",
    "#         \"center\": f\"{lat},{lon}\",\n",
    "#         \"zoom\": 18,\n",
    "#         \"size\": f\"{IMG_SIZE[0]}x{IMG_SIZE[1]}\",\n",
    "#         \"maptype\": \"satellite\",\n",
    "#         \"scale\": 2,\n",
    "#         \"key\": api_key,\n",
    "#     }\n",
    "#     filename = f\"data/google_static_images/tree_{example_index}.png\"\n",
    "#     download_static_map(params, filename)"
   ]
  },
  {
   "cell_type": "markdown",
   "id": "19",
   "metadata": {},
   "source": [
    "## Get data from WMS"
   ]
  },
  {
   "cell_type": "code",
   "execution_count": null,
   "id": "20",
   "metadata": {},
   "outputs": [],
   "source": [
    "wms_url = os.environ.get(\"WMS_URL\")\n",
    "wms = WebMapService(wms_url)"
   ]
  },
  {
   "cell_type": "code",
   "execution_count": null,
   "id": "21",
   "metadata": {},
   "outputs": [],
   "source": [
    "def get_bbox(lat, lon, offset):\n",
    "    xmin = lon - offset\n",
    "    ymin = lat - offset\n",
    "    xmax = lon + offset\n",
    "    ymax = lat + offset\n",
    "    return (xmin, ymin, xmax, ymax)"
   ]
  },
  {
   "cell_type": "code",
   "execution_count": null,
   "id": "22",
   "metadata": {},
   "outputs": [],
   "source": [
    "def download_wms_image(bbox, filename):\n",
    "    xmin, ymin, xmax, ymax = bbox\n",
    "\n",
    "    img = wms.getmap(\n",
    "        layers=[\"APGB_Latest_UK_125mm\"],\n",
    "        srs=\"EPSG:4326\",\n",
    "        bbox=(xmin, ymin, xmax, ymax),\n",
    "        size=IMG_SIZE,\n",
    "        format=\"image/png\",\n",
    "    )\n",
    "\n",
    "    if not os.path.exists(\"data/wms_images\"):\n",
    "        os.makedirs(\"data/wms_images\")\n",
    "    with open(filename, \"wb\") as f_out:\n",
    "        f_out.write(img.read())"
   ]
  },
  {
   "cell_type": "code",
   "execution_count": null,
   "id": "23",
   "metadata": {},
   "outputs": [],
   "source": [
    "trees = []\n",
    "for example_index in example_indices:\n",
    "    point = data.get_column(\"point\")[example_index].split(\"(\")[1].split(\")\")[0]\n",
    "    lon, lat = map(float, point.split(\" \"))\n",
    "    offset = 0.0005\n",
    "    bbox = get_bbox(lat, lon, offset)\n",
    "\n",
    "    filename = f\"data/wms_images/tree_{example_index}.png\"\n",
    "    download_wms_image(bbox, filename=filename)\n",
    "    trees.append(\n",
    "        {\n",
    "            \"id\": example_index,\n",
    "            \"wms_filename\": filename,\n",
    "            \"lat\": lat,\n",
    "            \"lon\": lon,\n",
    "            \"bbox\": bbox,\n",
    "        }\n",
    "    )"
   ]
  },
  {
   "cell_type": "code",
   "execution_count": null,
   "id": "24",
   "metadata": {},
   "outputs": [],
   "source": [
    "# add other filenames\n",
    "trees_df = (\n",
    "    pl.from_records(trees)\n",
    "    .with_columns(\n",
    "        pl.col(\"id\")\n",
    "        .map_elements(\n",
    "            lambda x: f\"data/google_static_images/tree_{x}.png\", return_dtype=pl.Utf8\n",
    "        )\n",
    "        .alias(\"static_filename\"),\n",
    "        pl.col(\"id\")\n",
    "        .map_elements(\n",
    "            lambda x: f\"data/google_images/tree_{x}.png\", return_dtype=pl.Utf8\n",
    "        )\n",
    "        .alias(\"tile_filename\"),\n",
    "    )\n",
    "    .select(\n",
    "        [\"id\", \"lat\", \"lon\", \"bbox\", \"wms_filename\", \"static_filename\", \"tile_filename\"]\n",
    "    )\n",
    ")"
   ]
  },
  {
   "cell_type": "code",
   "execution_count": null,
   "id": "25",
   "metadata": {},
   "outputs": [],
   "source": [
    "trees_df.write_parquet(\"data/trees_df.parquet\")"
   ]
  },
  {
   "cell_type": "markdown",
   "id": "26",
   "metadata": {},
   "source": [
    "## Load tree data if the image download didn't run"
   ]
  },
  {
   "cell_type": "code",
   "execution_count": null,
   "id": "27",
   "metadata": {},
   "outputs": [],
   "source": [
    "trees_df = pl.read_parquet(\"data/trees_df.parquet\")\n",
    "trees_df"
   ]
  },
  {
   "cell_type": "markdown",
   "id": "28",
   "metadata": {},
   "source": [
    "## Deepforest model finetuned on trees in urban areas in Berlin"
   ]
  },
  {
   "cell_type": "code",
   "execution_count": null,
   "id": "29",
   "metadata": {},
   "outputs": [],
   "source": [
    "MODEL_PATH = \"~/Downloads/model.opendata_luftbild_dop60.patch400.ckpt\"\n",
    "model = main.deepforest.load_from_checkpoint(checkpoint_path=MODEL_PATH)"
   ]
  },
  {
   "cell_type": "code",
   "execution_count": null,
   "id": "30",
   "metadata": {},
   "outputs": [],
   "source": [
    "def predict_boxes(image, **kwargs):\n",
    "    return model.predict_tile(image=image, return_plot=False, **kwargs)\n",
    "\n",
    "\n",
    "def show_boxes(image, pred_boxes, index):\n",
    "    image2 = image.copy()\n",
    "\n",
    "    for index, row in pred_boxes.iterrows():\n",
    "        cv2.rectangle(\n",
    "            image2,\n",
    "            (int(row[\"xmin\"]), int(row[\"ymin\"])),\n",
    "            (int(row[\"xmax\"]), int(row[\"ymax\"])),\n",
    "            (255, 165, 0),\n",
    "            thickness=1,\n",
    "            lineType=cv2.LINE_AA,\n",
    "        )\n",
    "\n",
    "    plt.imshow(image2)\n",
    "    plt.title(f\"Tree {index}\")\n",
    "    plt.axis(\"off\")\n",
    "    plt.show()"
   ]
  },
  {
   "cell_type": "markdown",
   "id": "31",
   "metadata": {},
   "source": [
    "#### With WMS images"
   ]
  },
  {
   "cell_type": "code",
   "execution_count": null,
   "id": "32",
   "metadata": {},
   "outputs": [],
   "source": [
    "MODEL_INFERENCE = {\"patch_size\": 5000, \"patch_overlap\": 0.9, \"iou_threshold\": 1}\n",
    "\n",
    "for index, filename in trees_df.select([\"id\", \"wms_filename\"]).rows():\n",
    "    example_image = cv2.imread(filename)\n",
    "    pred_boxes = predict_boxes(example_image, **MODEL_INFERENCE)\n",
    "    show_boxes(example_image, pred_boxes, index)"
   ]
  },
  {
   "cell_type": "markdown",
   "id": "33",
   "metadata": {},
   "source": [
    "#### With Google static images"
   ]
  },
  {
   "cell_type": "code",
   "execution_count": null,
   "id": "34",
   "metadata": {},
   "outputs": [],
   "source": [
    "MODEL_INFERENCE = {\"patch_size\": 5000, \"patch_overlap\": 0.9, \"iou_threshold\": 1}\n",
    "\n",
    "for index, filename in trees_df.select([\"id\", \"static_filename\"]).rows():\n",
    "    example_image = cv2.imread(filename)\n",
    "    pred_boxes = predict_boxes(example_image, **MODEL_INFERENCE)\n",
    "    show_boxes(example_image, pred_boxes, index)"
   ]
  },
  {
   "cell_type": "markdown",
   "id": "35",
   "metadata": {},
   "source": [
    "## Get the closest box"
   ]
  },
  {
   "cell_type": "code",
   "execution_count": null,
   "id": "36",
   "metadata": {},
   "outputs": [],
   "source": [
    "def pixel_to_epsg4326(x, y, img_width, img_height, bbox):\n",
    "    xmin, ymin, xmax, ymax = bbox\n",
    "\n",
    "    lon = xmin + (x / img_width) * (xmax - xmin)\n",
    "    lat = ymax - (y / img_height) * (ymax - ymin)  # subtract because y=0 is top\n",
    "\n",
    "    return lon, lat"
   ]
  },
  {
   "cell_type": "code",
   "execution_count": null,
   "id": "37",
   "metadata": {},
   "outputs": [],
   "source": [
    "def espg4326_to_pixel(lat, lon, bbox, img_size):\n",
    "    xmin, ymin, xmax, ymax = bbox\n",
    "    width, height = img_size\n",
    "\n",
    "    x_frac = (lon - xmin) / (xmax - xmin)\n",
    "    y_frac = 1 - (lat - ymin) / (ymax - ymin)  # Invert y-axis (lat increases upward)\n",
    "\n",
    "    x_pixel = int(x_frac * width)\n",
    "    y_pixel = int(y_frac * height)\n",
    "\n",
    "    return x_pixel, y_pixel"
   ]
  },
  {
   "cell_type": "markdown",
   "id": "38",
   "metadata": {},
   "source": [
    "#### With WMS images"
   ]
  },
  {
   "cell_type": "code",
   "execution_count": null,
   "id": "39",
   "metadata": {},
   "outputs": [],
   "source": [
    "img_width, img_height = IMG_SIZE\n",
    "MODEL_INFERENCE = {\"patch_size\": 5000, \"patch_overlap\": 0.9, \"iou_threshold\": 1}\n",
    "\n",
    "wms_stats = []\n",
    "\n",
    "for index, lat, lon, bbox, wms_filename, _, _ in trees_df.rows():\n",
    "    image = cv2.imread(wms_filename)\n",
    "    pred_boxes = predict_boxes(image, **MODEL_INFERENCE)\n",
    "\n",
    "    image2 = image.copy()\n",
    "    distances = []\n",
    "    other_boxes = []\n",
    "    for _, row in pred_boxes.iterrows():\n",
    "        x_center = (row[\"xmin\"] + row[\"xmax\"]) / 2\n",
    "        y_center = (row[\"ymin\"] + row[\"ymax\"]) / 2\n",
    "        pred_lon, pred_lat = pixel_to_epsg4326(\n",
    "            x_center, y_center, img_width, img_height, bbox\n",
    "        )\n",
    "        box_dist = geodesic((pred_lat, pred_lon), (lat, lon)).meters\n",
    "        pred_box = (row[\"xmin\"], row[\"ymin\"], row[\"xmax\"], row[\"ymax\"])\n",
    "        distances.append(((pred_lat, pred_lon), box_dist, pred_box))\n",
    "\n",
    "    distances.sort(key=lambda x: x[1])\n",
    "    image3 = image.copy()\n",
    "\n",
    "    best_box = distances[0][2]\n",
    "    best_dist = distances[0][1]\n",
    "    cv2.rectangle(\n",
    "        image3,\n",
    "        (int(best_box[0]), int(best_box[1])),\n",
    "        (int(best_box[2]), int(best_box[3])),\n",
    "        (255, 165, 0),\n",
    "        thickness=1,\n",
    "        lineType=cv2.LINE_AA,\n",
    "    )\n",
    "\n",
    "    x_pixel, y_pixel = espg4326_to_pixel(lat, lon, bbox, IMG_SIZE)\n",
    "    cv2.circle(image3, (x_pixel, y_pixel), radius=5, color=(0, 0, 255), thickness=-1)\n",
    "\n",
    "    wms_stats.append(best_dist)\n",
    "\n",
    "    print(lat, lon)\n",
    "    plt.imshow(image3)\n",
    "    plt.title(f\"Tree {index}; distance = {best_dist:.2f}m\")\n",
    "    plt.axis(\"off\")\n",
    "    plt.show()"
   ]
  },
  {
   "cell_type": "markdown",
   "id": "40",
   "metadata": {},
   "source": [
    "#### With Google static images"
   ]
  },
  {
   "cell_type": "code",
   "execution_count": null,
   "id": "41",
   "metadata": {},
   "outputs": [],
   "source": [
    "# double image size because scale=2 was used to get the image\n",
    "# (twice as many pixels for the same area) for better quality\n",
    "img_size = (IMG_SIZE[0] * 2, IMG_SIZE[1] * 2)\n",
    "img_width, img_height = img_size\n",
    "MODEL_INFERENCE = {\"patch_size\": 5000, \"patch_overlap\": 0.9, \"iou_threshold\": 1}\n",
    "static_stats = []\n",
    "\n",
    "for index, lat, lon, bbox, _, static_filename, _ in trees_df.rows():\n",
    "    image = cv2.imread(static_filename)\n",
    "    pred_boxes = predict_boxes(image, **MODEL_INFERENCE)\n",
    "\n",
    "    image2 = image.copy()\n",
    "    distances = []\n",
    "    other_boxes = []\n",
    "    for _, row in pred_boxes.iterrows():\n",
    "        x_center = (row[\"xmin\"] + row[\"xmax\"]) / 2\n",
    "        y_center = (row[\"ymin\"] + row[\"ymax\"]) / 2\n",
    "        pred_lon, pred_lat = pixel_to_epsg4326(\n",
    "            x_center, y_center, img_width, img_height, bbox\n",
    "        )\n",
    "        box_dist = geodesic((pred_lat, pred_lon), (lat, lon)).meters\n",
    "        pred_box = (row[\"xmin\"], row[\"ymin\"], row[\"xmax\"], row[\"ymax\"])\n",
    "        distances.append(((pred_lat, pred_lon), box_dist, pred_box))\n",
    "\n",
    "    distances.sort(key=lambda x: x[1])\n",
    "    image3 = image.copy()\n",
    "\n",
    "    best_box = distances[0][2]\n",
    "    best_dist = distances[0][1]\n",
    "    cv2.rectangle(\n",
    "        image3,\n",
    "        (int(best_box[0]), int(best_box[1])),\n",
    "        (int(best_box[2]), int(best_box[3])),\n",
    "        (255, 165, 0),\n",
    "        thickness=2,\n",
    "        lineType=cv2.LINE_AA,\n",
    "    )\n",
    "\n",
    "    x_pixel, y_pixel = espg4326_to_pixel(lat, lon, bbox, img_size)\n",
    "    cv2.circle(image3, (x_pixel, y_pixel), radius=10, color=(0, 0, 255), thickness=-1)\n",
    "\n",
    "    static_stats.append(best_dist)\n",
    "\n",
    "    print(lat, lon)\n",
    "    plt.imshow(image3)\n",
    "    plt.title(f\"Tree {index}; distance = {best_dist:.2f}m\")\n",
    "    plt.axis(\"off\")\n",
    "    plt.show()"
   ]
  },
  {
   "cell_type": "markdown",
   "id": "42",
   "metadata": {},
   "source": [
    "## Plot distances from true coordinates"
   ]
  },
  {
   "cell_type": "code",
   "execution_count": null,
   "id": "43",
   "metadata": {},
   "outputs": [],
   "source": [
    "color = \"#00625E\"\n",
    "\n",
    "max_distance = max(max(wms_stats), max(static_stats))\n",
    "max_distance_rounded = math.ceil(max_distance)\n",
    "\n",
    "bins = list(range(0, max_distance_rounded + 1))\n",
    "\n",
    "fig, (ax1, ax2) = plt.subplots(2, 1, sharex=True, figsize=(6, 6), height_ratios=[1, 1])\n",
    "fig.subplots_adjust(hspace=0.1)\n",
    "\n",
    "ax1.hist(wms_stats, bins=bins, color=color, label=\"WMS images\")\n",
    "ax1.set_title(\"WMS error distribution\")\n",
    "ax1.set_ylabel(\"Count\")\n",
    "ax1.legend(loc=\"best\")\n",
    "\n",
    "ax2.hist(static_stats, bins=bins, color=color, label=\"Google static API images\")\n",
    "ax2.set_title(\"Static error distribution\")\n",
    "ax2.set_ylabel(\"Count\")\n",
    "ax2.legend(loc=\"best\")\n",
    "ax2.set_xlabel(\"Distance from true point (meters)\")\n",
    "\n",
    "ax2.set_xticks(bins)\n",
    "\n",
    "plt.tight_layout()\n",
    "plt.savefig(\"data/distance_histograms.png\", dpi=300, bbox_inches=\"tight\")\n",
    "plt.show()"
   ]
  },
  {
   "cell_type": "markdown",
   "id": "44",
   "metadata": {},
   "source": [
    "## Find outliers"
   ]
  },
  {
   "cell_type": "code",
   "execution_count": null,
   "id": "45",
   "metadata": {},
   "outputs": [],
   "source": [
    "(\n",
    "    data.filter(pl.col(\"name\").is_not_null())\n",
    "    .with_columns(\n",
    "        lat=pl.col(\"point\")\n",
    "        .str.split(\"(\")\n",
    "        .list.get(1)\n",
    "        .str.split(\")\")\n",
    "        .list.get(0)\n",
    "        .str.split(\" \")\n",
    "        .list.get(1)\n",
    "        .cast(pl.Float64),\n",
    "        lon=pl.col(\"point\")\n",
    "        .str.split(\"(\")\n",
    "        .list.get(1)\n",
    "        .str.split(\")\")\n",
    "        .list.get(0)\n",
    "        .str.split(\" \")\n",
    "        .list.get(0)\n",
    "        .cast(pl.Float64),\n",
    "    )\n",
    "    .sort(\"lon\")\n",
    ")"
   ]
  },
  {
   "cell_type": "code",
   "execution_count": null,
   "id": "46",
   "metadata": {},
   "outputs": [],
   "source": []
  }
 ],
 "metadata": {
  "kernelspec": {
   "display_name": "Python 3 (ipykernel)",
   "language": "python",
   "name": "python3"
  },
  "language_info": {
   "codemirror_mode": {
    "name": "ipython",
    "version": 3
   },
   "file_extension": ".py",
   "mimetype": "text/x-python",
   "name": "python",
   "nbconvert_exporter": "python",
   "pygments_lexer": "ipython3",
   "version": "3.11.9"
  }
 },
 "nbformat": 4,
 "nbformat_minor": 5
}
