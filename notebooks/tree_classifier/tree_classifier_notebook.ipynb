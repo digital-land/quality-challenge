{
 "cells": [
  {
   "cell_type": "markdown",
   "id": "0",
   "metadata": {},
   "source": [
    "# Tree identification challenge\n",
    "\n",
    "This notebook shows a solution to the challenge of verifying whether a coordinate point in tree protection order data corresponds to a real tree.\n",
    "\n",
    "### 1. Satellite images\n",
    "\n",
    "The first part of the challenge is getting satellite images of the area of interest. This notebook shows how to download high resolution satellite images using 3 different sources: a WMS service, Google map tiles service and Google static maps service.\n",
    "\n",
    "### 2. Tree detection\n",
    "\n",
    "Once the satellite image is downloaded we use a model to identify all trees in the image. The model will create a box around every tree and return pixel values bounding the box. This notebook shows what that looks like for different images.\n",
    "\n",
    "### 3. Flagging issues\n",
    "\n",
    "We calculate the distances between every tree box and the original point, and sort them. If the point marks a real tree, the closest box should be within a pre-defined distance of the point. This distance is configurable but 10 metres seems to be a good balance between allowing some noise due to factors like shadows, dense trees etc. If the closest box is further, we flag the data point for review."
   ]
  },
  {
   "cell_type": "code",
   "execution_count": null,
   "id": "1",
   "metadata": {},
   "outputs": [],
   "source": [
    "%load_ext autoreload\n",
    "%autoreload 2"
   ]
  },
  {
   "cell_type": "code",
   "execution_count": null,
   "id": "2",
   "metadata": {},
   "outputs": [],
   "source": [
    "import os\n",
    "\n",
    "import polars as pl\n",
    "import requests\n",
    "from dotenv import load_dotenv\n",
    "from IPython.display import Image, display\n",
    "from matplotlib import pyplot as plt\n",
    "\n",
    "from data_quality_utils.map_extractor import (\n",
    "    GoogleMapTilesExtractor,\n",
    "    GoogleStaticMapsExtractor,\n",
    "    WMSExtractor,\n",
    ")\n",
    "from data_quality_utils.tree_finder import TreeFinder, show_image, show_stats"
   ]
  },
  {
   "cell_type": "code",
   "execution_count": null,
   "id": "3",
   "metadata": {},
   "outputs": [],
   "source": [
    "# load environment variables\n",
    "load_dotenv()\n",
    "api_key = os.environ.get(\"GOOGLE_MAPS_API_KEY\")\n",
    "wms_url = os.environ.get(\"WMS_URL\")"
   ]
  },
  {
   "cell_type": "code",
   "execution_count": null,
   "id": "4",
   "metadata": {},
   "outputs": [],
   "source": [
    "# define global variables\n",
    "IMG_SIZE = (500, 500)\n",
    "SCALE = 2\n",
    "ZOOM = 18\n",
    "OFFSET = 0.0005"
   ]
  },
  {
   "cell_type": "markdown",
   "id": "5",
   "metadata": {},
   "source": [
    "### Get tree data from `planning.data.gov.uk`"
   ]
  },
  {
   "cell_type": "code",
   "execution_count": null,
   "id": "6",
   "metadata": {},
   "outputs": [],
   "source": [
    "planning_base_csv_url = \"https://files.planning.data.gov.uk/\"\n",
    "dataset = \"tree\"\n",
    "r = requests.get(f\"{planning_base_csv_url}dataset/{dataset}.csv\")\n",
    "\n",
    "filename = \"data/trees.csv\"\n",
    "with open(filename, \"wb\") as f_out:\n",
    "    f_out.write(r.content)"
   ]
  },
  {
   "cell_type": "code",
   "execution_count": null,
   "id": "7",
   "metadata": {},
   "outputs": [],
   "source": [
    "data = pl.read_csv(filename).select([\"name\", \"point\", \"address-text\"])\n",
    "data"
   ]
  },
  {
   "cell_type": "code",
   "execution_count": null,
   "id": "8",
   "metadata": {},
   "outputs": [],
   "source": [
    "# a single example to demonstrate functionality\n",
    "example_tree = data[765]"
   ]
  },
  {
   "cell_type": "markdown",
   "id": "9",
   "metadata": {},
   "source": [
    "# 1. Satellite images\n",
    "\n",
    "The section below shows 3 ways to download satellite images and describes their pros and cons.\n",
    "\n",
    "Each `Extractor` requires specific parameters described in the sections below. When downloading the map image, these will be saved as `json` metadata under the same name as the image to make tree detection easier."
   ]
  },
  {
   "cell_type": "markdown",
   "id": "10",
   "metadata": {},
   "source": [
    "## Download images from WMS\n",
    "\n",
    "This cells shows how to use the `WMSExtractor` to download images. \n",
    "\n",
    "WMS stands for Web Map Service. A WMS server exposes satellite imagery from various providers (e.g. OpenStreetMap, Airbus, ...) and is accessible via a link to the server. These servers can be public or private and the specific service you use will determine what types of imagery you can access. Users can send requests to a WMS server via a GIS (geographic information system) client - in this case the `owslib` library in Python.\n",
    "\n",
    "The map layer used in this project uses the WGS84 / EPSG4326 projection. EPSG4326 is a geographic coordinate system that represents locations on Earth using latitude and longitude in degrees, based on a spherical model of the planet. It’s the standard used by GPS and most web maps for referencing geographic positions.\n",
    "\n",
    "The WMS link for this project was provided by Paul but any valid link will work. For a different link you might need to update the map layer based on what's available, in this project we use \"APGB_Latest_UK_125mm\". Make sure to create the `.env` file (based on the `env.example` template) with a WMS link so the extractor can be loaded properly while keeping the link secret.\n",
    "\n",
    "#### Params\n",
    "\n",
    "The extractor needs:\n",
    "\n",
    "- `lat`: latitude coordinate\n",
    "- `lon`: longiture coordinate\n",
    "- `offset`: how far away in each direction to go from the point\n",
    "- `img_size`: image size, default is [500, 500]\n",
    "\n",
    "#### Pros\n",
    "\n",
    "- good quality images\n",
    "- no usage limit\n",
    "\n",
    "#### Cons\n",
    "\n",
    "- image quality sometimes distorted due to shadows and other issues"
   ]
  },
  {
   "cell_type": "code",
   "execution_count": null,
   "id": "11",
   "metadata": {},
   "outputs": [],
   "source": [
    "point = example_tree.get_column(\"point\")[0].split(\"(\")[1].split(\")\")[0]\n",
    "lon, lat = map(float, point.split(\" \"))\n",
    "filename = \"data/wms_images/example_tree.png\"\n",
    "\n",
    "map_extractor = WMSExtractor(wms_url)\n",
    "map_extractor.download_image(lat, lon, offset=OFFSET, filename=filename)\n",
    "display(Image(filename, width=500))"
   ]
  },
  {
   "cell_type": "markdown",
   "id": "12",
   "metadata": {},
   "source": [
    "### Download images from Google map tiles\n",
    "\n",
    "This cell shows how to use the `GoogleMapTilesExtractor` to download images.\n",
    "\n",
    "Google Map Tiles API provides access to map imagery by exposing pre-rendered tiles that can be retrieved using standard web requests. Each tile represents a fixed-size image (typically 256×256 pixels) corresponding to a specific zoom level and map coordinate (X, Y). Map tiles can be retrieved and assembled to create composite images.\n",
    "\n",
    "These tiles follow a global tiling scheme based on the Web Mercator projection (EPSG3857). It represents the Earth as a flat, square map using meters as units, distorting areas near the poles but preserving shape and direction for ease of visualization and tile-based rendering.\n",
    "\n",
    "##### Usage limits\n",
    "\n",
    "You need a Google maps API key to use the `GoogleMapTilesExtractor`. You can find the key in cloud console under APIs and services/Credentials. Detailed instructions can be found [here](https://developers.google.com/maps/documentation/tile/get-api-key-v2?_gl=1*n3ilib*_up*MQ..*_ga*MTM5OTgxMDYxNC4xNzQzNjg2OTg5*_ga_NRWSTWS78N*MTc0MzY4Njk4OC4xLjEuMTc0MzY4Njk5Ny4wLjAuMA..&hl=en&setupProd=prerequisites). Make sure to create the `.env` file (based on the `env.example` template) with a valid Google Maps API key.\n",
    "\n",
    "Free usage limit for this API is 100,000 requests per month. After that your GCP project will start getting charged. \n",
    "\n",
    "Do not run this on the whole dataset.\n",
    "\n",
    "#### Params\n",
    "\n",
    "The extractor needs:\n",
    "\n",
    "- `lat`: latitude coordinate\n",
    "- `lon`: longiture coordinate\n",
    "- `zoom`: zoom value, higher values are closer up\n",
    "\n",
    "#### Pros\n",
    "\n",
    "- relatively high free usage limit\n",
    "\n",
    "#### Cons\n",
    "\n",
    "- image quality worse than WMS\n",
    "- paid service\n",
    "- coordinates must be converted to the EPSG3857 projection\n",
    "- point of interest not centered by default, requires more processing"
   ]
  },
  {
   "cell_type": "code",
   "execution_count": null,
   "id": "13",
   "metadata": {},
   "outputs": [],
   "source": [
    "point = example_tree.get_column(\"point\")[0].split(\"(\")[1].split(\")\")[0]\n",
    "lon, lat = map(float, point.split(\" \"))\n",
    "filename = \"data/google_tiles_images/example_tree.png\"\n",
    "\n",
    "map_extractor = GoogleMapTilesExtractor(api_key)\n",
    "map_extractor.download_image(lat, lon, zoom=ZOOM, filename=filename)\n",
    "display(Image(filename, width=500))"
   ]
  },
  {
   "cell_type": "markdown",
   "id": "14",
   "metadata": {},
   "source": [
    "## Download images from Google static maps\n",
    "\n",
    "This cell shows how to use the `GoogleStaticMapsExtractor` to download images.\n",
    "\n",
    "Google Static Maps API provides an interface for retrieving static map images via HTTP requests. Unlike the tile-based system, this API returns a single map image of customizable size and scale, centered around a specific latitude and longitude. The imagery can include different map types such as satellite, roadmap, terrain, or hybrid.\n",
    "\n",
    "Static maps use the WGS84 geographic coordinate system (EPSG4326) for specifying locations, however it uses EPSG3857 internally so some conversion is needed when calculating distances between point on the image.\n",
    "\n",
    "##### Usage limits\n",
    "\n",
    "You need a Google maps API key to use the `GoogleStaticMapsExtractor`. You can find the key in cloud console under APIs and services/Credentials. Detailed instructions can be found [here](https://developers.google.com/maps/documentation/tile/get-api-key-v2?_gl=1*n3ilib*_up*MQ..*_ga*MTM5OTgxMDYxNC4xNzQzNjg2OTg5*_ga_NRWSTWS78N*MTc0MzY4Njk4OC4xLjEuMTc0MzY4Njk5Ny4wLjAuMA..&hl=en&setupProd=prerequisites). Make sure to create the `.env` file (based on the `env.example` template) with a valid Google Maps API key.\n",
    "\n",
    "Free usage limit for this API is 10,000 requests per month. After that your GCP project will start getting charged. \n",
    "\n",
    "Do not run this on the whole dataset.\n",
    "\n",
    "#### Params\n",
    "\n",
    "The extractor needs:\n",
    "\n",
    "- `lat`: latitude coordinate\n",
    "- `lon`: longiture coordinate\n",
    "- `zoom`: zoom value, higher values are closer up\n",
    "- `scale`: (1 or 2) image quality - 2 will double the pixel number\n",
    "- `img_size`: image size, default is [500, 500]\n",
    "\n",
    "#### Pros\n",
    "\n",
    "- best quality images\n",
    "\n",
    "#### Cons\n",
    "\n",
    "- low free usage limit, can be expensive"
   ]
  },
  {
   "cell_type": "code",
   "execution_count": null,
   "id": "15",
   "metadata": {},
   "outputs": [],
   "source": [
    "point = example_tree.get_column(\"point\")[0].split(\"(\")[1].split(\")\")[0]\n",
    "lon, lat = map(float, point.split(\" \"))\n",
    "filename = \"data/google_static_images/example_tree.png\"\n",
    "\n",
    "map_extractor = GoogleStaticMapsExtractor(api_key)\n",
    "map_extractor.download_image(\n",
    "    lat, lon, zoom=ZOOM, scale=SCALE, img_size=IMG_SIZE, filename=filename\n",
    ")\n",
    "display(Image(filename, width=500))"
   ]
  },
  {
   "cell_type": "markdown",
   "id": "16",
   "metadata": {},
   "source": [
    "# 2. Tree detection\n",
    "\n",
    "This section shows how to use the `TreeFinder` to detect all trees in an image. \n",
    "\n",
    "We use a pre-train `deepforest` model to detect all trees in an image. The specific checkpoint was fine-tuned on trees in urban areas of Berlin making it much better at recognising the trees from out tree protection order data. The model will put a bounding box around each identified tree, shown in orange.\n",
    "\n",
    "The `find_all_trees` function acepts a filename and returns in image as a numpy array. The result images will have all the trees marked by boxed. You can use the `show_image` function to display the resulting image and give it a name if you wish.\n",
    "\n",
    "This is not a full solution, but it gives an idea of which trees are being detected."
   ]
  },
  {
   "cell_type": "code",
   "execution_count": null,
   "id": "17",
   "metadata": {},
   "outputs": [],
   "source": [
    "# create a Tree finder\n",
    "tree_finder = TreeFinder()"
   ]
  },
  {
   "cell_type": "markdown",
   "id": "18",
   "metadata": {},
   "source": [
    "#### Trees detected in WMS images"
   ]
  },
  {
   "cell_type": "code",
   "execution_count": null,
   "id": "19",
   "metadata": {},
   "outputs": [],
   "source": [
    "filename = \"data/wms_images/example_tree.png\"\n",
    "image = tree_finder.find_all_trees(filename)\n",
    "show_image(image)"
   ]
  },
  {
   "cell_type": "code",
   "execution_count": null,
   "id": "20",
   "metadata": {},
   "outputs": [],
   "source": [
    "filename = \"data/google_tiles_images/example_tree.png\"\n",
    "image = tree_finder.find_all_trees(filename)\n",
    "show_image(image)"
   ]
  },
  {
   "cell_type": "markdown",
   "id": "21",
   "metadata": {},
   "source": [
    "#### Trees detected in Google static images"
   ]
  },
  {
   "cell_type": "code",
   "execution_count": null,
   "id": "22",
   "metadata": {},
   "outputs": [],
   "source": [
    "filename = \"data/google_static_images/example_tree.png\"\n",
    "image = tree_finder.find_all_trees(filename)\n",
    "show_image(image)"
   ]
  },
  {
   "cell_type": "markdown",
   "id": "23",
   "metadata": {},
   "source": [
    "#### Trees detected in Google tiles images"
   ]
  },
  {
   "cell_type": "markdown",
   "id": "24",
   "metadata": {},
   "source": [
    "# 3. Flagging issues\n",
    "\n",
    "This section shows how to use the `TreeFinder` to find the closest tree to a data point. The model will execute these steps:\n",
    "\n",
    "1. First we will use the `deepforest` model to identify all trees as described in section 2. Next we have to calculate the distance between each box and the original tree point. We use the centre of the box for the calculation.\n",
    "\n",
    "2. Since the model returns the tree boxes as pixel values, we first convert these back into the EPSG4326 coordinate system. This is done differently based on what projection the underlying map provider uses.\n",
    "\n",
    "3. We use the geodesic distance for calculations. This will give us a precise \"as the crow flies\" distance. We then sort the distances and pick the shortest one.\n",
    "\n",
    "4. We apply a flag threshold to determine which boxes are far enough to require manual review. The flag threshold is configurable, we found 10m to work quite well.\n",
    "\n",
    "The `find_closest_tree` function accepts these parameters:\n",
    "\n",
    "- `filename`: the path to an image\n",
    "- `convert_coords`: whether a conversion between projection systems is needed. `False` for WMSExtractor, `True` for Google extractors\n",
    "- `flag_threshold`: minimum distance to flag\n",
    "\n",
    "It returns 3 values:\n",
    "\n",
    "- `distance`: the shortest distance box\n",
    "- `flagged`: whether this tree was flagged given some `flag_threshold`\n",
    "- `image`: the resulting image as a numpy array with the closest box and original tree point marked\n",
    "\n",
    "Since the `Extractors` also save metadata about every image, you do not need to provide any coordinates or other parameters to the `TreeFinder`. It will automatically load the settings used to extract each image and use them where needed.\n",
    "\n",
    "The section below shows the results with WMS and Google static images. Due to low quality of Google map tiles images and difficulty working with them (due to centering) this image is skipped."
   ]
  },
  {
   "cell_type": "markdown",
   "id": "25",
   "metadata": {},
   "source": [
    "#### Closest tree with WMS image"
   ]
  },
  {
   "cell_type": "code",
   "execution_count": null,
   "id": "26",
   "metadata": {},
   "outputs": [],
   "source": [
    "filename = \"data/wms_images/example_tree.png\"\n",
    "\n",
    "dist, flagged, image = tree_finder.find_closest_tree(\n",
    "    filename=filename,\n",
    "    convert_coords=False,\n",
    "    flag_threshold=10,\n",
    ")\n",
    "title = f\"Distance = {dist:.2f}m\\nFlagged for review = {flagged}\"\n",
    "show_image(\n",
    "    image, title, save=True, save_path=f\"data/result_images/wms_example_tree.png\"\n",
    ")"
   ]
  },
  {
   "cell_type": "markdown",
   "id": "27",
   "metadata": {},
   "source": [
    "#### Closest tree with Google static image"
   ]
  },
  {
   "cell_type": "code",
   "execution_count": null,
   "id": "28",
   "metadata": {},
   "outputs": [],
   "source": [
    "filename = \"data/google_static_images/example_tree.png\"\n",
    "\n",
    "dist, flagged, image = tree_finder.find_closest_tree(\n",
    "    filename=filename,\n",
    "    convert_coords=True,\n",
    "    flag_threshold=10,\n",
    ")\n",
    "title = f\"Distance = {dist:.2f}m\\nFlagged for review = {flagged}\"\n",
    "show_image(\n",
    "    image, title, save=True, save_path=f\"data/result_images/static_example_tree.png\"\n",
    ")"
   ]
  },
  {
   "cell_type": "markdown",
   "id": "29",
   "metadata": {},
   "source": [
    "## Compare multiple examples side by side\n",
    "\n",
    "Finally the section below shows the results of a few selected examples.\n",
    "\n",
    "The performance varies as a result of image quality - one extractor clearly outperforms the other one in some cases but fails in others. Most trees are still detected correctly, as well as correctly flagging cases when the data point doesn't seem to mark a tree or is very far off."
   ]
  },
  {
   "cell_type": "code",
   "execution_count": null,
   "id": "30",
   "metadata": {},
   "outputs": [],
   "source": [
    "# pick some example trees\n",
    "example_indices = [\n",
    "    765,\n",
    "    7865,\n",
    "    8030,\n",
    "    12458,\n",
    "    14120,\n",
    "    17346,\n",
    "    20745,\n",
    "    21555,\n",
    "    22483,\n",
    "    24920,\n",
    "    26152,\n",
    "    31622,\n",
    "    35518,\n",
    "    41236,\n",
    "    46031,\n",
    "    56861,\n",
    "    57073,\n",
    "    63443,\n",
    "    71083,\n",
    "    80506,\n",
    "    81889,\n",
    "    84328,\n",
    "]"
   ]
  },
  {
   "cell_type": "code",
   "execution_count": null,
   "id": "31",
   "metadata": {},
   "outputs": [],
   "source": [
    "for example_index in example_indices:\n",
    "    point = data.get_column(\"point\")[example_index].split(\"(\")[1].split(\")\")[0]\n",
    "    lon, lat = map(float, point.split(\" \"))\n",
    "\n",
    "    wms_filename = f\"data/wms_images/tree_{example_index}.png\"\n",
    "    # wms_extractor = WMSExtractor(wms_url)\n",
    "    # wms_extractor.download_image(lat, lon, offset=OFFSET, img_size=IMG_SIZE, filename=wms_filename)\n",
    "\n",
    "    wms_dist, wms_flagged, wms_image = tree_finder.find_closest_tree(\n",
    "        filename=wms_filename,\n",
    "        convert_coords=False,\n",
    "        flag_threshold=10,\n",
    "    )\n",
    "\n",
    "    static_filename = f\"data/google_static_images/tree_{example_index}.png\"\n",
    "    # static_extractor = GoogleStaticMapsExtractor(api_key)\n",
    "    # static_extractor.download_image(lat, lon, zoom=ZOOM, scale=SCALE, img_size=IMG_SIZE, filename=static_filename)\n",
    "\n",
    "    static_dist, static_flagged, static_image = tree_finder.find_closest_tree(\n",
    "        filename=static_filename,\n",
    "        convert_coords=True,\n",
    "        flag_threshold=10,\n",
    "    )\n",
    "\n",
    "    images = [wms_image, static_image]\n",
    "    wms_title = f\"Tree {example_index}\\nDistance = {wms_dist:.2f}m\\nFlagged for review = {wms_flagged}\"\n",
    "    static_title = f\"Tree {example_index}\\nDistance = {static_dist:.2f}m\\nFlagged for review = {static_flagged}\"\n",
    "    titles = [wms_title, static_title]\n",
    "    show_image(\n",
    "        images,\n",
    "        titles,\n",
    "        save=True,\n",
    "        save_path=f\"data/result_images/tree_{example_index}.png\",\n",
    "    )"
   ]
  },
  {
   "cell_type": "markdown",
   "id": "32",
   "metadata": {},
   "source": [
    "## Plot distances from true coordinates\n",
    "\n",
    "This section plots a histogram of the distances obtained over the example images. The performance is comparable."
   ]
  },
  {
   "cell_type": "code",
   "execution_count": null,
   "id": "33",
   "metadata": {},
   "outputs": [],
   "source": [
    "wms_stats = []\n",
    "static_stats = []\n",
    "for example_index in example_indices:\n",
    "    point = data.get_column(\"point\")[example_index].split(\"(\")[1].split(\")\")[0]\n",
    "    lon, lat = map(float, point.split(\" \"))\n",
    "\n",
    "    wms_filename = f\"data/wms_images/tree_{example_index}.png\"\n",
    "    wms_dist, wms_flagged, wms_image = tree_finder.find_closest_tree(\n",
    "        filename=wms_filename,\n",
    "        convert_coords=False,\n",
    "        flag_threshold=10,\n",
    "    )\n",
    "    wms_stats.append(wms_dist)\n",
    "\n",
    "    static_filename = f\"data/google_static_images/tree_{example_index}.png\"\n",
    "    static_dist, static_flagged, static_image = tree_finder.find_closest_tree(\n",
    "        filename=static_filename,\n",
    "        convert_coords=True,\n",
    "        flag_threshold=10,\n",
    "    )\n",
    "    static_stats.append(static_dist)"
   ]
  },
  {
   "cell_type": "code",
   "execution_count": null,
   "id": "34",
   "metadata": {},
   "outputs": [],
   "source": [
    "show_stats({\"wms\": wms_stats, \"static\": static_stats})"
   ]
  },
  {
   "cell_type": "code",
   "execution_count": null,
   "id": "35",
   "metadata": {},
   "outputs": [],
   "source": []
  }
 ],
 "metadata": {
  "kernelspec": {
   "display_name": "quality-challenge-7gqK3ydY-py3.11",
   "language": "python",
   "name": "python3"
  },
  "language_info": {
   "codemirror_mode": {
    "name": "ipython",
    "version": 3
   },
   "file_extension": ".py",
   "mimetype": "text/x-python",
   "name": "python",
   "nbconvert_exporter": "python",
   "pygments_lexer": "ipython3",
   "version": "3.11.9"
  }
 },
 "nbformat": 4,
 "nbformat_minor": 5
}
