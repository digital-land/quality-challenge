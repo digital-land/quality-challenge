{
 "cells": [
  {
   "cell_type": "code",
   "execution_count": null,
   "metadata": {},
   "outputs": [],
   "source": [
    "import os\n",
    "import urllib\n",
    "\n",
    "import contextily as ctx\n",
    "import folium\n",
    "import geopandas as gpd\n",
    "import matplotlib.pyplot as plt\n",
    "import numpy as np\n",
    "import polars as pl\n",
    "import requests\n",
    "import seaborn as sns\n",
    "from shapely.wkt import loads"
   ]
  },
  {
   "cell_type": "code",
   "execution_count": null,
   "metadata": {},
   "outputs": [],
   "source": [
    "# get data from datasette\n",
    "datasette_base_url = \"https://datasette.planning.data.gov.uk/conservation-area.csv\"\n",
    "\n",
    "query = \"\"\"\n",
    "select * \n",
    "from entity\n",
    "\"\"\"\n",
    "encoded_query = urllib.parse.urlencode({\"sql\": query})\n",
    "\n",
    "r = requests.get(f\"{datasette_base_url}?{encoded_query}\", auth=(\"user\", \"pass\"))\n",
    "\n",
    "filename = \"datasette_data.csv\"\n",
    "with open(filename, \"wb\") as f_out:\n",
    "    f_out.write(r.content)"
   ]
  },
  {
   "cell_type": "code",
   "execution_count": null,
   "metadata": {},
   "outputs": [],
   "source": [
    "data = pl.read_csv(filename)"
   ]
  },
  {
   "cell_type": "code",
   "execution_count": null,
   "metadata": {},
   "outputs": [],
   "source": [
    "data[1]"
   ]
  },
  {
   "cell_type": "code",
   "execution_count": null,
   "metadata": {},
   "outputs": [],
   "source": [
    "type(data[\"geometry\"][0]), data[\"geometry\"][0]"
   ]
  },
  {
   "cell_type": "code",
   "execution_count": null,
   "metadata": {},
   "outputs": [],
   "source": [
    "multipolygon_geom = loads(data[\"geometry\"][1])"
   ]
  },
  {
   "cell_type": "code",
   "execution_count": null,
   "metadata": {},
   "outputs": [],
   "source": [
    "multipolygon_geom"
   ]
  },
  {
   "cell_type": "code",
   "execution_count": null,
   "metadata": {},
   "outputs": [],
   "source": [
    "data[3]"
   ]
  },
  {
   "cell_type": "code",
   "execution_count": null,
   "metadata": {},
   "outputs": [],
   "source": [
    "multipolygon_geom = loads(data[\"geometry\"][100])\n",
    "geometries = [multipolygon_geom]\n",
    "data_point = {\"id\": [1]}\n",
    "\n",
    "gdf = gpd.GeoDataFrame(data_point, geometry=geometries, crs=\"EPSG:4326\")\n",
    "\n",
    "gdf_web_mercator = gdf.to_crs(epsg=3857)\n",
    "\n",
    "fig = plt.figure()\n",
    "\n",
    "# ax = gdf_web_mercator.plot(figsize=(10, 10), alpha=0.5, edgecolor=\"k\")\n",
    "# ctx.add_basemap(ax, source=ctx.providers.OpenStreetMap.Mapnik)\n",
    "# ax.set_axis_off()\n",
    "\n",
    "# gdf_web_mercator = gdf.to_crs(epsg=3857)\n",
    "\n",
    "ax = gdf_web_mercator.plot(figsize=(10, 10), alpha=0.5, edgecolor=\"k\")\n",
    "ctx.add_basemap(ax, source=ctx.providers.Esri.WorldImagery)\n",
    "# ctx.add_basemap(ax, source=ctx.providers.OpenStreetMap.Mapnik)\n",
    "\n",
    "ax.set_axis_off()\n",
    "plt.show()"
   ]
  },
  {
   "cell_type": "code",
   "execution_count": null,
   "metadata": {},
   "outputs": [],
   "source": [
    "# multipolygon_geom.area"
   ]
  },
  {
   "cell_type": "code",
   "execution_count": null,
   "metadata": {},
   "outputs": [],
   "source": [
    "m = gdf.explore(\n",
    "    tooltip=\"id\",  # Show the 'id' column on hover/click\n",
    "    tiles=\"OpenStreetMap\",\n",
    "    style_kwds=dict(color=\"blue\", weight=2, opacity=0.7),\n",
    ")"
   ]
  },
  {
   "cell_type": "code",
   "execution_count": null,
   "metadata": {},
   "outputs": [],
   "source": [
    "m"
   ]
  },
  {
   "cell_type": "code",
   "execution_count": null,
   "metadata": {},
   "outputs": [],
   "source": []
  }
 ],
 "metadata": {
  "kernelspec": {
   "display_name": "quality-challenge-OS-ME5O1-py3.11",
   "language": "python",
   "name": "python3"
  },
  "language_info": {
   "codemirror_mode": {
    "name": "ipython",
    "version": 3
   },
   "file_extension": ".py",
   "mimetype": "text/x-python",
   "name": "python",
   "nbconvert_exporter": "python",
   "pygments_lexer": "ipython3",
   "version": "3.11.9"
  }
 },
 "nbformat": 4,
 "nbformat_minor": 2
}
