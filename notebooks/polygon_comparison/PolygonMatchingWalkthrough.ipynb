{
 "cells": [
  {
   "cell_type": "markdown",
   "id": "0",
   "metadata": {},
   "source": [
    "# Polygon Matching Walkthrough\n",
    "\n",
    "In this notebook we show how to utilse our PolgonMatcher class to find areas where existing conservation area boundaries do not match polygons found via other resources such as Open Street Map or OS Zoomstack. \n",
    "\n",
    "This is done by 'snapping' our existing boundary to nearby polygon features such as woods, residential areas and similar. We produce a new boundary polygon and measure where this disagrees with the original. "
   ]
  },
  {
   "cell_type": "code",
   "execution_count": null,
   "id": "1",
   "metadata": {},
   "outputs": [],
   "source": [
    "import urllib\n",
    "\n",
    "import geopandas as gpd\n",
    "import numpy as np\n",
    "import osmnx as ox\n",
    "import polars as pl\n",
    "import requests\n",
    "from brdr.enums import OpenbaarDomeinStrategy\n",
    "from geopandas import GeoDataFrame\n",
    "from polars import DataFrame\n",
    "from shapely.wkt import loads\n",
    "\n",
    "from data_quality_utils.polygon.plotting import (\n",
    "    get_plotting_polygons,\n",
    "    plot_area_with_sliders,\n",
    ")\n",
    "from data_quality_utils.polygon.polygon_matcher import PolygonMatcher"
   ]
  },
  {
   "cell_type": "code",
   "execution_count": null,
   "id": "2",
   "metadata": {},
   "outputs": [],
   "source": [
    "datasette_base_url = \"https://datasette.planning.data.gov.uk/conservation-area.csv\"\n",
    "\n",
    "query = \"\"\"\n",
    "select * \n",
    "from entity\n",
    "\"\"\"\n",
    "encoded_query = urllib.parse.urlencode({\"sql\": query})\n",
    "\n",
    "r = requests.get(f\"{datasette_base_url}?{encoded_query}\", auth=(\"user\", \"pass\"))\n",
    "\n",
    "filename = \"datasette_data.csv\"\n",
    "with open(filename, \"wb\") as f_out:\n",
    "    f_out.write(r.content)\n",
    "\n",
    "data = pl.read_csv(filename)"
   ]
  },
  {
   "cell_type": "markdown",
   "id": "3",
   "metadata": {},
   "source": [
    "## Polygon Matcher class\n",
    "\n",
    "We initialise our class here for our workflow, with parameters that specify how sensitive and far reaching we wish our matcher to be. Our `polygon_snap_distance` represents the distance (m) we want the new boundary to consider snapping to polygons within, so a larger value results in more extreme boundary changes. The `overlap_sensitivity` represents how sensitive our snapping algorithm is to the new base features as a percentage, lower is more sensitive. The `snapping_strategy` is a parameter for our snapping library that determines how the original boundary changes with the base features. From the brdr documentation:\n",
    "\n",
    "`EXCLUDE`: Completely exclude everything that is not on the reference layer\n",
    "\n",
    "`AS_IS`: All parts that are not covered by the reference layer are added to the resulting geometry AS IS\n",
    "\n",
    "`SNAP_INNER_SIDE`: Everything that falls within the relevant distance over the plot boundary is snapped to the plot. The outer boundary is not used.\n",
    "\n",
    "`SNAP_ALL_SIDE`: Everything that falls within the relevant distance over the plot boundary is snapped to the plot. The inner and outer boundary is used where possible.\n",
    "\n",
    "`SNAP_PREFER_VERTICES`: The part on the OD is 'snapped' to the closest reference-polygons. Vertices of the reference-polygons are preferred above edges if they are within the relevant distance.\n",
    "\n",
    "`SNAP_NO_PREFERENCE`: The part on the OD is 'snapped' to the closest reference-polygons. The full edge of the reference-polygons is used. No preference of reference-vertices.\n",
    "\n",
    "`SNAP_ONLY_VERTICES`: The part on the OD is 'snapped' to the vertices of reference-polygons."
   ]
  },
  {
   "cell_type": "markdown",
   "id": "4",
   "metadata": {},
   "source": [
    "We also need to specify co-ordinate reference systems. For the majority of our work, including plotting, we work with `base_crs = \"EPSG:4326\"`, but for our snapping library and working with distances we use the mercator projection `mercator_crs = \"EPSG:3857\"`. \n",
    "\n",
    "When working with base features that are represented as lines, notably roads, to get our algorithm to work they need to be converted into polygons. This is done by adding circles continously along the line, then combining them into one polygon at the end. The radius of these circles is determined by `line_buffer`, such that the width of the polygon is 2 x `line_buffer`. Finally, we need to specify the distance (m) at which we search for polygons before we even consider snapping to them. This is determined by `polygon_detection_buffer`."
   ]
  },
  {
   "cell_type": "code",
   "execution_count": null,
   "id": "5",
   "metadata": {},
   "outputs": [],
   "source": [
    "polygon_snap_distance = 20\n",
    "overlap_sensitivity = 1\n",
    "snapping_strategy = OpenbaarDomeinStrategy.SNAP_NO_PREFERENCE\n",
    "base_crs = \"EPSG:4326\"\n",
    "mercator_crs = \"EPSG:3857\"\n",
    "line_buffer = 5\n",
    "polygon_detection_buffer = 1\n",
    "\n",
    "polygon_matcher = PolygonMatcher(\n",
    "    base_crs=base_crs,\n",
    "    polygon_snap_distance=polygon_snap_distance,\n",
    "    overlap_sensitivity=overlap_sensitivity,\n",
    "    snapping_strategy=snapping_strategy,\n",
    "    mercator_crs=mercator_crs,\n",
    "    polygon_detection_buffer=polygon_detection_buffer,\n",
    "    line_buffer=line_buffer,\n",
    ")"
   ]
  },
  {
   "cell_type": "markdown",
   "id": "6",
   "metadata": {},
   "source": [
    "## Basic Usage\n",
    "\n",
    "Below shows the function calls needed to obtain a new boundary. The new boundary is stored in `aligned_df` and the areas where our new boundary disagrees with the old is stored in `diff_df`."
   ]
  },
  {
   "cell_type": "code",
   "execution_count": null,
   "id": "7",
   "metadata": {},
   "outputs": [],
   "source": [
    "def geodata_from_string(\n",
    "    data_table: DataFrame, data_index: int, base_crs: str = \"EPSG:4326\"\n",
    ") -> GeoDataFrame:\n",
    "    \"\"\"Obtain geodata from datasette query table.\n",
    "\n",
    "    :param data_table: Polars dataframe from datasette query.\n",
    "    :param data_index: Index of conservation area we want.\n",
    "    :param base_crs: CRS to use, defaults to \"EPSG:4326\"\n",
    "    :return: GeoData\n",
    "    \"\"\"\n",
    "    original_wkt = data[\"geometry\"][data_index]\n",
    "    original_geom = loads(original_wkt)\n",
    "    original_df = GeoDataFrame([1], geometry=[original_geom], crs=base_crs)\n",
    "\n",
    "    return original_df"
   ]
  },
  {
   "cell_type": "code",
   "execution_count": null,
   "id": "8",
   "metadata": {},
   "outputs": [],
   "source": [
    "data_index = 0\n",
    "original_df = geodata_from_string(data, data_index, base_crs)\n",
    "\n",
    "input_tags = {\"landuse\": [\"residential\"]}"
   ]
  },
  {
   "cell_type": "code",
   "execution_count": null,
   "id": "9",
   "metadata": {},
   "outputs": [],
   "source": [
    "base_features_df = polygon_matcher.download_osm_polygons(original_df, input_tags)"
   ]
  },
  {
   "cell_type": "code",
   "execution_count": null,
   "id": "10",
   "metadata": {},
   "outputs": [],
   "source": [
    "aligned_df, diff_df = polygon_matcher.match_polygon_to_features(\n",
    "    original_df, base_features_df\n",
    ")"
   ]
  },
  {
   "cell_type": "markdown",
   "id": "11",
   "metadata": {},
   "source": [
    "## Case Studies\n",
    "\n",
    "To demonstrate practical usage, lets look at a few from the top of the dataset. Here we expand the number of features to consider and display calculations for worrying areas. After this, we can plot our results and inspect the areas highlighted as potentially incorrect.\n",
    "\n",
    "First we look at Sleapshyde."
   ]
  },
  {
   "cell_type": "markdown",
   "id": "12",
   "metadata": {},
   "source": [
    "### Sleapshyde"
   ]
  },
  {
   "cell_type": "code",
   "execution_count": null,
   "id": "13",
   "metadata": {},
   "outputs": [],
   "source": [
    "data_index = 4\n",
    "original_df = geodata_from_string(data, data_index, base_crs)\n",
    "\n",
    "input_tags = {\n",
    "    \"landuse\": [\"residential\", \"farmyard\", \"cemetrey\", \"allotments\"],\n",
    "    \"natural\": [\"wood\", \"grassland\", \"meadow\"],\n",
    "}"
   ]
  },
  {
   "cell_type": "code",
   "execution_count": null,
   "id": "14",
   "metadata": {},
   "outputs": [],
   "source": [
    "base_features_df = polygon_matcher.download_osm_polygons(original_df, input_tags)"
   ]
  },
  {
   "cell_type": "code",
   "execution_count": null,
   "id": "15",
   "metadata": {},
   "outputs": [],
   "source": [
    "aligned_df, diff_df = polygon_matcher.match_polygon_to_features(\n",
    "    original_df, base_features_df\n",
    ")"
   ]
  },
  {
   "cell_type": "markdown",
   "id": "16",
   "metadata": {},
   "source": [
    "We can then plot our results. To avoid overwhelming with false positives, rather than plotting everywhere the new border differs from the old, we only highlight where it differs and intersects with our areas of interest, because these are likely to be where the interesting change has occurred."
   ]
  },
  {
   "cell_type": "code",
   "execution_count": null,
   "id": "17",
   "metadata": {},
   "outputs": [],
   "source": [
    "results_tuple = get_plotting_polygons(\n",
    "    original_df, base_features_df, aligned_df, diff_df, base_crs\n",
    ")\n",
    "\n",
    "original_border, base_features, new_border, difference_area = results_tuple"
   ]
  },
  {
   "cell_type": "code",
   "execution_count": null,
   "id": "18",
   "metadata": {},
   "outputs": [],
   "source": [
    "plot_area_with_sliders(\n",
    "    original_border,\n",
    "    base_features,\n",
    "    new_border,\n",
    "    difference_area,\n",
    "    data[\"name\"][data_index],\n",
    ")"
   ]
  },
  {
   "cell_type": "markdown",
   "id": "19",
   "metadata": {},
   "source": [
    "The model highlights a few key areas, notably the top of the farm where the original conservation area cuts through the farmyard top corner. There is an ambiguous area in the top left that is also highlighted. We also see a range of smaller alignments throughout, potentially of interest is the wooded area near the bottom, where a non-trivial chunk of woodland is cut off.\n",
    "\n",
    "The package also contains utilities for calculating metrics to highlight potentially incorrect boundaries."
   ]
  },
  {
   "cell_type": "code",
   "execution_count": null,
   "id": "20",
   "metadata": {},
   "outputs": [],
   "source": [
    "area_threshold = 100\n",
    "large_areas_list = polygon_matcher.calculate_area_of_large_discrepancies(\n",
    "    base_features_df, diff_df, area_threshold\n",
    ")\n",
    "print(f\"Areas of red areas over {area_threshold}m^2: {large_areas_list}\")"
   ]
  },
  {
   "cell_type": "code",
   "execution_count": null,
   "id": "21",
   "metadata": {},
   "outputs": [],
   "source": [
    "area_sum = polygon_matcher.calculate_total_area_of_discrepancies(\n",
    "    base_features_df, diff_df, area_threshold\n",
    ")\n",
    "print(f\"Total area of red areas : {area_sum}m^2\")"
   ]
  },
  {
   "cell_type": "code",
   "execution_count": null,
   "id": "22",
   "metadata": {},
   "outputs": [],
   "source": [
    "red_area_ratio = polygon_matcher.large_discrepancy_proportion(\n",
    "    base_features_df, aligned_df, diff_df\n",
    ")\n",
    "print(f\"Ratio of red areas in total area as percentage: {red_area_ratio}%\")"
   ]
  },
  {
   "cell_type": "markdown",
   "id": "23",
   "metadata": {},
   "source": [
    "### Potters Crouch"
   ]
  },
  {
   "cell_type": "code",
   "execution_count": null,
   "id": "24",
   "metadata": {},
   "outputs": [],
   "source": [
    "data_index = 2\n",
    "original_df = geodata_from_string(data, data_index, base_crs)\n",
    "\n",
    "base_features_df = polygon_matcher.download_osm_polygons(original_df, input_tags)\n",
    "aligned_df, diff_df = polygon_matcher.match_polygon_to_features(\n",
    "    original_df, base_features_df\n",
    ")\n",
    "results_tuple = get_plotting_polygons(\n",
    "    original_df, base_features_df, aligned_df, diff_df, base_crs\n",
    ")\n",
    "\n",
    "original_border, base_features, new_border, difference_area = results_tuple\n",
    "\n",
    "plot_area_with_sliders(\n",
    "    original_border,\n",
    "    base_features,\n",
    "    new_border,\n",
    "    difference_area,\n",
    "    data[\"name\"][data_index],\n",
    ")"
   ]
  },
  {
   "cell_type": "markdown",
   "id": "25",
   "metadata": {},
   "source": [
    "This example has a clear mismatch, where a corner of the farm is cut off. There are very few false positives in this example partially due to the areas having to intersect with base features. To really emphasise the importance of this, we can up the `polygon_snap_distance` and see what happens."
   ]
  },
  {
   "cell_type": "code",
   "execution_count": null,
   "id": "26",
   "metadata": {},
   "outputs": [],
   "source": [
    "extra_polygon_snap_distance = 500\n",
    "\n",
    "polygon_matcher = PolygonMatcher(\n",
    "    base_crs=base_crs,\n",
    "    polygon_snap_distance=extra_polygon_snap_distance,\n",
    "    overlap_sensitivity=overlap_sensitivity,\n",
    "    snapping_strategy=snapping_strategy,\n",
    "    mercator_crs=mercator_crs,\n",
    "    polygon_detection_buffer=polygon_detection_buffer,\n",
    "    line_buffer=line_buffer,\n",
    ")\n",
    "\n",
    "data_index = 2\n",
    "original_df = geodata_from_string(data, data_index, base_crs)\n",
    "\n",
    "base_features_df = polygon_matcher.download_osm_polygons(original_df, input_tags)\n",
    "aligned_df, diff_df = polygon_matcher.match_polygon_to_features(\n",
    "    original_df, base_features_df\n",
    ")\n",
    "results_tuple = get_plotting_polygons(\n",
    "    original_df, base_features_df, aligned_df, diff_df, base_crs\n",
    ")\n",
    "\n",
    "original_border, base_features, new_border, difference_area = results_tuple\n",
    "\n",
    "plot_area_with_sliders(\n",
    "    original_border,\n",
    "    base_features,\n",
    "    new_border,\n",
    "    difference_area,\n",
    "    data[\"name\"][data_index],\n",
    ")"
   ]
  },
  {
   "cell_type": "markdown",
   "id": "27",
   "metadata": {},
   "source": [
    "A large portion of the original boundary is ignored here, so listing all the differences would wash out the interesting ones. The cut off corner is still outlined here correctly."
   ]
  },
  {
   "cell_type": "markdown",
   "id": "28",
   "metadata": {},
   "source": [
    "### Napsbury"
   ]
  },
  {
   "cell_type": "code",
   "execution_count": null,
   "id": "29",
   "metadata": {},
   "outputs": [],
   "source": [
    "polygon_snap_distance = 200\n",
    "\n",
    "polygon_matcher = PolygonMatcher(\n",
    "    base_crs=base_crs,\n",
    "    polygon_snap_distance=polygon_snap_distance,\n",
    "    overlap_sensitivity=overlap_sensitivity,\n",
    "    snapping_strategy=snapping_strategy,\n",
    "    mercator_crs=mercator_crs,\n",
    "    polygon_detection_buffer=polygon_detection_buffer,\n",
    "    line_buffer=line_buffer,\n",
    ")\n",
    "\n",
    "data_index = 0\n",
    "original_df = geodata_from_string(data, data_index, base_crs)\n",
    "\n",
    "base_features_df = polygon_matcher.download_osm_polygons(original_df, input_tags)\n",
    "aligned_df, diff_df = polygon_matcher.match_polygon_to_features(\n",
    "    original_df, base_features_df\n",
    ")\n",
    "results_tuple = get_plotting_polygons(\n",
    "    original_df, base_features_df, aligned_df, diff_df, base_crs\n",
    ")\n",
    "\n",
    "original_border, base_features, new_border, difference_area = results_tuple\n",
    "\n",
    "plot_area_with_sliders(\n",
    "    original_border,\n",
    "    base_features,\n",
    "    new_border,\n",
    "    difference_area,\n",
    "    data[\"name\"][data_index],\n",
    ")"
   ]
  },
  {
   "cell_type": "markdown",
   "id": "30",
   "metadata": {},
   "source": [
    "For Napsbury, we see some rather weird behaviour where the conservation area goes through the middle of houses. This serves to show that we are not suggesting the new boundary <i>should be</i> the boundary, rather, if is not obvious what the border is from the base features, we will get some weird behaviour, that we can flag. Aside from the houses, there are other smaller issues in the bottom right and left that are highlighted.\n",
    "\n",
    "Another class of features to note are the roads - there is an odd boundary kink on top of the roundabout. We can use our `line_buffer` argument to inspect the roads."
   ]
  },
  {
   "cell_type": "code",
   "execution_count": null,
   "id": "31",
   "metadata": {},
   "outputs": [],
   "source": [
    "polygon_snap_distance = 20\n",
    "\n",
    "polygon_matcher = PolygonMatcher(\n",
    "    base_crs=base_crs,\n",
    "    polygon_snap_distance=polygon_snap_distance,\n",
    "    overlap_sensitivity=overlap_sensitivity,\n",
    "    snapping_strategy=snapping_strategy,\n",
    "    mercator_crs=mercator_crs,\n",
    "    polygon_detection_buffer=polygon_detection_buffer,\n",
    "    line_buffer=line_buffer,\n",
    ")\n",
    "\n",
    "data_index = 0\n",
    "original_df = geodata_from_string(data, data_index, base_crs)\n",
    "\n",
    "input_tags = {\n",
    "    \"highway\": [\"unclassified\", \"primary\", \"secondary\"],\n",
    "}\n",
    "\n",
    "base_features_df = polygon_matcher.download_osm_polygons(original_df, input_tags)\n",
    "aligned_df, diff_df = polygon_matcher.match_polygon_to_features(\n",
    "    original_df, base_features_df\n",
    ")\n",
    "results_tuple = get_plotting_polygons(\n",
    "    original_df, base_features_df, aligned_df, diff_df, base_crs\n",
    ")\n",
    "\n",
    "original_border, base_features, new_border, difference_area = results_tuple\n",
    "\n",
    "plot_area_with_sliders(\n",
    "    original_border,\n",
    "    base_features,\n",
    "    new_border,\n",
    "    difference_area,\n",
    "    data[\"name\"][data_index],\n",
    ")"
   ]
  },
  {
   "cell_type": "markdown",
   "id": "32",
   "metadata": {},
   "source": [
    "We see that the weird geometry is highlighted as an anomaly. Similarly, further up the road there is another area that is highlighted - this is clocking how there is little reason as to why the conservation area boundary crosses there rather than anywhere else."
   ]
  },
  {
   "cell_type": "markdown",
   "id": "33",
   "metadata": {},
   "source": [
    "## Random cases\n",
    "\n",
    "To get a broader view we also picked some random indices and highlight interesting observations here."
   ]
  },
  {
   "cell_type": "code",
   "execution_count": null,
   "id": "34",
   "metadata": {},
   "outputs": [],
   "source": [
    "np.random.seed(42)\n",
    "test_indices = np.random.randint(0, 1000, 20)"
   ]
  },
  {
   "cell_type": "code",
   "execution_count": null,
   "id": "35",
   "metadata": {},
   "outputs": [],
   "source": [
    "polygon_snap_distance = 50\n",
    "\n",
    "polygon_matcher = PolygonMatcher(\n",
    "    base_crs=base_crs,\n",
    "    polygon_snap_distance=polygon_snap_distance,\n",
    "    # overlap_sensitivity=overlap_sensitivity,\n",
    "    overlap_sensitivity=0.0000001,\n",
    "    snapping_strategy=snapping_strategy,\n",
    "    mercator_crs=mercator_crs,\n",
    "    polygon_detection_buffer=polygon_detection_buffer,\n",
    "    line_buffer=line_buffer,\n",
    ")"
   ]
  },
  {
   "cell_type": "code",
   "execution_count": null,
   "id": "36",
   "metadata": {},
   "outputs": [],
   "source": [
    "data_index = int(test_indices[0])\n",
    "original_df = geodata_from_string(data, data_index, base_crs)\n",
    "\n",
    "input_tags = {\n",
    "    \"landuse\": [\"residential\", \"farmyard\", \"cemetrey\", \"allotments\", \"farmland\"],\n",
    "    \"natural\": [\"wood\", \"grassland\", \"meadow\"],\n",
    "}\n",
    "base_features_df = polygon_matcher.download_osm_polygons(original_df, input_tags)\n",
    "aligned_df, diff_df = polygon_matcher.match_polygon_to_features(\n",
    "    original_df, base_features_df\n",
    ")\n",
    "results_tuple = get_plotting_polygons(\n",
    "    original_df, base_features_df, aligned_df, diff_df, base_crs\n",
    ")\n",
    "\n",
    "original_border, base_features, new_border, difference_area = results_tuple\n",
    "\n",
    "plot_area_with_sliders(\n",
    "    original_border,\n",
    "    base_features,\n",
    "    new_border,\n",
    "    difference_area,\n",
    "    data[\"name\"][data_index],\n",
    ")"
   ]
  },
  {
   "cell_type": "markdown",
   "id": "37",
   "metadata": {},
   "source": [
    "Although there are potentially some false positives near the top, the model does well to follow the natural border, or not highlight things when inappropriate. There are also some clear anomalies near trees along roads in the bottom section."
   ]
  },
  {
   "cell_type": "code",
   "execution_count": null,
   "id": "38",
   "metadata": {},
   "outputs": [],
   "source": [
    "data_index = int(test_indices[1])\n",
    "original_df = geodata_from_string(data, data_index, base_crs)\n",
    "\n",
    "base_features_df = polygon_matcher.download_osm_polygons(original_df, input_tags)\n",
    "aligned_df, diff_df = polygon_matcher.match_polygon_to_features(\n",
    "    original_df, base_features_df\n",
    ")\n",
    "results_tuple = get_plotting_polygons(\n",
    "    original_df, base_features_df, aligned_df, diff_df, base_crs\n",
    ")\n",
    "\n",
    "original_border, base_features, new_border, difference_area = results_tuple\n",
    "\n",
    "plot_area_with_sliders(\n",
    "    original_border,\n",
    "    base_features,\n",
    "    new_border,\n",
    "    difference_area,\n",
    "    data[\"name\"][data_index],\n",
    ")"
   ]
  },
  {
   "cell_type": "markdown",
   "id": "39",
   "metadata": {},
   "source": [
    "This example shows where this method can fall down - the quality of the polygons. The lighter grey indicates the base map - there is no polygon present. The only polygon present is the small wood, where issues are highlighted. The field at the bottom seems to have the conservation area line going straight through it, not following the treeline or any other features. However, neither this nor OS Zoomstack have polygons for this.\n",
    "\n",
    "OS Zoomstack does offer some good polygons for buildings, but these are yet to be implemented here."
   ]
  }
 ],
 "metadata": {
  "kernelspec": {
   "display_name": "mhclg",
   "language": "python",
   "name": "python3"
  },
  "language_info": {
   "codemirror_mode": {
    "name": "ipython",
    "version": 3
   },
   "file_extension": ".py",
   "mimetype": "text/x-python",
   "name": "python",
   "nbconvert_exporter": "python",
   "pygments_lexer": "ipython3",
   "version": "3.11.11"
  }
 },
 "nbformat": 4,
 "nbformat_minor": 5
}
