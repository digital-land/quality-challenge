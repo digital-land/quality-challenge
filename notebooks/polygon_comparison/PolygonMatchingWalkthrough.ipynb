{
 "cells": [
  {
   "cell_type": "markdown",
   "id": "0",
   "metadata": {},
   "source": [
    "# Polygon Matching Walkthrough\n",
    "\n",
    "In this notebook we show how to utilse our PolgonMatcher class to find areas where existing conservation area boundaries do not match polygons found via other resources such as Open Street Map or OS Zoomstack."
   ]
  },
  {
   "cell_type": "code",
   "execution_count": null,
   "id": "1",
   "metadata": {},
   "outputs": [],
   "source": [
    "import urllib\n",
    "\n",
    "import geopandas as gpd\n",
    "import osmnx as ox\n",
    "import polars as pl\n",
    "import requests\n",
    "from brdr.enums import OpenbaarDomeinStrategy\n",
    "from shapely.wkt import loads\n",
    "\n",
    "from data_quality_utils.polygon_matching.polygon_matching import PolygonMatcher\n",
    "from data_quality_utils.polygon_matching.polygon_plotting import (\n",
    "    get_plotting_polygons,\n",
    "    plot_area_with_sliders,\n",
    ")"
   ]
  },
  {
   "cell_type": "code",
   "execution_count": null,
   "id": "2",
   "metadata": {},
   "outputs": [],
   "source": [
    "datasette_base_url = \"https://datasette.planning.data.gov.uk/conservation-area.csv\"\n",
    "\n",
    "query = \"\"\"\n",
    "select * \n",
    "from entity\n",
    "\"\"\"\n",
    "encoded_query = urllib.parse.urlencode({\"sql\": query})\n",
    "\n",
    "r = requests.get(f\"{datasette_base_url}?{encoded_query}\", auth=(\"user\", \"pass\"))\n",
    "\n",
    "filename = \"datasette_data.csv\"\n",
    "with open(filename, \"wb\") as f_out:\n",
    "    f_out.write(r.content)\n",
    "\n",
    "data = pl.read_csv(filename)"
   ]
  },
  {
   "cell_type": "markdown",
   "id": "3",
   "metadata": {},
   "source": [
    "## Polygon Matcher class\n",
    "\n",
    "We initialise our class here with parameters that specify how sensitive and far reaching we wish our matcher to be. We also specify the co-ordinate systems we want to work in."
   ]
  },
  {
   "cell_type": "code",
   "execution_count": null,
   "id": "4",
   "metadata": {},
   "outputs": [],
   "source": [
    "polygon_snap_distance = 20\n",
    "input_brdr_threshold = 1\n",
    "snapping_strategy = OpenbaarDomeinStrategy.SNAP_PREFER_VERTICES\n",
    "base_crs = \"EPSG:4326\"\n",
    "mercator_crs = \"EPSG:3857\"\n",
    "used_osm_indices = None\n",
    "line_buffer = 10\n",
    "polygon_detection_buffer = 1\n",
    "\n",
    "polygon_matcher = PolygonMatcher(\n",
    "    base_crs=base_crs,\n",
    "    polygon_snap_distance=polygon_snap_distance,\n",
    "    brdr_threshold=input_brdr_threshold,\n",
    "    snapping_strategy=snapping_strategy,\n",
    "    mercator_crs=mercator_crs,\n",
    "    polygon_detection_buffer=polygon_detection_buffer,\n",
    "    line_buffer=line_buffer,\n",
    ")"
   ]
  },
  {
   "cell_type": "markdown",
   "id": "5",
   "metadata": {},
   "source": [
    "## Basic Usage\n",
    "\n",
    "Below shows the function calls needed to obtain a new boundary. The new boundary is stored in `aligned_df` and the areas where our new boundary disagrees with the old is stored in `diff_df`."
   ]
  },
  {
   "cell_type": "code",
   "execution_count": null,
   "id": "6",
   "metadata": {},
   "outputs": [],
   "source": [
    "data_index = 0\n",
    "original_wkt = data[\"geometry\"][data_index]\n",
    "original_geom = loads(original_wkt)\n",
    "original_df = gpd.GeoDataFrame([1], geometry=[original_geom], crs=base_crs)\n",
    "\n",
    "input_tags = {\"landuse\": [\"residential\"]}"
   ]
  },
  {
   "cell_type": "code",
   "execution_count": null,
   "id": "7",
   "metadata": {},
   "outputs": [],
   "source": [
    "base_features_df = polygon_matcher.download_osm_polygons(original_df, input_tags)"
   ]
  },
  {
   "cell_type": "code",
   "execution_count": null,
   "id": "8",
   "metadata": {},
   "outputs": [],
   "source": [
    "aligned_df, diff_df = polygon_matcher.get_new_aligned_areas(\n",
    "    original_df, base_features_df\n",
    ")"
   ]
  },
  {
   "cell_type": "markdown",
   "id": "9",
   "metadata": {},
   "source": [
    "## Case Study\n",
    "\n",
    "To demonstrate practical usage, we picked Sleapshyde. Here we expand the number of features to consider and display calculations for worrying areas. After this, we can plot our results and inspect the areas highlighted as potentially incorrect."
   ]
  },
  {
   "cell_type": "code",
   "execution_count": null,
   "id": "10",
   "metadata": {},
   "outputs": [],
   "source": [
    "data_index = 4\n",
    "original_wkt = data[\"geometry\"][data_index]\n",
    "original_geom = loads(original_wkt)\n",
    "original_df = gpd.GeoDataFrame([1], geometry=[original_geom], crs=base_crs)\n",
    "\n",
    "input_tags = {\n",
    "    # \"landuse\": [\"residential\", \"farmyard\", \"cemetrey\", \"allotments\"],\n",
    "    \"landuse\": [\"farmyard\"],\n",
    "    # \"natural\": [\"wood\", \"grassland\", \"meadow\"],\n",
    "}"
   ]
  },
  {
   "cell_type": "code",
   "execution_count": null,
   "id": "11",
   "metadata": {},
   "outputs": [],
   "source": [
    "base_features_df = polygon_matcher.download_osm_polygons(original_df, input_tags)"
   ]
  },
  {
   "cell_type": "code",
   "execution_count": null,
   "id": "12",
   "metadata": {},
   "outputs": [],
   "source": [
    "aligned_df, diff_df = polygon_matcher.get_new_aligned_areas(\n",
    "    original_df, base_features_df\n",
    ")"
   ]
  },
  {
   "cell_type": "code",
   "execution_count": null,
   "id": "13",
   "metadata": {},
   "outputs": [],
   "source": [
    "results_tuple = get_plotting_polygons(\n",
    "    original_df, base_features_df, aligned_df, diff_df, base_crs\n",
    ")\n",
    "\n",
    "original_border, base_features, new_border, difference_area = results_tuple"
   ]
  },
  {
   "cell_type": "code",
   "execution_count": null,
   "id": "14",
   "metadata": {},
   "outputs": [],
   "source": [
    "plot_area_with_sliders(\n",
    "    original_border,\n",
    "    base_features,\n",
    "    new_border,\n",
    "    difference_area,\n",
    "    (255, 0, 0),\n",
    "    (0, 0, 255),\n",
    "    0.3,\n",
    "    data[\"name\"][data_index],\n",
    ")"
   ]
  }
 ],
 "metadata": {
  "kernelspec": {
   "display_name": "quality-challenge-OS-ME5O1-py3.11",
   "language": "python",
   "name": "python3"
  },
  "language_info": {
   "codemirror_mode": {
    "name": "ipython",
    "version": 3
   },
   "file_extension": ".py",
   "mimetype": "text/x-python",
   "name": "python",
   "nbconvert_exporter": "python",
   "pygments_lexer": "ipython3",
   "version": "3.11.9"
  }
 },
 "nbformat": 4,
 "nbformat_minor": 5
}
