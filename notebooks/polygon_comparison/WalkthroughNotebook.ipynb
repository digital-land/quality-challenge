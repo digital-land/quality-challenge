{
 "cells": [
  {
   "cell_type": "markdown",
   "metadata": {},
   "source": [
    "# Walkthrough Notebook\n",
    "\n",
    "Notes:\n",
    "\n",
    "data[\"geometry\"][10] is a good counterexample, on LHS issue of needing to clock going OUT but current method does not.\n",
    "\n",
    "data[\"geometry\"][257] (Heyroyd) is weird and shows issues with OSM. There is something that SHOULD be a residential area at the top, but the line goes straight through. Just grey \"nothing\" - no tags. This is the base layer so has small borders around everything, meaning it will be hard to select 'all that does not have a tag' as a polygon in and of itself. Maybe SAM could work, but this is getting difficult now."
   ]
  },
  {
   "cell_type": "code",
   "execution_count": null,
   "metadata": {},
   "outputs": [],
   "source": [
    "import urllib\n",
    "\n",
    "import polars as pl\n",
    "import requests\n",
    "\n",
    "from data_quality_utils.polygon_matching.polygon_matching import *\n",
    "from data_quality_utils.polygon_matching.polygon_plotting import *"
   ]
  },
  {
   "cell_type": "code",
   "execution_count": null,
   "metadata": {},
   "outputs": [],
   "source": [
    "datasette_base_url = \"https://datasette.planning.data.gov.uk/conservation-area.csv\"\n",
    "\n",
    "query = \"\"\"\n",
    "select * \n",
    "from entity\n",
    "\"\"\"\n",
    "encoded_query = urllib.parse.urlencode({\"sql\": query})\n",
    "\n",
    "r = requests.get(f\"{datasette_base_url}?{encoded_query}\", auth=(\"user\", \"pass\"))\n",
    "\n",
    "filename = \"datasette_data.csv\"\n",
    "with open(filename, \"wb\") as f_out:\n",
    "    f_out.write(r.content)\n",
    "\n",
    "data = pl.read_csv(filename)"
   ]
  },
  {
   "cell_type": "code",
   "execution_count": null,
   "metadata": {},
   "outputs": [],
   "source": [
    "# Customise tags for which areas you want to specify for\n",
    "# Prominent and common useful ones below\n",
    "# May want to go one by one for best results\n",
    "input_tags = {\n",
    "    \"landuse\": [\"residential\", \"farmyard\", \"cemetery\", \"allotments\"],\n",
    "    \"natural\": [\"wood\", \"grassland\", \"meadow\"],\n",
    "    # 'landuse': ['farmyard'],\n",
    "    # 'landuse': ['farmland'],\n",
    "    # 'landuse': ['residential'],\n",
    "    # 'waterway': ['drain'],\n",
    "    # \"highway\": ['primary', 'secondary', 'unclassified', 'track']\n",
    "}\n",
    "\n",
    "input_brdr_distance = 20  # distance that we can snap to polygons within\n",
    "input_brdr_threshold = 1  # parameter to tune sensitivity - lower is more sensitive\n",
    "input_brdr_strategy = (\n",
    "    OpenbaarDomeinStrategy.SNAP_PREFER_VERTICES\n",
    ")  # strategies for how to snap to polygons\n",
    "# input_brdr_strategy = OpenbaarDomeinStrategy.SNAP_ONLY_VERTICES\n",
    "# input_brdr_strategy = OpenbaarDomeinStrategy.SNAP_ALL_SIDE\n",
    "initial_crs = \"EPSG:4326\"  # CRS from datasette\n",
    "brdr_crs = \"EPSG:3857\"  # CRS for brdr, with accurate meter interpretable distances\n",
    "target_osm_crs = \"EPSG:4326\"  # CRS for osm input polygon\n",
    "data_index = 4  # Index for this test case run\n",
    "used_osm_indices = (\n",
    "    None  # If wanting to test specific indices of polygons - moreso for testing\n",
    ")\n",
    "line_buffer = 10  # Buffer for width of line in meters, this is radius of circle generated at each point\n",
    "polygon_detection_buffer = (\n",
    "    1  # Detection distance for polygons on either side of actual boundary in meters\n",
    ")\n",
    "\n",
    "areas_tuple = process_areas(\n",
    "    original_wkt=data[\"geometry\"][data_index],\n",
    "    initial_crs=initial_crs,\n",
    "    osm_tags=input_tags,\n",
    "    brdr_distance=input_brdr_distance,\n",
    "    brdr_threshold=input_brdr_threshold,\n",
    "    brdr_strategy=input_brdr_strategy,\n",
    "    brdr_crs=brdr_crs,\n",
    "    osm_query_crs=target_osm_crs,\n",
    "    used_osm_indices=used_osm_indices,\n",
    "    line_buffer=line_buffer,\n",
    "    polygon_detection_buffer=polygon_detection_buffer,\n",
    ")\n",
    "\n",
    "if areas_tuple:\n",
    "    original_border, new_border, difference_area, base_features = areas_tuple"
   ]
  },
  {
   "cell_type": "markdown",
   "metadata": {},
   "source": [
    "A really good example is Sleapshyde. Note, if the distance is upped, say to 100, then the long area at the bottom is highlighted when it probably shouldn't be. Maybe this is a nice highlight as the line through the wood seems somewhat arbitrary, but setting the dist to, say, 20, gives nice clean highlights for the two main issues."
   ]
  },
  {
   "cell_type": "code",
   "execution_count": null,
   "metadata": {},
   "outputs": [],
   "source": [
    "plot_area_with_sliders(\n",
    "    original_border,\n",
    "    new_border,\n",
    "    difference_area,\n",
    "    (255, 0, 0),  # Red\n",
    "    base_features,\n",
    "    (0, 0, 255),  # Blue\n",
    "    0.3,  # Initial alpha value\n",
    "    data[\"name\"][data_index],\n",
    ")"
   ]
  },
  {
   "cell_type": "code",
   "execution_count": null,
   "metadata": {},
   "outputs": [],
   "source": [
    "input_tags = {\n",
    "    \"landuse\": [\"residential\", \"farmyard\", \"cemetery\", \"allotments\"],\n",
    "    \"natural\": [\"wood\", \"grassland\", \"meadow\"],\n",
    "}\n",
    "\n",
    "input_brdr_distance = 20  # distance that we can snap to polygons within\n",
    "input_brdr_threshold = 1  # parameter to tune sensitivity - lower is more sensitive\n",
    "input_brdr_strategy = (\n",
    "    OpenbaarDomeinStrategy.SNAP_PREFER_VERTICES\n",
    ")  # strategies for how to snap to polygons\n",
    "initial_crs = \"EPSG:4326\"  # CRS from datasette\n",
    "brdr_crs = \"EPSG:3857\"  # CRS for brdr, with accurate meter interpretable distances\n",
    "target_osm_crs = \"EPSG:4326\"  # CRS for osm input polygon\n",
    "data_index = 257  # Index for this test case run\n",
    "used_osm_indices = (\n",
    "    None  # If wanting to test specific indices of polygons - moreso for testing\n",
    ")\n",
    "line_buffer = 10  # Buffer for width of line in meters, this is radius of circle generated at each point\n",
    "polygon_detection_buffer = (\n",
    "    1  # Detection distance for polygons on either side of actual boundary in meters\n",
    ")\n",
    "\n",
    "heyroyd_areas_tuple = process_areas(\n",
    "    original_wkt=data[\"geometry\"][data_index],\n",
    "    initial_crs=initial_crs,\n",
    "    osm_tags=input_tags,\n",
    "    brdr_distance=input_brdr_distance,\n",
    "    brdr_threshold=input_brdr_threshold,\n",
    "    brdr_strategy=input_brdr_strategy,\n",
    "    brdr_crs=brdr_crs,\n",
    "    osm_query_crs=target_osm_crs,\n",
    "    used_osm_indices=used_osm_indices,\n",
    "    line_buffer=line_buffer,\n",
    "    polygon_detection_buffer=polygon_detection_buffer,\n",
    ")\n",
    "\n",
    "if heyroyd_areas_tuple:\n",
    "    original_border, new_border, difference_area, base_features = heyroyd_areas_tuple"
   ]
  },
  {
   "cell_type": "markdown",
   "metadata": {},
   "source": [
    "Example below has a clear issue on OSM - the left hand side at the top corner clearly goes through houses when looking at the satellite images, but the area is generic with no tags. Although there is a residential area below which we would ideally want to snap to, because there is not a polygon on <i>both sides</i>, the model struggles to highlight the area as there is no overlap with an area of interest. This is also looks very wrong - setting the distance to e.g. 200 snaps to some of the top of the residential area, but again as the field is not a polygon, it is not highlighted as added area.\n",
    "\n",
    "This could potentially be solved with SAM, then checking the overlap of SAM generated polygons with existing, then if little to no overlap (as we would expect with the grey 'nothing' area), then create that as a tag: generic polygon or something."
   ]
  },
  {
   "cell_type": "code",
   "execution_count": null,
   "metadata": {},
   "outputs": [],
   "source": [
    "plot_area_with_sliders(\n",
    "    original_border,\n",
    "    new_border,\n",
    "    difference_area,\n",
    "    (255, 0, 0),  # Red\n",
    "    base_features,\n",
    "    (0, 0, 255),  # Blue\n",
    "    0.3,  # Initial alpha value\n",
    "    data[\"name\"][data_index],\n",
    ")"
   ]
  },
  {
   "cell_type": "code",
   "execution_count": null,
   "metadata": {},
   "outputs": [],
   "source": [
    "input_tags = {\n",
    "    \"landuse\": [\"residential\", \"farmyard\", \"cemetery\", \"allotments\"],\n",
    "    \"natural\": [\"wood\", \"grassland\", \"meadow\"],\n",
    "}\n",
    "\n",
    "input_brdr_distance = 200  # distance that we can snap to polygons within\n",
    "input_brdr_threshold = 10  # parameter to tune sensitivity - lower is more sensitive\n",
    "input_brdr_strategy = (\n",
    "    OpenbaarDomeinStrategy.SNAP_PREFER_VERTICES\n",
    ")  # strategies for how to snap to polygons\n",
    "initial_crs = \"EPSG:4326\"  # CRS from datasette\n",
    "brdr_crs = \"EPSG:3857\"  # CRS for brdr, with accurate meter interpretable distances\n",
    "target_osm_crs = \"EPSG:4326\"  # CRS for osm input polygon\n",
    "data_index = 0  # Index for this test case run\n",
    "used_osm_indices = (\n",
    "    None  # If wanting to test specific indices of polygons - moreso for testing\n",
    ")\n",
    "line_buffer = 10  # Buffer for width of line in meters, this is radius of circle generated at each point\n",
    "polygon_detection_buffer = (\n",
    "    1  # Detection distance for polygons on either side of actual boundary in meters\n",
    ")\n",
    "\n",
    "napsbury_areas_tuple = process_areas(\n",
    "    original_wkt=data[\"geometry\"][data_index],\n",
    "    initial_crs=initial_crs,\n",
    "    osm_tags=input_tags,\n",
    "    brdr_distance=input_brdr_distance,\n",
    "    brdr_threshold=input_brdr_threshold,\n",
    "    brdr_strategy=input_brdr_strategy,\n",
    "    brdr_crs=brdr_crs,\n",
    "    osm_query_crs=target_osm_crs,\n",
    "    used_osm_indices=used_osm_indices,\n",
    "    line_buffer=line_buffer,\n",
    "    polygon_detection_buffer=polygon_detection_buffer,\n",
    ")\n",
    "\n",
    "if napsbury_areas_tuple:\n",
    "    original_border, new_border, difference_area, base_features = napsbury_areas_tuple"
   ]
  },
  {
   "cell_type": "markdown",
   "metadata": {},
   "source": [
    "Napsbury is a weird one. By setting the dist relatively high (200m) we highlight some real issues. Referring to the document_url, there should not be conservation area lines through the housing areas. It is odd that brdr has chosen to align on the inside in this case, but it still highlights that something is wrong - when brdr is confused, even if it doesn't get it right, it is still useful to indicate things are not cut and dry! Setting the distance lower, say to 20, results in worse detection due to the scale of how wrong this conservation area is."
   ]
  },
  {
   "cell_type": "code",
   "execution_count": null,
   "metadata": {},
   "outputs": [],
   "source": [
    "plot_area_with_sliders(\n",
    "    original_border,\n",
    "    new_border,\n",
    "    difference_area,\n",
    "    (255, 0, 0),  # Red\n",
    "    base_features,\n",
    "    (0, 0, 255),  # Blue\n",
    "    0.3,  # Initial alpha value\n",
    "    data[\"name\"][data_index],\n",
    ")"
   ]
  }
 ],
 "metadata": {
  "kernelspec": {
   "display_name": "quality-challenge-OS-ME5O1-py3.11",
   "language": "python",
   "name": "python3"
  },
  "language_info": {
   "codemirror_mode": {
    "name": "ipython",
    "version": 3
   },
   "file_extension": ".py",
   "mimetype": "text/x-python",
   "name": "python",
   "nbconvert_exporter": "python",
   "pygments_lexer": "ipython3",
   "version": "3.11.9"
  }
 },
 "nbformat": 4,
 "nbformat_minor": 2
}
