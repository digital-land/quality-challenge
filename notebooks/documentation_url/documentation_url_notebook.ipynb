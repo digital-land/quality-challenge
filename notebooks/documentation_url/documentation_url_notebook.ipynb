{
 "cells": [
  {
   "cell_type": "code",
   "execution_count": 1,
   "id": "f4361c7b-e149-475f-823b-e56baa3d3784",
   "metadata": {},
   "outputs": [],
   "source": [
    "import os\n",
    "import requests\n",
    "import urllib\n",
    "import numpy as np\n",
    "import polars as pl\n",
    "import seaborn as sns\n",
    "import matplotlib.pyplot as plt\n",
    "import pandas as pd\n",
    "import asyncio\n",
    "from data_quality_utils import Crawler\n",
    "from sentence_transformers import SentenceTransformer, util",
    "from typing import List, Optional, Union\n",
    "from statistics import mode\n",
    "from crawl4ai import AsyncWebCrawler, CrawlerRunConfig, CacheMode\n",
    "from crawl4ai.deep_crawling import BFSDeepCrawlStrategy, BestFirstCrawlingStrategy\n",
    "from crawl4ai.content_scraping_strategy import LXMLWebScrapingStrategy\n",
    "from crawl4ai.deep_crawling.scorers import KeywordRelevanceScorer\n",
    "from crawl4ai.deep_crawling.filters import FilterChain, URLPatternFilter, ContentRelevanceFilter, SEOFilter, ContentTypeFilter\n",
    "from crawl4ai.markdown_generation_strategy import DefaultMarkdownGenerator\n",
    "from crawl4ai.content_filter_strategy import BM25ContentFilter\n",
    "from sentence_transformers import SentenceTransformer, util\n",
    "from langchain.text_splitter import RecursiveCharacterTextSplitter"
   ]
  },
  {
   "cell_type": "code",
   "execution_count": 2,
   "id": "7701c33a-ed1e-4b0e-a6c4-a3ba361a4b2c",
   "metadata": {},
   "outputs": [],
   "source": [
    "# embedding model\n",
    "embedding_model = SentenceTransformer('sentence-transformers/all-MiniLM-L6-v2')\n",
    "# suppress warnings\n",
    "os.environ[\"TOKENIZERS_PARALLELISM\"] = \"false\""
   ]
  },
  {
   "cell_type": "code",
   "execution_count": 3,
   "id": "5eb7e124-377a-411f-9507-5e2e5296ce94",
   "metadata": {},
   "outputs": [],
   "source": [
    "# get data from datasette\n",
    "datasette_base_url = \"https://datasette.planning.data.gov.uk/digital-land.csv\"\n",
    "\n",
    "query = \"\"\"\n",
    "select * \n",
    "from source as s\n",
    "left join organisation as o\n",
    "on s.organisation=o.organisation \n",
    "where s.collection = \"conservation-area\"\n",
    "\"\"\"\n",
    "encoded_query = urllib.parse.urlencode({\"sql\": query})\n",
    "\n",
    "r = requests.get(f\"{datasette_base_url}?{encoded_query}\", auth=('user', 'pass'))\n",
    "\n",
    "filename = \"datasette_data.csv\"\n",
    "with open(filename, \"wb\") as f_out:\n",
    "    f_out.write(r.content)"
   ]
  },
  {
   "cell_type": "code",
   "execution_count": 4,
   "id": "4fff92ca-01a5-4616-a301-3f8f98cd4020",
   "metadata": {
    "scrolled": true
   },
   "outputs": [
    {
     "data": {
      "text/html": [
       "<div><style>\n",
       ".dataframe > thead > tr,\n",
       ".dataframe > tbody > tr {\n",
       "  text-align: right;\n",
       "  white-space: pre-wrap;\n",
       "}\n",
       "</style>\n",
       "<small>shape: (350, 3)</small><table border=\"1\" class=\"dataframe\"><thead><tr><th>name</th><th>website</th><th>documentation_url</th></tr><tr><td>str</td><td>str</td><td>list[str]</td></tr></thead><tbody><tr><td>&quot;North East Lincolnshire Counci…</td><td>&quot;https://www.nelincs.gov.uk&quot;</td><td>[null]</td></tr><tr><td>&quot;Blackpool Borough Council&quot;</td><td>&quot;https://www.blackpool.gov.uk&quot;</td><td>[null]</td></tr><tr><td>&quot;West Berkshire Council&quot;</td><td>&quot;https://www.westberks.gov.uk&quot;</td><td>[null, &quot;https://www.westberks.gov.uk/planning-data-conservation-areas&quot;]</td></tr><tr><td>&quot;Tendring District Council&quot;</td><td>&quot;https://www.tendringdc.gov.uk&quot;</td><td>[null]</td></tr><tr><td>&quot;St Helens Council&quot;</td><td>&quot;https://www.sthelens.gov.uk&quot;</td><td>[&quot;https://data.gov.uk/dataset/86bea27d-e174-4a67-aa4b-ee1d3c72a0e8/st-helens-conservation-areas&quot;]</td></tr><tr><td>&hellip;</td><td>&hellip;</td><td>&hellip;</td></tr><tr><td>&quot;Test Valley Borough Council&quot;</td><td>&quot;https://www.testvalley.gov.uk&quot;</td><td>[null]</td></tr><tr><td>&quot;Spelthorne Borough Council&quot;</td><td>&quot;https://www.spelthorne.gov.uk&quot;</td><td>[null]</td></tr><tr><td>&quot;East Suffolk Council&quot;</td><td>&quot;https://www.eastsuffolk.gov.uk&quot;</td><td>[null, null]</td></tr><tr><td>&quot;Newark and Sherwood District C…</td><td>&quot;https://www.newark-sherwooddc.…</td><td>[null]</td></tr><tr><td>&quot;Staffordshire Moorlands Distri…</td><td>&quot;https://www.staffsmoorlands.go…</td><td>[null]</td></tr></tbody></table></div>"
      ],
      "text/plain": [
       "shape: (350, 3)\n",
       "┌────────────────────────────────┬────────────────────────────────┬────────────────────────────────┐\n",
       "│ name                           ┆ website                        ┆ documentation_url              │\n",
       "│ ---                            ┆ ---                            ┆ ---                            │\n",
       "│ str                            ┆ str                            ┆ list[str]                      │\n",
       "╞════════════════════════════════╪════════════════════════════════╪════════════════════════════════╡\n",
       "│ North East Lincolnshire        ┆ https://www.nelincs.gov.uk     ┆ [null]                         │\n",
       "│ Counci…                        ┆                                ┆                                │\n",
       "│ Blackpool Borough Council      ┆ https://www.blackpool.gov.uk   ┆ [null]                         │\n",
       "│ West Berkshire Council         ┆ https://www.westberks.gov.uk   ┆ [null,                         │\n",
       "│                                ┆                                ┆ \"https://www.westberks.…       │\n",
       "│ Tendring District Council      ┆ https://www.tendringdc.gov.uk  ┆ [null]                         │\n",
       "│ St Helens Council              ┆ https://www.sthelens.gov.uk    ┆ [\"https://data.gov.uk/dataset/ │\n",
       "│                                ┆                                ┆ …                              │\n",
       "│ …                              ┆ …                              ┆ …                              │\n",
       "│ Test Valley Borough Council    ┆ https://www.testvalley.gov.uk  ┆ [null]                         │\n",
       "│ Spelthorne Borough Council     ┆ https://www.spelthorne.gov.uk  ┆ [null]                         │\n",
       "│ East Suffolk Council           ┆ https://www.eastsuffolk.gov.uk ┆ [null, null]                   │\n",
       "│ Newark and Sherwood District   ┆ https://www.newark-sherwooddc. ┆ [null]                         │\n",
       "│ C…                             ┆ …                              ┆                                │\n",
       "│ Staffordshire Moorlands        ┆ https://www.staffsmoorlands.go ┆ [null]                         │\n",
       "│ Distri…                        ┆ …                              ┆                                │\n",
       "└────────────────────────────────┴────────────────────────────────┴────────────────────────────────┘"
      ]
     },
     "execution_count": 4,
     "metadata": {},
     "output_type": "execute_result"
    }
   ],
   "source": [
    "# group by organisation as we're looking for one page per council\n",
    "data = (\n",
    "    pl.read_csv(filename)\n",
    "    .group_by(\"name\")\n",
    "    .agg(pl.col(\"website\").first(), pl.col(\"documentation_url\"))\n",
    ")\n",
    "data = data.with_columns(pl.col(\"website\").str.strip_chars_end(\"/\"))\n",
    "data"
   ]
  },
  {
   "cell_type": "code",
   "execution_count": 5,
   "id": "405f3be6-d1c0-454a-8e4a-2be416a523eb",
   "metadata": {},
   "outputs": [],
   "source": [
    "def get_similar_urls(crawl_data, prompt, num_results=None, chunking=False):\n",
    "    \"\"\"\n",
    "    Embeds crawled webpage data, computes similarity to a given prompt, and returns the top N most similar pages.\n",
    "\n",
    "    Parameters:\n",
    "    - crawl_data (list of tuples): A list of tuples containing (url, markdown) for each crawled page.\n",
    "    - prompt (str): The text prompt to compare against the crawled page embeddings.\n",
    "    - num_results (int, optional): The number of top similar pages to return. If None, returns all pages.\n",
    "    - chunking (bool, optional): Whether we want to embed the full webpage or chunk.\n",
    "\n",
    "    Returns:\n",
    "    - polars.DataFrame: A DataFrame containing:\n",
    "        - \"url\": The webpage URL.\n",
    "        - \"markdown\": The extracted markdown content.\n",
    "        - \"embedding\": The computed embedding for the content.\n",
    "        - \"similarity\": The cosine similarity score with the prompt.\n",
    "    \"\"\"\n",
    "    res = []\n",
    "    \n",
    "    if chunking:\n",
    "        crawl_df = chunk_processing(crawl_data)\n",
    "    elif not chunking:\n",
    "        crawl_df = basic_processing(crawl_data)\n",
    "    \n",
    "    embeddings = np.stack(crawl_df[\"embedding\"].to_list())\n",
    "    \n",
    "    prompt_embedding = np.array(embedding_model.encode(prompt, convert_to_numpy=True), dtype='float64')\n",
    "    \n",
    "    # get similarity scores\n",
    "    sim=util.cos_sim(\n",
    "        prompt_embedding.astype(np.float32), \n",
    "        embeddings.astype(np.float32)\n",
    "    )\n",
    "    # get indices of top n most similar urls\n",
    "    if not num_results:\n",
    "        num_results = len(crawl_df)\n",
    "    indices = np.argsort(sim).numpy().flatten()[:-num_results-1:-1]\n",
    "    sorted_df = (\n",
    "        crawl_df[indices]\n",
    "        .with_columns(similarity=np.sort(sim).flatten()[:-num_results-1:-1])\n",
    "    )\n",
    "    return sorted_df"
   ]
  },
  {
   "cell_type": "code",
   "execution_count": 6,
   "id": "f3fa1e86-9138-433e-9d48-fef8c337d14a",
   "metadata": {},
   "outputs": [],
   "source": [
    "def pretty_print_results(sorted_df, num_results):\n",
    "    # print top n urls with similarity scores\n",
    "    print(\"\\nTop Similar Pages:\\n\" + \"=\"*40)\n",
    "    for i in range(min(num_results, len(sorted_df))):\n",
    "        url = sorted_df.get_column(\"url\")[i]\n",
    "        score = sorted_df.get_column(\"similarity\")[i]\n",
    "        print(f\"{i+1}. {url.ljust(60)} | Similarity: {score:.4f}\")"
   ]
  },
  {
   "cell_type": "code",
   "execution_count": 11,
   "id": "09d579af",
   "metadata": {},
   "outputs": [],
   "source": [
    "def load_csv_data(file_path):\n",
    "  pl.Config.set_float_precision(10)\n",
    "  #To give some more readiability, regardless of what is shown the numbers ARE the same!\n",
    "  df = pl.read_csv(file_path)\n",
    "  cleaned_df = df.with_columns(\n",
    "      pl.col(\"embedding\")\n",
    "        .str.strip_chars(\"[]\")\n",
    "        .str.replace_all(\"\\n\", '')\n",
    "        .str.strip_chars(\" \")\n",
    "        .str.split(' ')\n",
    "        .list.eval(pl.element().filter(pl.element() != \"\"))\n",
    "        .list.eval(pl.element().cast(pl.Float64, strict=False))\n",
    "  )\n",
    "  return cleaned_df"
   ]
  },
  {
   "cell_type": "code",
   "execution_count": 12,
   "id": "62700309-3308-4ff8-b9f5-cdafb6b01c13",
   "metadata": {},
   "outputs": [],
   "source": [
    "async def process_council(\n",
    "    council_names,\n",
    "    max_depth=6,\n",
    "    keyword_scorer=None,\n",
    "    filters=None,\n",
    "    prompt=\"A page about conservation areas.\",\n",
    "    cache_enabled=False,\n",
    "    num_results=10,\n",
    "    save_dfs = False,\n",
    "    load_dfs = False,\n",
    "    data_dir = '',\n",
    "    chunking = False\n",
    "):\n",
    "    crawler = Crawler(\n",
    "            max_depth=max_depth,\n",
    "            keyword_scorer=keyword_scorer,\n",
    "            filters=filters,\n",
    "            cache_enabled=cache_enabled,\n",
    "        )\n",
    "    \n",
    "    crawled_dfs = dict()\n",
    "\n",
    "    for council_name in council_names:\n",
    "        council_data = data.filter(pl.col(\"name\").str.contains(council_name))\n",
    "        short_council_name = council_data.get_column(\"website\")[0].split('.')[1]\n",
    "        full_name = council_data.get_column(\"name\")[0]\n",
    "        homepage = council_data.get_column(\"website\")[0]\n",
    "        prompt = prompt.format((full_name).replace('\\n', ''))\n",
    "        save_path = f\"{data_dir}{short_council_name}.csv\"\n",
    "\n",
    "        print(\"=\"*40 + f\"\\nProcessing {full_name}...\\n\")\n",
    "        \n",
    "        if os.path.isdir(data_dir) and load_dfs:\n",
    "            if f\"{short_council_name}.csv\" in os.listdir(data_dir): \n",
    "                sorted_df = load_csv_data(save_path)\n",
    "                pretty_print_results(sorted_df, num_results)\n",
    "                crawled_dfs[homepage] = sorted_df\n",
    "                continue\n",
    "            \n",
    "        # crawl url\n",
    "        crawl_data = await crawler.deep_crawl(homepage)\n",
    "        \n",
    "        # get markdown embeddings\n",
    "        sorted_df = get_similar_urls(crawl_data, prompt, chunking=chunking)\n",
    "        sorted_df = sorted_df.with_columns(pl.col(\"url\").str.strip_chars_end(\"/\"))\n",
    "\n",
    "        \n",
    "        pretty_print_results(sorted_df, num_results)\n",
    "\n",
    "        if save_dfs:\n",
    "            save_df = sorted_df.to_pandas()\n",
    "            short_council_name = council_data.get_column(\"website\")[0].split('.')[1]\n",
    "            save_df.to_csv(save_path)\n",
    "\n",
    "        crawled_dfs[homepage] = sorted_df\n",
    "    \n",
    "    return crawled_dfs"
   ]
  },
  {
   "cell_type": "markdown",
   "id": "cd082b60-59f0-4789-8051-2006e5e8f189",
   "metadata": {},
   "source": [
    "## Our approach\n",
    "\n",
    "Our approach involves 2 main steps: a web crawler and an embedding similarity search. Below is a description of these steps.\n",
    "\n",
    "### Web crawler\n",
    "\n",
    "The web crawler takes a homepage URL of an organisation (council website) and crawls it to look for pages talking about conservation areas.\n",
    "\n",
    "The crawler will look for links on a single page, put them in a queue and then iteratively check them until it finds what it was looking for or it reaches a stopping criterion, such as maximum depth (how many clicks away from home page). \n",
    "\n",
    "In order to save time, we can define some scorers or filters which tell the crawler which pages to prioritise or ignore. In this case, some common patterns of what a user needs to click to get to the page of interest are _\"planning\"_, _\"building\"_, _\"heritage\"_ or _\"conservation\"_.\n",
    "\n",
    "The crawler uses a *\"best first strategy\"*, which utilises the scorers or filters to visit most relevant sites first, rather than a depth-first or breath-first search.\n",
    "\n",
    "The crawler extracts the HTML from the pages and turns them into markdown. This is because it's more readable and easier to work with in the next steps. The crawler returns a list of pairs of (_url_, _markdown_).\n",
    "\n",
    "### Embedding search\n",
    "\n",
    "To be filled"
   ]
  },
  {
   "cell_type": "markdown",
   "id": "fa81c3c2-abc0-409d-ac54-90c58848fd1a",
   "metadata": {},
   "source": [
    "### The next few cells show how to use the tools to find conservation area pages.\n",
    "\n",
    "You can define your own parameters, such as maximum depth, how many results you want to see and any scorers or filters. Below is a template showing how to defin each scorer/filter type correctly - all you need to do is change the keywords or patterns.\n",
    "\n",
    "You can also define a prompt - this is what will be used to get embeddings scores for a webpage. The more similar the prompt is to what a conservation area page usually looks like, the more accurate the results.\n",
    "\n",
    "Lastly, you can await the `process_council` function, which will run the functionality described above and print the results. You can use it for one council only or for a list of councils."
   ]
  },
  {
   "cell_type": "markdown",
   "id": "63761147-b9c6-46aa-8538-6d2f5c57bc4e",
   "metadata": {},
   "source": [
    "#### Template for how to define filters or scorers\n",
    "##### Pick the types you need and adjust their parameter (keywords, threshold, ...) and pass them to the crawler function.\n",
    "    keyword_scorer = {\n",
    "        \"keywords\": [\"conservation\", \"conservation area\", \"planning\", \"building\", \"urban\", \"heritage\", \"resident\"],\n",
    "        \"weight\": 0.8,\n",
    "    }\n",
    "        \n",
    "    filters=[\n",
    "        {\"type\": \"SEOFilter\", \"threshold\": 0.6, \"keywords\": [\"conservation\", \"area\", \"planning\", \"heritage\", \"resident\"]},\n",
    "        {\"type\": \"ContentRelevanceFilter\", \"query\": \"conservation area or planning data\", \"threshold\": 0.2},\n",
    "        {\"type\": \"ContentTypeFilter\", \"allowed_types\": [\"text/html\"]},\n",
    "        {\"type\": \"URLPatternFilter\", \"patterns\": [\"*conservation*\", \"*planning*\", \"*building*\"]},\n",
    "    ]"
   ]
  },
  {
   "cell_type": "markdown",
   "id": "d48645d9-ab88-4369-bbb9-b76f282b9eeb",
   "metadata": {},
   "source": [
    "### Gedling"
   ]
  },
  {
   "cell_type": "code",
   "execution_count": 8,
   "id": "1aa1c676-48fe-4a1a-b02f-5314d79fc2ff",
   "metadata": {},
   "outputs": [
    {
     "name": "stdout",
     "output_type": "stream",
     "text": [
      "========================================\n",
      "Processing Gedling Borough Council...\n",
      "\n",
      "[INIT].... → Crawl4AI 0.5.0.post4\n",
      "Crawled 137 pages in total\n",
      "\n",
      "Top Similar Pages:\n",
      "========================================\n",
      "1. https://www.gedling.gov.uk/conservation/#page                | Similarity: 0.6600\n",
      "2. https://www.gedling.gov.uk/conservation/                     | Similarity: 0.6600\n",
      "3. http://www.gedling.gov.uk/resident/planningandbuildingcontrol/ | Similarity: 0.6419\n",
      "4. http://www.gedling.gov.uk/resident/planningandbuildingcontrol/#page | Similarity: 0.6419\n",
      "5. https://www.gedling.gov.uk/resident/planningandbuildingcontrol/ | Similarity: 0.6416\n",
      "6. https://www.gedling.gov.uk/resident/planningandbuildingcontrol/#page | Similarity: 0.6416\n",
      "7. https://www.gedling.gov.uk/resident/planningandbuildingcontrol/planningpolicy/naturalenvironment/ | Similarity: 0.6250\n",
      "8. https://www.gedling.gov.uk/resident/planningandbuildingcontrol/planningpolicy/naturalenvironment/#page | Similarity: 0.6250\n",
      "9. http://www.gedling.gov.uk/resident/planningandbuildingcontrol/planningpolicy/ | Similarity: 0.6018\n",
      "10. https://www.gedling.gov.uk/resident/planningandbuildingcontrol/planningpolicy/#page | Similarity: 0.5903\n"
     ]
    },
    {
     "ename": "CancelledError",
     "evalue": "",
     "output_type": "error",
     "traceback": [
      "\u001b[31m---------------------------------------------------------------------------\u001b[39m",
      "\u001b[31mCancelledError\u001b[39m                            Traceback (most recent call last)",
      "\u001b[36mCell\u001b[39m\u001b[36m \u001b[39m\u001b[32mIn[20]\u001b[39m\u001b[32m, line 16\u001b[39m\n\u001b[32m      8\u001b[39m \u001b[38;5;66;03m# please write the prompt such that there is a curly bracket where the council\u001b[39;00m\n\u001b[32m      9\u001b[39m \u001b[38;5;66;03m# name will be inserted\u001b[39;00m\n\u001b[32m     10\u001b[39m prompt = \u001b[33m\"\"\"\u001b[39m\n\u001b[32m     11\u001b[39m \u001b[33mThe text discusses conservation areas from the \u001b[39m\u001b[38;5;132;01m{}\u001b[39;00m\u001b[33m and includes data on \u001b[39m\n\u001b[32m     12\u001b[39m \u001b[33mplanning data, areas, interactive maps, appraisals, notices, boundaries, \u001b[39m\n\u001b[32m     13\u001b[39m \u001b[33mlinks and similar.\u001b[39m\n\u001b[32m     14\u001b[39m \u001b[33m\"\"\"\u001b[39m\n\u001b[32m---> \u001b[39m\u001b[32m16\u001b[39m \u001b[38;5;28;01mawait\u001b[39;00m process_council(\n\u001b[32m     17\u001b[39m     council_names=[\u001b[33m\"\u001b[39m\u001b[33mGedling\u001b[39m\u001b[33m\"\u001b[39m], \n\u001b[32m     18\u001b[39m     max_depth=max_depth, \n\u001b[32m     19\u001b[39m     filters=filters, \n\u001b[32m     20\u001b[39m     prompt=prompt, \n\u001b[32m     21\u001b[39m     num_results=num_results\n\u001b[32m     22\u001b[39m )\n",
      "\u001b[36mCell\u001b[39m\u001b[36m \u001b[39m\u001b[32mIn[19]\u001b[39m\u001b[32m, line 35\u001b[39m, in \u001b[36mprocess_council\u001b[39m\u001b[34m(council_names, max_depth, url_patterns, keyword_scorer, filters, prompt, cache_enabled, num_results, save_dfs, load_dfs, data_dir, chunking)\u001b[39m\n\u001b[32m     32\u001b[39m         \u001b[38;5;28;01mcontinue\u001b[39;00m\n\u001b[32m     34\u001b[39m \u001b[38;5;66;03m# crawl url\u001b[39;00m\n\u001b[32m---> \u001b[39m\u001b[32m35\u001b[39m crawl_data = \u001b[38;5;28;01mawait\u001b[39;00m(deep_crawl(\n\u001b[32m     36\u001b[39m     url=homepage, \n\u001b[32m     37\u001b[39m     max_depth=max_depth,\n\u001b[32m     38\u001b[39m     keyword_scorer=keyword_scorer,\n\u001b[32m     39\u001b[39m     url_patterns=url_patterns,\n\u001b[32m     40\u001b[39m     filters=filters,\n\u001b[32m     41\u001b[39m     cache_enabled=cache_enabled,\n\u001b[32m     42\u001b[39m ))\n\u001b[32m     44\u001b[39m \u001b[38;5;66;03m# get markdown embeddings\u001b[39;00m\n\u001b[32m     45\u001b[39m sorted_df = get_similar_urls(crawl_data, prompt, chunking=chunking)\n",
      "\u001b[36mCell\u001b[39m\u001b[36m \u001b[39m\u001b[32mIn[12]\u001b[39m\u001b[32m, line 80\u001b[39m, in \u001b[36mdeep_crawl\u001b[39m\u001b[34m(url, max_depth, include_external, url_patterns, keyword_scorer, filters, cache_enabled)\u001b[39m\n\u001b[32m     78\u001b[39m \u001b[38;5;66;03m# Run the crawler\u001b[39;00m\n\u001b[32m     79\u001b[39m \u001b[38;5;28;01masync\u001b[39;00m \u001b[38;5;28;01mwith\u001b[39;00m AsyncWebCrawler() \u001b[38;5;28;01mas\u001b[39;00m crawler:\n\u001b[32m---> \u001b[39m\u001b[32m80\u001b[39m     results = \u001b[38;5;28;01mawait\u001b[39;00m crawler.arun(url, config=config)\n\u001b[32m     81\u001b[39m     \u001b[38;5;28mprint\u001b[39m(\u001b[33mf\u001b[39m\u001b[33m\"\u001b[39m\u001b[33mCrawled \u001b[39m\u001b[38;5;132;01m{\u001b[39;00m\u001b[38;5;28mlen\u001b[39m(results)\u001b[38;5;132;01m}\u001b[39;00m\u001b[33m pages in total\u001b[39m\u001b[33m\"\u001b[39m)\n\u001b[32m     83\u001b[39m     \u001b[38;5;28;01mfor\u001b[39;00m result \u001b[38;5;129;01min\u001b[39;00m results:\n",
      "\u001b[36mFile \u001b[39m\u001b[32m~/Documents/quality-challenge/pushing_venv/lib/python3.13/site-packages/crawl4ai/deep_crawling/base_strategy.py:24\u001b[39m, in \u001b[36mDeepCrawlDecorator.__call__.<locals>.wrapped_arun\u001b[39m\u001b[34m(url, config, **kwargs)\u001b[39m\n\u001b[32m     22\u001b[39m token = \u001b[38;5;28mself\u001b[39m.deep_crawl_active.set(\u001b[38;5;28;01mTrue\u001b[39;00m)\n\u001b[32m     23\u001b[39m \u001b[38;5;66;03m# Await the arun call to get the actual result object.\u001b[39;00m\n\u001b[32m---> \u001b[39m\u001b[32m24\u001b[39m result_obj = \u001b[38;5;28;01mawait\u001b[39;00m config.deep_crawl_strategy.arun(\n\u001b[32m     25\u001b[39m     crawler=\u001b[38;5;28mself\u001b[39m.crawler,\n\u001b[32m     26\u001b[39m     start_url=url,\n\u001b[32m     27\u001b[39m     config=config\n\u001b[32m     28\u001b[39m )\n\u001b[32m     29\u001b[39m \u001b[38;5;28;01mif\u001b[39;00m config.stream:\n\u001b[32m     30\u001b[39m     \u001b[38;5;28;01masync\u001b[39;00m \u001b[38;5;28;01mdef\u001b[39;00m\u001b[38;5;250m \u001b[39m\u001b[34mresult_wrapper\u001b[39m():\n",
      "\u001b[36mFile \u001b[39m\u001b[32m~/Documents/quality-challenge/pushing_venv/lib/python3.13/site-packages/crawl4ai/deep_crawling/bff_strategy.py:248\u001b[39m, in \u001b[36mBestFirstCrawlingStrategy.arun\u001b[39m\u001b[34m(self, start_url, crawler, config)\u001b[39m\n\u001b[32m    246\u001b[39m     \u001b[38;5;28;01mreturn\u001b[39;00m \u001b[38;5;28mself\u001b[39m._arun_stream(start_url, crawler, config)\n\u001b[32m    247\u001b[39m \u001b[38;5;28;01melse\u001b[39;00m:\n\u001b[32m--> \u001b[39m\u001b[32m248\u001b[39m     \u001b[38;5;28;01mreturn\u001b[39;00m \u001b[38;5;28;01mawait\u001b[39;00m \u001b[38;5;28mself\u001b[39m._arun_batch(start_url, crawler, config)\n",
      "\u001b[36mFile \u001b[39m\u001b[32m~/Documents/quality-challenge/pushing_venv/lib/python3.13/site-packages/crawl4ai/deep_crawling/bff_strategy.py:213\u001b[39m, in \u001b[36mBestFirstCrawlingStrategy._arun_batch\u001b[39m\u001b[34m(self, start_url, crawler, config)\u001b[39m\n\u001b[32m    207\u001b[39m \u001b[38;5;250m\u001b[39m\u001b[33;03m\"\"\"\u001b[39;00m\n\u001b[32m    208\u001b[39m \u001b[33;03mBest-first crawl in batch mode.\u001b[39;00m\n\u001b[32m    209\u001b[39m \u001b[33;03m\u001b[39;00m\n\u001b[32m    210\u001b[39m \u001b[33;03mAggregates all CrawlResults into a list.\u001b[39;00m\n\u001b[32m    211\u001b[39m \u001b[33;03m\"\"\"\u001b[39;00m\n\u001b[32m    212\u001b[39m results: List[CrawlResult] = []\n\u001b[32m--> \u001b[39m\u001b[32m213\u001b[39m \u001b[38;5;28;01masync\u001b[39;00m \u001b[38;5;28;01mfor\u001b[39;00m result \u001b[38;5;129;01min\u001b[39;00m \u001b[38;5;28mself\u001b[39m._arun_best_first(start_url, crawler, config):\n\u001b[32m    214\u001b[39m     results.append(result)\n\u001b[32m    215\u001b[39m \u001b[38;5;28;01mreturn\u001b[39;00m results\n",
      "\u001b[36mFile \u001b[39m\u001b[32m~/Documents/quality-challenge/pushing_venv/lib/python3.13/site-packages/crawl4ai/deep_crawling/bff_strategy.py:170\u001b[39m, in \u001b[36mBestFirstCrawlingStrategy._arun_best_first\u001b[39m\u001b[34m(self, start_url, crawler, config)\u001b[39m\n\u001b[32m    168\u001b[39m batch_config = config.clone(deep_crawl_strategy=\u001b[38;5;28;01mNone\u001b[39;00m, stream=\u001b[38;5;28;01mTrue\u001b[39;00m)\n\u001b[32m    169\u001b[39m stream_gen = \u001b[38;5;28;01mawait\u001b[39;00m crawler.arun_many(urls=urls, config=batch_config)\n\u001b[32m--> \u001b[39m\u001b[32m170\u001b[39m \u001b[38;5;28;01masync\u001b[39;00m \u001b[38;5;28;01mfor\u001b[39;00m result \u001b[38;5;129;01min\u001b[39;00m stream_gen:\n\u001b[32m    171\u001b[39m     result_url = result.url\n\u001b[32m    172\u001b[39m     \u001b[38;5;66;03m# Find the corresponding tuple from the batch.\u001b[39;00m\n",
      "\u001b[36mFile \u001b[39m\u001b[32m~/Documents/quality-challenge/pushing_venv/lib/python3.13/site-packages/crawl4ai/async_webcrawler.py:736\u001b[39m, in \u001b[36mAsyncWebCrawler.arun_many.<locals>.result_transformer\u001b[39m\u001b[34m()\u001b[39m\n\u001b[32m    735\u001b[39m \u001b[38;5;28;01masync\u001b[39;00m \u001b[38;5;28;01mdef\u001b[39;00m\u001b[38;5;250m \u001b[39m\u001b[34mresult_transformer\u001b[39m():\n\u001b[32m--> \u001b[39m\u001b[32m736\u001b[39m     \u001b[38;5;28;01masync\u001b[39;00m \u001b[38;5;28;01mfor\u001b[39;00m task_result \u001b[38;5;129;01min\u001b[39;00m dispatcher.run_urls_stream(crawler=\u001b[38;5;28mself\u001b[39m, urls=urls, config=config):\n\u001b[32m    737\u001b[39m         \u001b[38;5;28;01myield\u001b[39;00m transform_result(task_result)\n",
      "\u001b[36mFile \u001b[39m\u001b[32m~/Documents/quality-challenge/pushing_venv/lib/python3.13/site-packages/crawl4ai/async_dispatcher.py:512\u001b[39m, in \u001b[36mMemoryAdaptiveDispatcher.run_urls_stream\u001b[39m\u001b[34m(self, urls, crawler, config)\u001b[39m\n\u001b[32m    510\u001b[39m \u001b[38;5;66;03m# Wait for any task to complete and yield results\u001b[39;00m\n\u001b[32m    511\u001b[39m \u001b[38;5;28;01mif\u001b[39;00m active_tasks:\n\u001b[32m--> \u001b[39m\u001b[32m512\u001b[39m     done, pending = \u001b[38;5;28;01mawait\u001b[39;00m asyncio.wait(\n\u001b[32m    513\u001b[39m         active_tasks, timeout=\u001b[32m0.1\u001b[39m, return_when=asyncio.FIRST_COMPLETED\n\u001b[32m    514\u001b[39m     )\n\u001b[32m    515\u001b[39m     \u001b[38;5;28;01mfor\u001b[39;00m completed_task \u001b[38;5;129;01min\u001b[39;00m done:\n\u001b[32m    516\u001b[39m         result = \u001b[38;5;28;01mawait\u001b[39;00m completed_task\n",
      "\u001b[36mFile \u001b[39m\u001b[32m/Library/Frameworks/Python.framework/Versions/3.13/lib/python3.13/asyncio/tasks.py:451\u001b[39m, in \u001b[36mwait\u001b[39m\u001b[34m(fs, timeout, return_when)\u001b[39m\n\u001b[32m    448\u001b[39m     \u001b[38;5;28;01mraise\u001b[39;00m \u001b[38;5;167;01mTypeError\u001b[39;00m(\u001b[33m\"\u001b[39m\u001b[33mPassing coroutines is forbidden, use tasks explicitly.\u001b[39m\u001b[33m\"\u001b[39m)\n\u001b[32m    450\u001b[39m loop = events.get_running_loop()\n\u001b[32m--> \u001b[39m\u001b[32m451\u001b[39m \u001b[38;5;28;01mreturn\u001b[39;00m \u001b[38;5;28;01mawait\u001b[39;00m _wait(fs, timeout, return_when, loop)\n",
      "\u001b[36mFile \u001b[39m\u001b[32m/Library/Frameworks/Python.framework/Versions/3.13/lib/python3.13/asyncio/tasks.py:537\u001b[39m, in \u001b[36m_wait\u001b[39m\u001b[34m(fs, timeout, return_when, loop)\u001b[39m\n\u001b[32m    534\u001b[39m     f.add_done_callback(_on_completion)\n\u001b[32m    536\u001b[39m \u001b[38;5;28;01mtry\u001b[39;00m:\n\u001b[32m--> \u001b[39m\u001b[32m537\u001b[39m     \u001b[38;5;28;01mawait\u001b[39;00m waiter\n\u001b[32m    538\u001b[39m \u001b[38;5;28;01mfinally\u001b[39;00m:\n\u001b[32m    539\u001b[39m     \u001b[38;5;28;01mif\u001b[39;00m timeout_handle \u001b[38;5;129;01mis\u001b[39;00m \u001b[38;5;129;01mnot\u001b[39;00m \u001b[38;5;28;01mNone\u001b[39;00m:\n",
      "\u001b[31mCancelledError\u001b[39m: "
     ]
    }
   ],
   "source": [
    "max_depth = 6\n",
    "num_results = 10\n",
    "filters=[\n",
    "    {\"type\": \"ContentTypeFilter\", \"allowed_types\": [\"text/html\"]},\n",
    "    {\"type\": \"URLPatternFilter\", \"patterns\": [\"*conservation*\", \"*planning*\", \"*building*\"]},\n",
    "]\n",
    "\n",
    "# please write the prompt such that there is a curly bracket where the council\n",
    "# name will be inserted\n",
    "prompt = \"\"\"\n",
    "The text discusses conservation areas from the {} and includes data on \n",
    "planning data, areas, interactive maps, appraisals, notices, boundaries, \n",
    "links and similar.\n",
    "\"\"\"\n",
    "\n",
    "df = await process_council(\n",
    "    council_names=[\"Gedling\"], \n",
    "    max_depth=max_depth, \n",
    "    filters=filters, \n",
    "    prompt=prompt, \n",
    "    num_results=num_results\n",
    ")"
   ]
  },
  {
   "cell_type": "markdown",
   "id": "64f29b7a-f3ed-4d8c-8bf6-b59fa6bb9a4f",
   "metadata": {},
   "source": [
    "### South Gloucestershire"
   ]
  },
  {
   "cell_type": "code",
   "execution_count": 8,
   "id": "9141c6a5-65bd-4d7d-8149-1b1a1491b972",
   "metadata": {},
   "outputs": [
    {
     "name": "stdout",
     "output_type": "stream",
     "text": [
      "========================================\n",
      "Processing South Gloucestershire Council...\n",
      "\n",
      "[INIT].... → Crawl4AI 0.5.0.post4\n"
     ]
    }
   ],
   "source": [
    "max_depth = 6\n",
    "num_results = 10\n",
    "filters=[\n",
    "    {\"type\": \"ContentTypeFilter\", \"allowed_types\": [\"text/html\"]},\n",
    "    {\"type\": \"URLPatternFilter\", \"patterns\": [\"*conservation*\", \"*planning*\", \"*building*\"]},\n",
    "]\n",
    "\n",
    "# please write the prompt such that there is a curly bracket where the council\n",
    "# name will be inserted\n",
    "prompt = \"\"\"\n",
    "The text discusses conservation areas from the {} and includes data on \n",
    "planning data, areas, interactive maps, appraisals, notices, boundaries, \n",
    "links and similar.\n",
    "\"\"\"\n",
    "\n",
    "await process_council(\n",
    "    council_names=[\"South Gloucestershire\"], \n",
    "    max_depth=max_depth, \n",
    "    filters=filters, \n",
    "    prompt=prompt, \n",
    "    num_results=num_results\n",
    ")"
   ]
  },
  {
   "cell_type": "markdown",
   "id": "5a416094-8fbc-4283-8047-27d2e24bcc05",
   "metadata": {},
   "source": [
    "### Bournemouth, Christchurch and Poole"
   ]
  },
  {
   "cell_type": "code",
   "execution_count": 13,
   "id": "1f87c118-de61-4a7b-8b19-7d02ef474ded",
   "metadata": {},
   "outputs": [
    {
     "name": "stdout",
     "output_type": "stream",
     "text": [
      "========================================\n",
      "Processing Bournemouth, Christchurch and Poole Council...\n",
      "\n",
      "[INIT].... → Crawl4AI 0.5.0.post4\n",
      "Crawled 504 pages in total\n",
      "\n",
      "Top Similar Pages:\n",
      "========================================\n",
      "1. https://www.bcpcouncil.gov.uk/planning-and-building-control/urban-design-trees-and-conservation/conservation-areas | Similarity: 0.6143\n",
      "2. https://www.bcpcouncil.gov.uk/planning-and-building-control/urban-design-trees-and-conservation/conservation-areas#guide-contents | Similarity: 0.6143\n",
      "3. https://www.bcpcouncil.gov.uk/planning-and-building-control/urban-design-trees-and-conservation/conservation-areas#main | Similarity: 0.6143\n",
      "4. https://bcpcouncil.gov.uk/planning-and-building-control/local-land-charges | Similarity: 0.6074\n",
      "5. https://bcpcouncil.gov.uk/planning-and-building-control/local-land-charges#guide-contents | Similarity: 0.6074\n",
      "6. https://bcpcouncil.gov.uk/planning-and-building-control/local-land-charges#main | Similarity: 0.6074\n",
      "7. https://bcpcouncil.gov.uk/planning-and-building-control/urban-design-trees-and-conservation/listed-buildings | Similarity: 0.6000\n",
      "8. https://bcpcouncil.gov.uk/planning-and-building-control/urban-design-trees-and-conservation#main | Similarity: 0.5985\n",
      "9. https://bcpcouncil.gov.uk/planning-and-building-control/urban-design-trees-and-conservation | Similarity: 0.5985\n",
      "10. https://www.bcpcouncil.gov.uk/planning-and-building-control/local-land-charges/local-land-charges-in-christchurch#main | Similarity: 0.5964\n"
     ]
    }
   ],
   "source": [
    "max_depth = 6\n",
    "num_results = 10\n",
    "filters=[\n",
    "    {\"type\": \"ContentTypeFilter\", \"allowed_types\": [\"text/html\"]},\n",
    "    {\"type\": \"URLPatternFilter\", \"patterns\": [\"*conservation*\", \"*planning*\", \"*building*\"]},\n",
    "]\n",
    "\n",
    "# please write the prompt such that there is a curly bracket where the council\n",
    "# name will be inserted\n",
    "prompt = \"\"\"\n",
    "The text discusses conservation areas from the {} and includes data on \n",
    "planning data, areas, interactive maps, appraisals, notices, boundaries, \n",
    "links and similar.\n",
    "\"\"\"\n",
    "\n",
    "await process_council(\n",
    "    council_names=[\"Bournemouth, Christchurch and Poole\"], \n",
    "    max_depth=max_depth, \n",
    "    filters=filters, \n",
    "    prompt=prompt, \n",
    "    num_results=num_results\n",
    ")"
   ]
  },
  {
   "cell_type": "markdown",
   "id": "60ec51f6-4058-489c-80d9-53c95de77a0c",
   "metadata": {},
   "source": [
    "### Warrington"
   ]
  },
  {
   "cell_type": "code",
   "execution_count": 9,
   "id": "614492c8",
   "metadata": {},
   "outputs": [
    {
     "name": "stdout",
     "output_type": "stream",
     "text": [
      "========================================\n",
      "Processing Warrington Borough Council...\n",
      "\n",
      "[INIT].... → Crawl4AI 0.5.0.post4\n",
      "Crawled 67 pages in total\n",
      "\n",
      "Top Similar Pages:\n",
      "========================================\n",
      "1. https://www.warrington.gov.uk/nature-conservation#main-content | Similarity: 0.6056\n",
      "2. https://www.warrington.gov.uk/nature-conservation            | Similarity: 0.6056\n",
      "3. https://online.warrington.gov.uk/planning/index.html         | Similarity: 0.5629\n",
      "4. https://online.warrington.gov.uk/planning/                   | Similarity: 0.5513\n",
      "5. https://www.warrington.gov.uk/supplementary-planning-documents-consultation | Similarity: 0.5456\n",
      "6. https://www.warrington.gov.uk/supplementary-planning-documents-consultation#main-content | Similarity: 0.5456\n",
      "7. https://www.warrington.gov.uk/supplementary-planning-documents | Similarity: 0.5359\n",
      "8. https://www.warrington.gov.uk/supplementary-planning-documents#main-content | Similarity: 0.5359\n",
      "9. https://www.warrington.gov.uk/planning-policy-archives#main-content | Similarity: 0.5312\n",
      "10. https://www.warrington.gov.uk/planning-policy-archives       | Similarity: 0.5312\n"
     ]
    }
   ],
   "source": [
    "max_depth = 6\n",
    "num_results = 10\n",
    "filters=[\n",
    "    {\"type\": \"ContentTypeFilter\", \"allowed_types\": [\"text/html\"]},\n",
    "    {\"type\": \"URLPatternFilter\", \"patterns\": [\"*conservation*\", \"*planning*\", \"*building*\"]},\n",
    "]\n",
    "\n",
    "# please write the prompt such that there is a curly bracket where the council\n",
    "# name will be inserted\n",
    "prompt = \"\"\"\n",
    "The text discusses conservation areas from the {} and includes data on \n",
    "planning data, areas, interactive maps, appraisals, notices, boundaries, \n",
    "links and similar.\n",
    "\"\"\"\n",
    "\n",
    "await process_council(\n",
    "    council_names=[\"Warrington\"], \n",
    "    max_depth=max_depth, \n",
    "    filters=filters, \n",
    "    prompt=prompt, \n",
    "    num_results=num_results\n",
    ")"
   ]
  },
  {
   "cell_type": "markdown",
   "id": "2a16eca4-dff1-43a8-a28e-e847dc145dcc",
   "metadata": {},
   "source": [
    "### Stoke on Trent"
   ]
  },
  {
   "cell_type": "code",
   "execution_count": 10,
   "id": "87a073d1",
   "metadata": {},
   "outputs": [
    {
     "name": "stdout",
     "output_type": "stream",
     "text": [
      "========================================\n",
      "Processing Stoke-on-Trent City Council...\n",
      "\n",
      "[INIT].... → Crawl4AI 0.5.0.post4\n",
      "Crawled 129 pages in total\n",
      "\n",
      "Top Similar Pages:\n",
      "========================================\n",
      "1. https://www.stoke.gov.uk/info/20005/planning_and_building/547/conservation_areas#content | Similarity: 0.8232\n",
      "2. https://www.stoke.gov.uk/info/20005/planning_and_building/547/conservation_areas | Similarity: 0.8232\n",
      "3. https://www.stoke.gov.uk/news/article/1509/council_announces_new_conservation_areas#content | Similarity: 0.8073\n",
      "4. https://www.stoke.gov.uk/news/article/1509/council_announces_new_conservation_areas | Similarity: 0.8073\n",
      "5. https://www.stoke.gov.uk/news/article/1285/changes_to_conservation_areas_in_stoke-on-trent | Similarity: 0.7924\n",
      "6. https://www.stoke.gov.uk/news/article/1285/changes_to_conservation_areas_in_stoke-on-trent#content | Similarity: 0.7924\n",
      "7. https://www.stoke.gov.uk/conservationareas#content           | Similarity: 0.7902\n",
      "8. http://www.stoke.gov.uk/conservationareas                    | Similarity: 0.7902\n",
      "9. https://www.stoke.gov.uk/conservationareas                   | Similarity: 0.7902\n",
      "10. https://www.stoke.gov.uk/news/article/1235/changes_to_conservation_areas_in_stoke-on-trent#content | Similarity: 0.7682\n"
     ]
    }
   ],
   "source": [
    "max_depth = 6\n",
    "num_results = 10\n",
    "filters=[\n",
    "    {\"type\": \"ContentTypeFilter\", \"allowed_types\": [\"text/html\"]},\n",
    "    {\"type\": \"URLPatternFilter\", \"patterns\": [\"*conservation*\", \"*planning*\", \"*building*\"]},\n",
    "]\n",
    "\n",
    "# please write the prompt such that there is a curly bracket where the council\n",
    "# name will be inserted\n",
    "prompt = \"\"\"\n",
    "The text discusses conservation areas from the {} and includes data on \n",
    "planning data, areas, interactive maps, appraisals, notices, boundaries, \n",
    "links and similar.\n",
    "\"\"\"\n",
    "\n",
    "await process_council(\n",
    "    council_names=[\"Stoke\"], \n",
    "    max_depth=max_depth, \n",
    "    filters=filters, \n",
    "    prompt=prompt, \n",
    "    num_results=num_results\n",
    ")"
   ]
  },
  {
   "cell_type": "markdown",
   "id": "187695cb-e99c-40c6-9407-af0a7a3df0f7",
   "metadata": {},
   "source": [
    "### Redbridge"
   ]
  },
  {
   "cell_type": "code",
   "execution_count": 14,
   "id": "de8348d8",
   "metadata": {},
   "outputs": [
    {
     "name": "stdout",
     "output_type": "stream",
     "text": [
      "========================================\n",
      "Processing London Borough of Redbridge...\n",
      "\n",
      "[INIT].... → Crawl4AI 0.5.0.post4\n",
      "Crawled 762 pages in total\n",
      "\n",
      "Top Similar Pages:\n",
      "========================================\n",
      "1. https://www.redbridge.gov.uk/planning-and-building/protected-buildings-and-conservation-areas/article-4-direction-c4-hmos/ | Similarity: 0.6607\n",
      "2. https://www.redbridge.gov.uk/planning-and-building/protected-buildings-and-conservation-areas/article-4-direction-c4-hmos/#accessibilitySkip | Similarity: 0.6607\n",
      "3. https://www.redbridge.gov.uk/planning-and-building/protected-buildings-and-conservation-areas/ | Similarity: 0.6513\n",
      "4. https://www.redbridge.gov.uk/planning-and-building/protected-buildings-and-conservation-areas/#accessibilitySkip | Similarity: 0.6513\n",
      "5. https://www.redbridge.gov.uk/Account/Register?returnurl=%2Fplanning-and-building%2Fprotected-buildings-and-conservation-areas%2Farticle-4-direction-c4-hmos%2F&clientid=RedbridgeCMSLive#accessibilitySkip | Similarity: 0.6512\n",
      "6. https://www.redbridge.gov.uk/Account/Register?returnurl=%2Fplanning-and-building%2Fprotected-buildings-and-conservation-areas%2Farticle-4-direction-c4-hmos%2F&clientid=RedbridgeCMSLive | Similarity: 0.6512\n",
      "7. https://www.redbridge.gov.uk/Account/ForgotPassword?returnurl=%2Fplanning-and-building%2Fprotected-buildings-and-conservation-areas%2Farticle-4-direction-c4-hmos%2F&clientid=RedbridgeCMSLive | Similarity: 0.6489\n",
      "8. https://my.redbridge.gov.uk/Map/conservation-areas           | Similarity: 0.6486\n",
      "9. https://my.redbridge.gov.uk/map/conservation-areas           | Similarity: 0.6486\n",
      "10. https://my.redbridge.gov.uk/Map/conservation-areas#accessibilitySkip | Similarity: 0.6486\n"
     ]
    }
   ],
   "source": [
    "max_depth = 6\n",
    "num_results = 10\n",
    "filters=[\n",
    "    {\"type\": \"ContentTypeFilter\", \"allowed_types\": [\"text/html\"]},\n",
    "    {\"type\": \"URLPatternFilter\", \"patterns\": [\"*conservation*\", \"*planning*\", \"*building*\"]},\n",
    "]\n",
    "\n",
    "# please write the prompt such that there is a curly bracket where the council\n",
    "# name will be inserted\n",
    "prompt = \"\"\"\n",
    "The text discusses conservation areas from the {} and includes data on \n",
    "planning data, areas, interactive maps, appraisals, notices, boundaries, \n",
    "links and similar.\n",
    "\"\"\"\n",
    "\n",
    "await process_council(\n",
    "    council_names=[\"Redbridge\"], \n",
    "    max_depth=max_depth, \n",
    "    filters=filters, \n",
    "    prompt=prompt, \n",
    "    num_results=num_results\n",
    ")"
   ]
  },
  {
   "cell_type": "markdown",
   "id": "286414dd-dd60-48f1-b09f-74d86be15a2c",
   "metadata": {},
   "source": [
    "### York"
   ]
  },
  {
   "cell_type": "code",
   "execution_count": 25,
   "id": "ebc0f222",
   "metadata": {},
   "outputs": [
    {
     "name": "stdout",
     "output_type": "stream",
     "text": [
      "========================================\n",
      "Processing York...\n",
      "\n",
      "[INIT].... → Crawl4AI 0.5.0.post4\n",
      "Crawled 3260 pages in total\n",
      "\n",
      "Top Similar Pages:\n",
      "========================================\n",
      "1. https://planningaccess.york.gov.uk/online-applications/#top  | Similarity: 0.4857\n",
      "2. https://planningaccess.york.gov.uk/online-applications/#pageheading | Similarity: 0.4857\n",
      "3. https://planningaccess.york.gov.uk/online-applications/      | Similarity: 0.4857\n",
      "4. https://www.york.gov.uk/conservation-listed-buildings/york-central-historic-core-conservation-area-appraisal-hccaa#content | Similarity: 0.4832\n",
      "5. https://www.york.gov.uk/conservation-listed-buildings/york-central-historic-core-conservation-area-appraisal-hccaa | Similarity: 0.4832\n",
      "6. https://www.york.gov.uk/conservation-listed-buildings/york-central-historic-core-conservation-area-appraisal-hccaa#js-menu | Similarity: 0.4832\n",
      "7. https://www.york.gov.uk/conservation-listed-buildings/york-central-historic-core-conservation-area-appraisal-hccaa#top | Similarity: 0.4832\n",
      "8. https://www.york.gov.uk/conservation-listed-buildings/york-central-historic-core-conservation-area-appraisal-hccaa#js-search | Similarity: 0.4832\n",
      "9. https://www.york.gov.uk/conservation-listed-buildings/york-central-historic-core-conservation-area-appraisal-hccaa#js-search-toggle | Similarity: 0.4832\n",
      "10. https://www.york.gov.uk/conservation-listed-buildings/york-central-historic-core-conservation-area-appraisal-hccaa#js-menu-toggle | Similarity: 0.4832\n"
     ]
    }
   ],
   "source": [
    "max_depth = 6\n",
    "num_results = 10\n",
    "filters=[\n",
    "    {\"type\": \"ContentTypeFilter\", \"allowed_types\": [\"text/html\"]},\n",
    "    {\"type\": \"URLPatternFilter\", \"patterns\": [r\"*[Cc]onservation*\", r\"*[Pp]lanning*\", r\"*[Bb]uilding*\"]},\n",
    "]\n",
    "\n",
    "# please write the prompt such that there is a curly bracket where the council\n",
    "# name will be inserted\n",
    "prompt = \"\"\"\n",
    "The text discusses conservation areas from the {} and includes data on \n",
    "planning data, areas, interactive maps, appraisals, notices, boundaries, \n",
    "links and similar.\n",
    "\"\"\"\n",
    "\n",
    "await process_council(\n",
    "    council_names=[\"York\"], \n",
    "    max_depth=max_depth, \n",
    "    filters=filters, \n",
    "    prompt=prompt, \n",
    "    num_results=num_results\n",
    ")"
   ]
  },
  {
   "cell_type": "markdown",
   "id": "338095f7-217c-4afe-a2db-532759ffa411",
   "metadata": {},
   "source": [
    "### Malvern Hills"
   ]
  },
  {
   "cell_type": "code",
   "execution_count": null,
   "id": "7b106626",
   "metadata": {},
   "outputs": [
    {
     "name": "stdout",
     "output_type": "stream",
     "text": [
      "========================================\n",
      "Processing Malvern Hills...\n",
      "\n",
      "[INIT].... → Crawl4AI 0.5.0.post4\n"
     ]
    }
   ],
   "source": [
    "max_depth = 6\n",
    "num_results = 10\n",
    "filters=[\n",
    "    {\"type\": \"ContentTypeFilter\", \"allowed_types\": [\"text/html\"]},\n",
    "    {\"type\": \"URLPatternFilter\", \"patterns\": [r\"*[Cc]onservation*\", r\"*[Pp]lanning*\", r\"*[Bb]uilding*\"]},\n",
    "]\n",
    "\n",
    "# please write the prompt such that there is a curly bracket where the council\n",
    "# name will be inserted\n",
    "prompt = \"\"\"\n",
    "The text discusses conservation areas from the {} and includes data on \n",
    "planning data, areas, interactive maps, appraisals, notices, boundaries, \n",
    "links and similar.\n",
    "\"\"\"\n",
    "\n",
    "await process_council(\n",
    "    council_names=[\"Malvern Hills\"], \n",
    "    max_depth=max_depth, \n",
    "    filters=filters, \n",
    "    prompt=prompt, \n",
    "    num_results=num_results\n",
    ")"
   ]
  },
  {
   "cell_type": "markdown",
   "id": "0c4a7493-5717-409f-843e-b98295bf5350",
   "metadata": {},
   "source": [
    "## Multiple councils\n",
    "\n",
    "You can define any list of councils and their processing will be executed sequentially"
   ]
  },
  {
   "cell_type": "code",
   "execution_count": 29,
   "id": "a7ab152b-5fac-480d-8538-d47b43247dd2",
   "metadata": {
    "scrolled": true
   },
   "outputs": [
    {
     "data": {
      "text/html": [
       "<div><style>\n",
       ".dataframe > thead > tr,\n",
       ".dataframe > tbody > tr {\n",
       "  text-align: right;\n",
       "  white-space: pre-wrap;\n",
       "}\n",
       "</style>\n",
       "<small>shape: (10, 3)</small><table border=\"1\" class=\"dataframe\"><thead><tr><th>name</th><th>website</th><th>documentation_url</th></tr><tr><td>str</td><td>str</td><td>list[str]</td></tr></thead><tbody><tr><td>&quot;Canterbury City Council&quot;</td><td>&quot;https://www.canterbury.gov.uk&quot;</td><td>[&quot;https://mapping.canterbury.gov.uk/arcgis/rest/services/External/Planning_Constraints_New/MapServer&quot;]</td></tr><tr><td>&quot;Leicester City Council&quot;</td><td>&quot;https://www.leicester.gov.uk&quot;</td><td>[&quot;https://data.gov.uk/dataset/e702ebff-27b4-4e86-acbb-74d066f3c4e7/conservation-areas&quot;, &quot;https://data.leicester.gov.uk/explore/?q=conservation+area&amp;sort=modified&quot;, &quot;https://data.leicester.gov.uk/explore/?q=conservation+area&amp;sort=modified&quot;]</td></tr><tr><td>&quot;Gateshead Metropolitan Borough…</td><td>&quot;https://www.gateshead.gov.uk&quot;</td><td>[null, &quot;https://gateshead-council-open-data-gateshead.hub.arcgis.com/datasets/Gateshead::spe-hx-conservation-areas/about&quot;]</td></tr><tr><td>&quot;Runnymede Borough Council&quot;</td><td>&quot;https://www.runnymede.gov.uk&quot;</td><td>[null]</td></tr><tr><td>&quot;Birmingham City Council&quot;</td><td>&quot;https://www.birmingham.gov.uk&quot;</td><td>[null, null, … &quot;https://openplanningdata-sbham.hub.arcgis.com/datasets/ee06653284154ccfb4fec1e9428760e1/about&quot;]</td></tr><tr><td>&quot;Thurrock Thames Gateway Develo…</td><td>&quot;https://www.gov.uk/government/…</td><td>[null]</td></tr><tr><td>&quot;Basildon Borough Council&quot;</td><td>&quot;https://www.basildon.gov.uk&quot;</td><td>[null]</td></tr><tr><td>&quot;London Borough of Richmond upo…</td><td>&quot;https://www.richmond.gov.uk&quot;</td><td>[null]</td></tr><tr><td>&quot;Ministry of Housing, Communiti…</td><td>&quot;https://www.gov.uk/government/…</td><td>[&quot;https://dluhc-datasets.planning-data.dev/dataset/conservation-area-document-type&quot;, &quot;https://github.com/digital-land/conservation-area-data/tree/main/data/Output/Missing&quot;, … &quot;https://dataset-editor.development.planning.data.gov.uk/dataset/conservation-area-document-type&quot;]</td></tr><tr><td>&quot;Newcastle-under-Lyme Borough C…</td><td>&quot;https://www.newcastle-staffs.g…</td><td>[null]</td></tr></tbody></table></div>"
      ],
      "text/plain": [
       "shape: (10, 3)\n",
       "┌────────────────────────────────┬────────────────────────────────┬────────────────────────────────┐\n",
       "│ name                           ┆ website                        ┆ documentation_url              │\n",
       "│ ---                            ┆ ---                            ┆ ---                            │\n",
       "│ str                            ┆ str                            ┆ list[str]                      │\n",
       "╞════════════════════════════════╪════════════════════════════════╪════════════════════════════════╡\n",
       "│ Canterbury City Council        ┆ https://www.canterbury.gov.uk  ┆ [\"https://mapping.canterbury.g │\n",
       "│                                ┆                                ┆ …                              │\n",
       "│ Leicester City Council         ┆ https://www.leicester.gov.uk   ┆ [\"https://data.gov.uk/dataset/ │\n",
       "│                                ┆                                ┆ …                              │\n",
       "│ Gateshead Metropolitan         ┆ https://www.gateshead.gov.uk   ┆ [null,                         │\n",
       "│ Borough…                       ┆                                ┆ \"https://gateshead-coun…       │\n",
       "│ Runnymede Borough Council      ┆ https://www.runnymede.gov.uk   ┆ [null]                         │\n",
       "│ Birmingham City Council        ┆ https://www.birmingham.gov.uk  ┆ [null, null, …                 │\n",
       "│                                ┆                                ┆ \"https://openpl…               │\n",
       "│ Thurrock Thames Gateway        ┆ https://www.gov.uk/government/ ┆ [null]                         │\n",
       "│ Develo…                        ┆ …                              ┆                                │\n",
       "│ Basildon Borough Council       ┆ https://www.basildon.gov.uk    ┆ [null]                         │\n",
       "│ London Borough of Richmond     ┆ https://www.richmond.gov.uk    ┆ [null]                         │\n",
       "│ upo…                           ┆                                ┆                                │\n",
       "│ Ministry of Housing,           ┆ https://www.gov.uk/government/ ┆ [\"https://dluhc-datasets.plann │\n",
       "│ Communiti…                     ┆ …                              ┆ …                              │\n",
       "│ Newcastle-under-Lyme Borough   ┆ https://www.newcastle-staffs.g ┆ [null]                         │\n",
       "│ C…                             ┆ …                              ┆                                │\n",
       "└────────────────────────────────┴────────────────────────────────┴────────────────────────────────┘"
      ]
     },
     "execution_count": 29,
     "metadata": {},
     "output_type": "execute_result"
    }
   ],
   "source": [
    "np.random.seed(4321)\n",
    "num_examples = 10\n",
    "example_idx = np.random.randint(0, len(data), num_examples)\n",
    "examples = data[example_idx]\n",
    "examples"
   ]
  },
  {
   "cell_type": "code",
   "execution_count": null,
   "id": "ee9d402d-0ffb-46b7-98ef-2f6b813aaee9",
   "metadata": {},
   "outputs": [],
   "source": [
    "max_depth = 6\n",
    "num_results = 10\n",
    "filters=[\n",
    "    {\"type\": \"ContentTypeFilter\", \"allowed_types\": [\"text/html\"]},\n",
    "    {\"type\": \"URLPatternFilter\", \"patterns\": [\"*conservation*\", \"*planning*\", \"*building*\"]},\n",
    "]\n",
    "\n",
    "# please write the prompt such that there is a curly bracket where the council\n",
    "# name will be inserted\n",
    "prompt = \"\"\"\n",
    "The text discusses conservation areas from the {} and includes data on \n",
    "planning data, areas, interactive maps, appraisals, notices, boundaries, \n",
    "links and similar.\n",
    "\"\"\"\n",
    "\n",
    "await process_council(\n",
    "    council_names=examples.get_column(\"name\"), \n",
    "    max_depth=max_depth, \n",
    "    filters=filters, \n",
    "    prompt=prompt, \n",
    "    num_results=num_results\n",
    ")"
   ]
  },
  {
   "cell_type": "markdown",
   "id": "079b4c39",
   "metadata": {},
   "source": [
    "## Evaluating Results\n",
    "\n",
    "For this section we manually labelled 25 councils with their true page. We perform tests and ranking here to assess the performance of our model."
   ]
  },
  {
   "cell_type": "code",
   "execution_count": 13,
   "id": "120e25d7-db9d-4213-a3e0-a733ab14bb49",
   "metadata": {},
   "outputs": [],
   "source": [
    "test_df = pl.read_csv(\"data/page_ranking_truth_df.csv\")\n",
    "test_df = test_df.with_columns(pl.col(\"correct_documentation_url\").str.strip_chars_end(\"/\"))\n",
    "test_website_list = test_df[\"website\"].to_list()\n",
    "data_filtered = data.filter(pl.col(\"website\").is_in(test_website_list))\n",
    "combined_df = data_filtered.join(test_df, on='website')"
   ]
  },
  {
   "cell_type": "code",
   "execution_count": null,
   "id": "dadc4af4",
   "metadata": {},
   "outputs": [
    {
     "name": "stdout",
     "output_type": "stream",
     "text": [
      "========================================\n",
      "Processing Gloucester City Council...\n",
      "\n",
      "[INIT].... → Crawl4AI 0.5.0.post4\n",
      "Crawled 212 pages in total\n",
      "\n",
      "Top Similar Pages:\n",
      "========================================\n",
      "1. https://www.gloucester.gov.uk/planning-development/conservation-regeneration/conservation-regeneration-faqs/#main-content | Similarity: 0.8453\n",
      "2. https://www.gloucester.gov.uk/planning-development/conservation-regeneration/conservation-regeneration-faqs | Similarity: 0.8453\n",
      "3. https://www.gloucester.gov.uk/planning-development/conservation-regeneration/conservation-areas | Similarity: 0.8303\n",
      "4. https://www.gloucester.gov.uk/planning-development/conservation-regeneration/conservation-areas/#main-content | Similarity: 0.8303\n",
      "5. https://www.gloucester.gov.uk/planning-development/planning-applications/planning-applications-faqs | Similarity: 0.8252\n",
      "6. https://www.gloucester.gov.uk/planning-development/planning-applications/planning-applications-faqs/#main-content | Similarity: 0.8252\n",
      "7. https://www.gloucester.gov.uk/planning-development/planning-applications/planning-applications-faqs | Similarity: 0.8252\n",
      "8. https://www.gloucester.gov.uk/planning-development/planning-applications/planning-applications-faqs/#main-content | Similarity: 0.8252\n",
      "9. https://www.gloucester.gov.uk/planning-development/conservation-regeneration/conservation-regeneration-faqs | Similarity: 0.8056\n",
      "10. https://www.gloucester.gov.uk/planning-development/conservation-regeneration/conservation-regeneration-faqs/#main-content | Similarity: 0.8056\n",
      "========================================\n",
      "Processing Great Yarmouth Borough Council...\n",
      "\n",
      "[INIT].... → Crawl4AI 0.5.0.post4\n",
      "Crawled 68 pages in total\n",
      "\n",
      "Top Similar Pages:\n",
      "========================================\n",
      "1. https://www.great-yarmouth.gov.uk/conservation-areas         | Similarity: 0.7119\n",
      "2. https://www.great-yarmouth.gov.uk/conservation-areas         | Similarity: 0.6471\n",
      "3. https://www.great-yarmouth.gov.uk/conservation-areas         | Similarity: 0.5699\n",
      "4. https://www.great-yarmouth.gov.uk/conservation-areas         | Similarity: 0.5643\n",
      "5. https://www.great-yarmouth.gov.uk/conservation-areas         | Similarity: 0.5182\n",
      "6. https://www.great-yarmouth.gov.uk/conservation-areas         | Similarity: 0.5138\n",
      "7. https://cil.planning.great-yarmouth.gov.uk/correspondence-address | Similarity: 0.4874\n",
      "8. https://www.great-yarmouth.gov.uk/conservation-areas         | Similarity: 0.4855\n",
      "9. https://www.great-yarmouth.gov.uk/article/2480/Trees-in-conservation-areas | Similarity: 0.4816\n",
      "10. https://www.great-yarmouth.gov.uk/conservation-areas         | Similarity: 0.4790\n",
      "========================================\n",
      "Processing South Gloucestershire Council...\n",
      "\n",
      "[INIT].... → Crawl4AI 0.5.0.post4\n",
      "Crawled 332 pages in total\n",
      "\n",
      "Top Similar Pages:\n",
      "========================================\n",
      "1. https://beta.southglos.gov.uk/conservation-area              | Similarity: 0.7505\n",
      "2. https://beta.southglos.gov.uk/conservation-area              | Similarity: 0.7505\n",
      "3. https://beta.southglos.gov.uk/conservation-area              | Similarity: 0.7042\n",
      "4. https://beta.southglos.gov.uk/conservation-area              | Similarity: 0.7042\n",
      "5. https://beta.southglos.gov.uk/conservation-area              | Similarity: 0.6783\n",
      "6. https://beta.southglos.gov.uk/conservation-area              | Similarity: 0.6783\n",
      "7. https://beta.southglos.gov.uk/conservation-area              | Similarity: 0.6644\n",
      "8. https://beta.southglos.gov.uk/conservation-area              | Similarity: 0.6644\n",
      "9. https://beta.southglos.gov.uk/planning-policy-guidance       | Similarity: 0.6198\n",
      "10. https://beta.southglos.gov.uk/planning-policy-guidance       | Similarity: 0.6198\n",
      "========================================\n",
      "Processing Epsom and Ewell Borough Council...\n",
      "\n",
      "[INIT].... → Crawl4AI 0.5.0.post4\n",
      "Crawled 144 pages in total\n",
      "\n",
      "Top Similar Pages:\n",
      "========================================\n",
      "1. https://www.epsom-ewell.gov.uk/residents/planning/historic-environment/conservation-areas#main-content | Similarity: 0.6958\n",
      "2. https://www.epsom-ewell.gov.uk/conservation-areas            | Similarity: 0.6958\n",
      "3. https://www.epsom-ewell.gov.uk/residents/planning/historic-environment/conservation-areas | Similarity: 0.6958\n",
      "4. https://www.epsom-ewell.gov.uk/conservation-areas#main-content | Similarity: 0.6958\n",
      "5. https://www.epsom-ewell.gov.uk/residents/planning/historic-environment/conservation-areas#main-content | Similarity: 0.6713\n",
      "6. https://www.epsom-ewell.gov.uk/conservation-areas            | Similarity: 0.6713\n",
      "7. https://www.epsom-ewell.gov.uk/residents/planning/historic-environment/conservation-areas | Similarity: 0.6713\n",
      "8. https://www.epsom-ewell.gov.uk/conservation-areas#main-content | Similarity: 0.6713\n",
      "9. https://www.epsom-ewell.gov.uk/conservation-areas#main-content | Similarity: 0.5962\n",
      "10. https://www.epsom-ewell.gov.uk/conservation-areas            | Similarity: 0.5962\n",
      "========================================\n",
      "Processing West Berkshire Council...\n",
      "\n",
      "[INIT].... → Crawl4AI 0.5.0.post4\n",
      "Crawled 851 pages in total\n",
      "\n",
      "Top Similar Pages:\n",
      "========================================\n",
      "1. https://www.westberks.gov.uk/planning-data                   | Similarity: 0.6593\n",
      "2. https://www.westberks.gov.uk/conservationareas               | Similarity: 0.6313\n",
      "3. https://www.westberks.gov.uk/planning-advice                 | Similarity: 0.6140\n",
      "4. https://www.westberks.gov.uk/planning-data-conservation-areas | Similarity: 0.6064\n",
      "5. https://www.westberks.gov.uk/planning-conservation-areas     | Similarity: 0.5932\n",
      "6. https://www.westberks.gov.uk/conservationareas               | Similarity: 0.5859\n",
      "7. https://www.westberks.gov.uk/conservation-area-appraisals    | Similarity: 0.5840\n",
      "8. https://www.westberks.gov.uk/conservationareas               | Similarity: 0.5771\n",
      "9. https://www.westberks.gov.uk/planning-applications-speaking-planning-committee | Similarity: 0.5728\n",
      "10. https://www.westberks.gov.uk/planning-advice                 | Similarity: 0.5689\n"
     ]
    }
   ],
   "source": [
    "max_depth = 6\n",
    "num_results = 10\n",
    "filters=[\n",
    "    {\"type\": \"ContentTypeFilter\", \"allowed_types\": [\"text/html\"]},\n",
    "    {\"type\": \"URLPatternFilter\", \"patterns\": [\"*conservation*\", \"*planning*\", \"*building*\"]},\n",
    "]\n",
    "\n",
    "# please write the prompt such that there is a curly bracket where the council\n",
    "# name will be inserted\n",
    "prompt = \"\"\"\n",
    "Conservation Areas in {}\n",
    "\n",
    "We are committed to preserving the historic and architectural character of our borough\n",
    "through designated conservation areas. These areas protect buildings, streets, and \n",
    "landscapes of special significance, ensuring that any changes respect their unique heritage. \n",
    "If you live or own property in a conservation area, additional planning controls may \n",
    "apply to alterations, demolitions, and new developments. Our aim is to balance modern \n",
    "needs with the protection of our historic environment. For more information on conservation \n",
    "area guidelines, planning applications, and how you can contribute to local heritage preservation, \n",
    "please visit our planning and conservation pages.\n",
    "\"\"\"\n",
    "# Fair warning, this will take multiple hours to run in its entirety. \n",
    "# You can save and reload with the provided arguments, but the csvs are very large.\n",
    "\n",
    "test_output_dict = await process_council(\n",
    "    council_names=combined_df.get_column(\"name\")[:5], # Just the first 5 takes 20 mins.\n",
    "    max_depth=max_depth, \n",
    "    filters=filters,        \n",
    "    prompt=prompt, \n",
    "    num_results=num_results,\n",
    "    save_dfs = False,\n",
    "    load_dfs = False,\n",
    "    data_dir = 'chunking_test_dfs/',\n",
    "    chunking = True\n",
    ")"
   ]
  },
  {
   "cell_type": "code",
   "execution_count": 23,
   "id": "7ba32036",
   "metadata": {},
   "outputs": [],
   "source": [
    "def url_cleaning(df, col):\n",
    "    df = df.with_columns(pl.col(col).str.replace(\n",
    "        \"http://\", \"https://\", literal=True))\n",
    "    df = df.with_columns(pl.col(col).str.replace(\n",
    "        \"www.\", \"\", literal=True))\n",
    "    df = df.with_columns(pl.col(col).str.strip_chars_end(\"/\"))\n",
    "    return df"
   ]
  },
  {
   "cell_type": "code",
   "execution_count": 24,
   "id": "925ee831",
   "metadata": {},
   "outputs": [],
   "source": [
    "def df_cleaning(df):\n",
    "    df = url_cleaning(df, 'url')\n",
    "    df = url_cleaning(df, 'id')\n",
    "    df = df.sort(by = 'similarity', descending=True)\n",
    "    return df"
   ]
  },
  {
   "cell_type": "code",
   "execution_count": 25,
   "id": "bdbe7dce",
   "metadata": {},
   "outputs": [],
   "source": [
    "def get_result_rank(correct_webpage, df):\n",
    "    similarity_scores = list(set(df['similarity']))\n",
    "    sorted_similarity_scores = sorted(similarity_scores, reverse=True)\n",
    "    result_rows = df.filter(pl.col('url') == correct_webpage)\n",
    "    best_similarity_score = result_rows['similarity'][0]\n",
    "\n",
    "    rank = sorted_similarity_scores.index(best_similarity_score) + 1\n",
    "    print(f'rank is {rank} with similarity {best_similarity_score}')\n",
    "    return rank"
   ]
  },
  {
   "cell_type": "code",
   "execution_count": 26,
   "id": "e7e36ec1",
   "metadata": {},
   "outputs": [],
   "source": [
    "def test_ranking_processing(test_df: pl.dataframe.frame.DataFrame, test_output_dict: dict, outlier_threshold: int = 1000):\n",
    "    \"\"\"Processing to analyse the ranking of our pipeline's embedding guesses. \n",
    "\n",
    "    :param test_df: polars.DataFrame with columns:\n",
    "        - \"website\": The base website of the council\n",
    "        - \"correct_documentation_url\": The manually judged correct webpage. This should have the largest embedding similarity.\n",
    "    :param test_output_dict: dictionary with outputs of webscraping and embedding. Keys are base websites and values are dataframes.\n",
    "    :param outlier_threshold: Threshold for ranks beyond which results are assumed false/failure. If above, not saved in ranking_dict.\n",
    "    :return: \n",
    "        ranking_dict: Dictionary with ranks for each website. Base websites are keys, ranks are values\n",
    "        num_unclassified: Quantity of failed experiments, where no website match could be found.\n",
    "        num_outliers: Quantity of experiments leading to outliers.\n",
    "    \"\"\"\n",
    "    \n",
    "    ranking_dict = dict()\n",
    "    filtered_output_dict = {url: df_cleaning(df)\n",
    "                        for url, df in test_output_dict.items()}\n",
    "    \n",
    "    num_unclassified = 0\n",
    "    num_outliers = 0\n",
    "\n",
    "    for base_website, similarity_df in filtered_output_dict.items():\n",
    "        print(f'processing {base_website}')\n",
    "        correct_webpage = test_df.filter(pl.col('website') == base_website)['correct_documentation_url'][0]\n",
    "        try:\n",
    "            rank = get_result_rank(correct_webpage, similarity_df)\n",
    "            if rank >= outlier_threshold:\n",
    "                print(f\"Outlier for this url - rank of {rank} - leaving out of plot\")\n",
    "                num_outliers += 1\n",
    "                break\n",
    "            ranking_dict[base_website] = rank\n",
    "        \n",
    "        except IndexError as e:\n",
    "            print(f\"No match for correct website via urls - error message '{e}'\")\n",
    "            num_unclassified += 1 \n",
    "                \n",
    "    return ranking_dict, num_unclassified, num_outliers"
   ]
  },
  {
   "cell_type": "code",
   "execution_count": 27,
   "id": "5b816033",
   "metadata": {},
   "outputs": [
    {
     "name": "stdout",
     "output_type": "stream",
     "text": [
      "processing https://www.gloucester.gov.uk\n",
      "rank is 2 with similarity 0.8302638530731201\n",
      "processing https://www.great-yarmouth.gov.uk\n",
      "rank is 1 with similarity 0.7118769288063049\n",
      "processing https://www.southglos.gov.uk\n",
      "rank is 1 with similarity 0.7504985332489014\n",
      "processing https://www.epsom-ewell.gov.uk\n",
      "rank is 1 with similarity 0.695812463760376\n",
      "processing https://www.westberks.gov.uk\n",
      "rank is 2 with similarity 0.6313367486000061\n"
     ]
    }
   ],
   "source": [
    "test_df = url_cleaning(test_df, 'correct_documentation_url')\n",
    "ranking_dict, num_unclassified, num_outliers = test_ranking_processing(test_df, \n",
    "                                                                       test_output_dict, \n",
    "                                                                       outlier_threshold=30)"
   ]
  },
  {
   "cell_type": "code",
   "execution_count": 28,
   "id": "0157a001",
   "metadata": {},
   "outputs": [
    {
     "data": {
      "image/png": "[encoded data removed]",
      "text/plain": [
       "<Figure size 640x480 with 1 Axes>"
      ]
     },
     "metadata": {},
     "output_type": "display_data"
    }
   ],
   "source": [
    "ranks = list(ranking_dict.values())\n",
    "height = ranks.count(mode(ranks))\n",
    "\n",
    "ax = sns.histplot(x=ranks, binwidth=1, discrete=True, color='#00625E')\n",
    "ax.set_title(f'Frequency of Ranks - {num_unclassified} unclassified, {num_outliers} outlier/s')\n",
    "ax.set_xlabel('Rank')\n",
    "ax.set_ylabel('Quantity')\n",
    "ax.set_xticks(np.arange(1, max(ranks)+1))\n",
    "ax.set_yticks(np.arange(0, height+1, 2))\n",
    "ax.set_xticklabels([str(num) for num in np.arange(1, max(ranks)+1)])\n",
    "ax.set_yticklabels([str(num) for num in np.arange(0, height+1, 2)])\n",
    "\n",
    "plt.tight_layout()\n",
    "plt.show()"
   ]
  },
  {
   "cell_type": "code",
   "execution_count": 29,
   "id": "98329f9a",
   "metadata": {},
   "outputs": [],
   "source": [
    "def mean_reciprocal_rank(ranks):\n",
    "    size = len(ranks)\n",
    "    return sum([1/rank for rank in ranks])/size"
   ]
  },
  {
   "cell_type": "code",
   "execution_count": 30,
   "id": "0f3232f6",
   "metadata": {},
   "outputs": [
    {
     "name": "stdout",
     "output_type": "stream",
     "text": [
      "Mean Reciprocal Rank of - 0.8\n"
     ]
    }
   ],
   "source": [
    "mrr = mean_reciprocal_rank(ranks)\n",
    "print(f\"Mean Reciprocal Rank of - {mrr}\")"
   ]
  },
  {
   "cell_type": "code",
   "execution_count": null,
   "id": "b2e1f6b2",
   "metadata": {},
   "outputs": [],
   "source": []
  }
 ],
 "metadata": {
  "kernelspec": {
   "display_name": "pushing_venv",
   "language": "python",
   "name": "python3"
  },
  "language_info": {
   "codemirror_mode": {
    "name": "ipython",
    "version": 3
   },
   "file_extension": ".py",
   "mimetype": "text/x-python",
   "name": "python",
   "nbconvert_exporter": "python",
   "pygments_lexer": "ipython3",
   "version": "3.13.2"
  }
 },
 "nbformat": 4,
 "nbformat_minor": 5
}
