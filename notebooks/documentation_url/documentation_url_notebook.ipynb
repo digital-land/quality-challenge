{
 "cells": [
  {
   "cell_type": "code",
   "execution_count": 1,
   "id": "f4361c7b-e149-475f-823b-e56baa3d3784",
   "metadata": {},
   "outputs": [],
   "source": [
    "import os\n",
    "import requests\n",
    "import urllib\n",
    "import numpy as np\n",
    "import polars as pl\n",
    "import asyncio\n",
    "from typing import List, Optional, Union\n",
    "from crawl4ai import AsyncWebCrawler, CrawlerRunConfig, CacheMode\n",
    "from crawl4ai.deep_crawling import BFSDeepCrawlStrategy, BestFirstCrawlingStrategy\n",
    "from crawl4ai.content_scraping_strategy import LXMLWebScrapingStrategy\n",
    "from crawl4ai.deep_crawling.scorers import KeywordRelevanceScorer\n",
    "from crawl4ai.deep_crawling.filters import FilterChain, URLPatternFilter, ContentRelevanceFilter, SEOFilter, ContentTypeFilter\n",
    "from sentence_transformers import SentenceTransformer, util"
   ]
  },
  {
   "cell_type": "code",
   "execution_count": 2,
   "id": "7701c33a-ed1e-4b0e-a6c4-a3ba361a4b2c",
   "metadata": {},
   "outputs": [],
   "source": [
    "# embedding model\n",
    "embedding_model = SentenceTransformer('sentence-transformers/all-MiniLM-L6-v2')\n",
    "# suppress warnings\n",
    "os.environ[\"TOKENIZERS_PARALLELISM\"] = \"false\""
   ]
  },
  {
   "cell_type": "code",
   "execution_count": 3,
   "id": "5eb7e124-377a-411f-9507-5e2e5296ce94",
   "metadata": {},
   "outputs": [],
   "source": [
    "# get data from datasette\n",
    "datasette_base_url = \"https://datasette.planning.data.gov.uk/digital-land.csv\"\n",
    "\n",
    "query = \"\"\"\n",
    "select * \n",
    "from source as s\n",
    "left join organisation as o\n",
    "on s.organisation=o.organisation \n",
    "where s.collection = \"conservation-area\"\n",
    "\"\"\"\n",
    "encoded_query = urllib.parse.urlencode({\"sql\": query})\n",
    "\n",
    "r = requests.get(f\"{datasette_base_url}?{encoded_query}\", auth=('user', 'pass'))\n",
    "\n",
    "filename = \"datasette_data.csv\"\n",
    "with open(filename, \"wb\") as f_out:\n",
    "    f_out.write(r.content)"
   ]
  },
  {
   "cell_type": "code",
   "execution_count": 4,
   "id": "4fff92ca-01a5-4616-a301-3f8f98cd4020",
   "metadata": {
    "scrolled": true
   },
   "outputs": [
    {
     "data": {
      "text/html": [
       "<div><style>\n",
       ".dataframe > thead > tr,\n",
       ".dataframe > tbody > tr {\n",
       "  text-align: right;\n",
       "  white-space: pre-wrap;\n",
       "}\n",
       "</style>\n",
       "<small>shape: (350, 3)</small><table border=\"1\" class=\"dataframe\"><thead><tr><th>name</th><th>website</th><th>documentation_url</th></tr><tr><td>str</td><td>str</td><td>list[str]</td></tr></thead><tbody><tr><td>&quot;Melton Borough Council&quot;</td><td>&quot;https://www.melton.gov.uk&quot;</td><td>[null]</td></tr><tr><td>&quot;Borough of Poole&quot;</td><td>&quot;https://www.boroughofpoole.com&quot;</td><td>[null]</td></tr><tr><td>&quot;Pendle Borough Council&quot;</td><td>&quot;https://www.pendle.gov.uk&quot;</td><td>[null]</td></tr><tr><td>&quot;North West Leicestershire Dist…</td><td>&quot;https://www.nwleics.gov.uk&quot;</td><td>[null]</td></tr><tr><td>&quot;Stockton-on-Tees Borough Counc…</td><td>&quot;https://www.stockton.gov.uk&quot;</td><td>[null]</td></tr><tr><td>&hellip;</td><td>&hellip;</td><td>&hellip;</td></tr><tr><td>&quot;London Borough of Croydon&quot;</td><td>&quot;https://www.croydon.gov.uk&quot;</td><td>[null]</td></tr><tr><td>&quot;Torridge District Council&quot;</td><td>&quot;https://www.torridge.gov.uk&quot;</td><td>[null]</td></tr><tr><td>&quot;London Borough of Hackney&quot;</td><td>&quot;https://www.hackney.gov.uk&quot;</td><td>[null]</td></tr><tr><td>&quot;Bournemouth, Christchurch and …</td><td>&quot;https://www.bcpcouncil.gov.uk&quot;</td><td>[null]</td></tr><tr><td>&quot;Sheffield City Council&quot;</td><td>&quot;https://www.sheffield.gov.uk&quot;</td><td>[&quot;https://data.gov.uk/dataset/17798a47-9ceb-4d60-974d-ffe7feed634d/sheffield-conservation-areas&quot;]</td></tr></tbody></table></div>"
      ],
      "text/plain": [
       "shape: (350, 3)\n",
       "┌────────────────────────────────┬────────────────────────────────┬────────────────────────────────┐\n",
       "│ name                           ┆ website                        ┆ documentation_url              │\n",
       "│ ---                            ┆ ---                            ┆ ---                            │\n",
       "│ str                            ┆ str                            ┆ list[str]                      │\n",
       "╞════════════════════════════════╪════════════════════════════════╪════════════════════════════════╡\n",
       "│ Melton Borough Council         ┆ https://www.melton.gov.uk      ┆ [null]                         │\n",
       "│ Borough of Poole               ┆ https://www.boroughofpoole.com ┆ [null]                         │\n",
       "│ Pendle Borough Council         ┆ https://www.pendle.gov.uk      ┆ [null]                         │\n",
       "│ North West Leicestershire      ┆ https://www.nwleics.gov.uk     ┆ [null]                         │\n",
       "│ Dist…                          ┆                                ┆                                │\n",
       "│ Stockton-on-Tees Borough       ┆ https://www.stockton.gov.uk    ┆ [null]                         │\n",
       "│ Counc…                         ┆                                ┆                                │\n",
       "│ …                              ┆ …                              ┆ …                              │\n",
       "│ London Borough of Croydon      ┆ https://www.croydon.gov.uk     ┆ [null]                         │\n",
       "│ Torridge District Council      ┆ https://www.torridge.gov.uk    ┆ [null]                         │\n",
       "│ London Borough of Hackney      ┆ https://www.hackney.gov.uk     ┆ [null]                         │\n",
       "│ Bournemouth, Christchurch and  ┆ https://www.bcpcouncil.gov.uk  ┆ [null]                         │\n",
       "│ …                              ┆                                ┆                                │\n",
       "│ Sheffield City Council         ┆ https://www.sheffield.gov.uk   ┆ [\"https://data.gov.uk/dataset/ │\n",
       "│                                ┆                                ┆ …                              │\n",
       "└────────────────────────────────┴────────────────────────────────┴────────────────────────────────┘"
      ]
     },
     "execution_count": 4,
     "metadata": {},
     "output_type": "execute_result"
    }
   ],
   "source": [
    "# group by organisation as we're looking for one page per council\n",
    "data = (\n",
    "    pl.read_csv(filename)\n",
    "    .group_by(\"name\")\n",
    "    .agg(pl.col(\"website\").first(), pl.col(\"documentation_url\"))\n",
    ")\n",
    "data"
   ]
  },
  {
   "cell_type": "code",
   "execution_count": 5,
   "id": "3740f89e-e1d6-4784-a350-435e5d96c198",
   "metadata": {},
   "outputs": [],
   "source": [
    "async def deep_crawl(\n",
    "    url: str,\n",
    "    max_depth: int = 6,\n",
    "    include_external: bool = False,\n",
    "    url_patterns: Optional[List[str]] = None,\n",
    "    keyword_scorer: Optional[dict] = None,\n",
    "    filters: Optional[List[Union[dict, object]]] = None,\n",
    "    cache_enabled: bool = False\n",
    "):\n",
    "    \"\"\"\n",
    "    Performs a deep crawl on the given URL with customizable scoring and filtering options.\n",
    "\n",
    "    Parameters:\n",
    "    - url (str): The starting URL.\n",
    "    - max_depth (int): Maximum depth for crawling (default: 6).\n",
    "    - include_external (bool): Whether to include external links (default: False).\n",
    "    - keyword_scorer (dict, optional): Dictionary with 'keywords' (list) and 'weight' (float).\n",
    "    - filters (List[Union[dict, object]], optional): List of filter configurations or filter instances.\n",
    "    - cache_enabled (bool): Whether to enable caching (default: True).\n",
    "\n",
    "    Returns:\n",
    "    - A list of CrawlResult containing:\n",
    "        - \"url\": The crawled url.\n",
    "        - \"markdown\": Raw markdown of the page at url.\n",
    "    \"\"\"\n",
    "\n",
    "    # Initialize filters list\n",
    "    filter_list = []\n",
    "\n",
    "    # Add user-defined filters (supporting both dict and object instances)\n",
    "    if filters:\n",
    "        for f in filters:\n",
    "            if isinstance(f, dict):\n",
    "                filter_type = f.get(\"type\")\n",
    "                if filter_type == \"SEOFilter\":\n",
    "                    filter_list.append(SEOFilter(threshold=f.get(\"threshold\", 0.6), keywords=f.get(\"keywords\", [])))\n",
    "                elif filter_type == \"ContentRelevanceFilter\":\n",
    "                    filter_list.append(ContentRelevanceFilter(query=f.get(\"query\", \"\"), threshold=f.get(\"threshold\", 0.2)))\n",
    "                elif filter_type == \"ContentTypeFilter\":\n",
    "                    filter_list.append(ContentTypeFilter(allowed_types=f.get(\"allowed_types\", [\"text/html\"])))\n",
    "                elif filter_type == \"URLPatternFilter\":\n",
    "                    filter_list.append(URLPatternFilter(patterns=f.get(\"patterns\", [])))\n",
    "            elif isinstance(f, object):\n",
    "                filter_list.append(f)\n",
    "\n",
    "    # Add URL scoring strategy\n",
    "    url_scorer = None\n",
    "    if keyword_scorer:\n",
    "        url_scorer = KeywordRelevanceScorer(\n",
    "            keywords=keyword_scorer.get(\"keywords\", []),\n",
    "            weight=keyword_scorer.get(\"weight\", 1.0)\n",
    "        )\n",
    "\n",
    "    # Create crawler configuration\n",
    "    config = CrawlerRunConfig(\n",
    "        deep_crawl_strategy=BestFirstCrawlingStrategy(\n",
    "            max_depth=max_depth,\n",
    "            include_external=include_external,\n",
    "            url_scorer=url_scorer,\n",
    "            filter_chain=FilterChain(filter_list),\n",
    "        ),\n",
    "        scraping_strategy=LXMLWebScrapingStrategy(),\n",
    "        cache_mode=CacheMode.ENABLED if cache_enabled else CacheMode.BYPASS,\n",
    "        verbose=False,\n",
    "    )\n",
    "\n",
    "    crawl_data = []\n",
    "\n",
    "    # Run the crawler\n",
    "    async with AsyncWebCrawler() as crawler:\n",
    "        results = await crawler.arun(url, config=config)\n",
    "        print(f\"Crawled {len(results)} pages in total\")\n",
    "\n",
    "        for result in results:\n",
    "            if result.success:\n",
    "                crawl_data.append((result.url, result.markdown.raw_markdown))\n",
    "\n",
    "    return crawl_data"
   ]
  },
  {
   "cell_type": "code",
   "execution_count": 6,
   "id": "405f3be6-d1c0-454a-8e4a-2be416a523eb",
   "metadata": {},
   "outputs": [],
   "source": [
    "def get_similar_urls(crawl_data, prompt, num_results=None):\n",
    "    \"\"\"\n",
    "    Embeds crawled webpage data, computes similarity to a given prompt, and returns the top N most similar pages.\n",
    "\n",
    "    Parameters:\n",
    "    - crawl_data (list of tuples): A list of tuples containing (url, markdown) for each crawled page.\n",
    "    - prompt (str): The text prompt to compare against the crawled page embeddings.\n",
    "    - num_results (int, optional): The number of top similar pages to return. If None, returns all pages.\n",
    "\n",
    "    Returns:\n",
    "    - polars.DataFrame: A DataFrame containing:\n",
    "        - \"url\": The webpage URL.\n",
    "        - \"markdown\": The extracted markdown content.\n",
    "        - \"embedding\": The computed embedding for the content.\n",
    "        - \"similarity\": The cosine similarity score with the prompt.\n",
    "    \"\"\"\n",
    "    res = []\n",
    "    for url, markdown in crawl_data:\n",
    "        embedding = embedding_model.encode(markdown, convert_to_numpy=True).tolist()\n",
    "        res.append((url, markdown, embedding))\n",
    "                \n",
    "    crawl_df = pl.DataFrame(res, schema=[\"url\", \"markdown\", \"embedding\"], orient=\"row\")\n",
    "    embeddings = np.stack(crawl_df[\"embedding\"].to_list())\n",
    "    \n",
    "    prompt_embedding = np.array(embedding_model.encode(prompt, convert_to_numpy=True), dtype='float64')\n",
    "    \n",
    "    # get similarity scores\n",
    "    sim=util.cos_sim(\n",
    "        prompt_embedding.astype(np.float32), \n",
    "        embeddings.astype(np.float32)\n",
    "    )\n",
    "    # get indices of top n most similar urls\n",
    "    if not num_results:\n",
    "        num_results = len(crawl_df)\n",
    "    indices = np.argsort(sim).numpy().flatten()[:-num_results-1:-1]\n",
    "    sorted_df = (\n",
    "        crawl_df[indices]\n",
    "        .with_columns(similarity=np.sort(sim).flatten()[:-num_results-1:-1])\n",
    "    )\n",
    "    return sorted_df"
   ]
  },
  {
   "cell_type": "code",
   "execution_count": 7,
   "id": "f3fa1e86-9138-433e-9d48-fef8c337d14a",
   "metadata": {},
   "outputs": [],
   "source": [
    "def pretty_print_results(sorted_df, num_results):\n",
    "    # print top n urls with similarity scores\n",
    "    print(\"\\nTop Similar Pages:\\n\" + \"=\"*40)\n",
    "    for i in range(min(num_results, len(sorted_df))):\n",
    "        url = sorted_df.get_column(\"url\")[i]\n",
    "        score = sorted_df.get_column(\"similarity\")[i]\n",
    "        print(f\"{i+1}. {url.ljust(60)} | Similarity: {score:.4f}\")"
   ]
  },
  {
   "cell_type": "code",
   "execution_count": 8,
   "id": "62700309-3308-4ff8-b9f5-cdafb6b01c13",
   "metadata": {},
   "outputs": [],
   "source": [
    "async def process_council(\n",
    "    council_names,\n",
    "    max_depth=6,\n",
    "    url_patterns=None,\n",
    "    keyword_scorer=None,\n",
    "    filters=None,\n",
    "    prompt=\"A page about conservation areas.\",\n",
    "    cache_enabled=False,\n",
    "    num_results=10,\n",
    "):\n",
    "    for council_name in council_names:\n",
    "        council_data = data.filter(pl.col(\"name\").str.contains(council_name))\n",
    "        full_name = council_data.get_column(\"name\")[0]\n",
    "        homepage = council_data.get_column(\"website\")[0]\n",
    "        prompt = prompt.format((full_name).replace('\\n', ''))\n",
    "        print(\"=\"*40 + f\"\\nProcessing {full_name}...\\n\")\n",
    "        \n",
    "        # crawl url\n",
    "        crawl_data = await(deep_crawl(\n",
    "            url=homepage, \n",
    "            max_depth=max_depth,\n",
    "            keyword_scorer=keyword_scorer,\n",
    "            url_patterns=url_patterns,\n",
    "            filters=filters,\n",
    "            cache_enabled=cache_enabled,\n",
    "        ))\n",
    "        \n",
    "        # get markdown embeddings\n",
    "        sorted_df = get_similar_urls(crawl_data, prompt)\n",
    "        \n",
    "        pretty_print_results(sorted_df, num_results)"
   ]
  },
  {
   "cell_type": "markdown",
   "id": "63761147-b9c6-46aa-8538-6d2f5c57bc4e",
   "metadata": {},
   "source": [
    "## Template for how to define filters or scorers\n",
    "##### Pick the types you need and adjust their parameter (keywords, threshold, ...) and pass them to the crawler function.\n",
    "    keyword_scorer = {\n",
    "        \"keywords\": [\"conservation\", \"conservation area\", \"planning\", \"building\", \"urban\", \"heritage\", \"resident\"],\n",
    "        \"weight\": 0.8,\n",
    "    }\n",
    "        \n",
    "    filters=[\n",
    "        {\"type\": \"SEOFilter\", \"threshold\": 0.6, \"keywords\": [\"conservation\", \"area\", \"planning\", \"heritage\", \"resident\"]},\n",
    "        {\"type\": \"ContentRelevanceFilter\", \"query\": \"conservation area or planning data\", \"threshold\": 0.2},\n",
    "        {\"type\": \"ContentTypeFilter\", \"allowed_types\": [\"text/html\"]},\n",
    "        {\"type\": \"URLPatternFilter\", \"patterns\": [\"*conservation*\", \"*planning*\", \"*building*\"]},\n",
    "    ]"
   ]
  },
  {
   "cell_type": "markdown",
   "id": "d48645d9-ab88-4369-bbb9-b76f282b9eeb",
   "metadata": {},
   "source": [
    "### Gedling"
   ]
  },
  {
   "cell_type": "code",
   "execution_count": null,
   "id": "1aa1c676-48fe-4a1a-b02f-5314d79fc2ff",
   "metadata": {},
   "outputs": [
    {
     "name": "stdout",
     "output_type": "stream",
     "text": [
      "========================================\n",
      "Processing Gedling Borough Council...\n",
      "\n",
      "[INIT].... → Crawl4AI 0.5.0.post4\n"
     ]
    }
   ],
   "source": [
    "max_depth = 6\n",
    "num_results = 10\n",
    "filters=[\n",
    "    {\"type\": \"ContentTypeFilter\", \"allowed_types\": [\"text/html\"]},\n",
    "    {\"type\": \"URLPatternFilter\", \"patterns\": [\"*conservation*\", \"*planning*\", \"*building*\"]},\n",
    "]\n",
    "\n",
    "# please write the prompt such that there is a curly bracket where the council\n",
    "# name will be inserted\n",
    "prompt = \"\"\"\n",
    "The text discusses conservation areas from the {} and includes data on \n",
    "planning data, areas, interactive maps, appraisals, notices, boundaries, \n",
    "links and similar.\n",
    "\"\"\"\n",
    "\n",
    "await process_council(\n",
    "    council_names=[\"Gedling\"], \n",
    "    max_depth=max_depth, \n",
    "    filters=filters, \n",
    "    prompt=prompt, \n",
    "    num_results=num_results\n",
    ")"
   ]
  },
  {
   "cell_type": "markdown",
   "id": "64f29b7a-f3ed-4d8c-8bf6-b59fa6bb9a4f",
   "metadata": {},
   "source": [
    "### South Gloucestershire"
   ]
  },
  {
   "cell_type": "code",
   "execution_count": 16,
   "id": "9141c6a5-65bd-4d7d-8149-1b1a1491b972",
   "metadata": {},
   "outputs": [
    {
     "name": "stdout",
     "output_type": "stream",
     "text": [
      "========================================\n",
      "Processing South Gloucestershire...\n",
      "\n",
      "[INIT].... → Crawl4AI 0.5.0.post4\n",
      "Crawled 332 pages in total\n",
      "\n",
      "Top Similar Pages:\n",
      "========================================\n",
      "1. https://beta.southglos.gov.uk/conservation-area              | Similarity: 0.6868\n",
      "2. https://beta.southglos.gov.uk/conservation-area/             | Similarity: 0.6852\n",
      "3. https://beta.southglos.gov.uk/planning-and-development/conservation-and-regeneration/ | Similarity: 0.6736\n",
      "4. https://beta.southglos.gov.uk/planning-and-development/conservation-and-regeneration/regeneration/ | Similarity: 0.6475\n",
      "5. https://beta.southglos.gov.uk/planning-and-development/conservation-and-regeneration/historic-environment-and-listed-buildings/ | Similarity: 0.6379\n",
      "6. https://beta.southglos.gov.uk/planning-and-development/conservation-and-regeneration/trees-and-hedges/ | Similarity: 0.6340\n",
      "7. http://www.southglos.gov.uk/environment-and-planning/search-planning-applications/ | Similarity: 0.6165\n",
      "8. http://www.southglos.gov.uk/planning-and-development/planning-applications/ | Similarity: 0.6056\n",
      "9. https://www.southglos.gov.uk/environment-and-planning/search-planning-applications/ | Similarity: 0.6026\n",
      "10. https://www.southglos.gov.uk/environment-and-planning/       | Similarity: 0.5972\n"
     ]
    }
   ],
   "source": [
    "max_depth = 6\n",
    "num_results = 10\n",
    "filters=[\n",
    "    {\"type\": \"ContentTypeFilter\", \"allowed_types\": [\"text/html\"]},\n",
    "    {\"type\": \"URLPatternFilter\", \"patterns\": [\"*conservation*\", \"*planning*\", \"*building*\"]},\n",
    "]\n",
    "\n",
    "# please write the prompt such that there is a curly bracket where the council\n",
    "# name will be inserted\n",
    "prompt = \"\"\"\n",
    "The text discusses conservation areas from the {} and includes data on \n",
    "planning data, areas, interactive maps, appraisals, notices, boundaries, \n",
    "links and similar.\n",
    "\"\"\"\n",
    "\n",
    "await process_council(\n",
    "    council_names=[\"South Gloucestershire\"], \n",
    "    max_depth=max_depth, \n",
    "    filters=filters, \n",
    "    prompt=prompt, \n",
    "    num_results=num_results\n",
    ")"
   ]
  },
  {
   "cell_type": "markdown",
   "id": "5a416094-8fbc-4283-8047-27d2e24bcc05",
   "metadata": {},
   "source": [
    "### Bournemouth, Christchurch and Poole"
   ]
  },
  {
   "cell_type": "code",
   "execution_count": 17,
   "id": "1f87c118-de61-4a7b-8b19-7d02ef474ded",
   "metadata": {},
   "outputs": [
    {
     "name": "stdout",
     "output_type": "stream",
     "text": [
      "========================================\n",
      "Processing Bournemouth, Christchurch and Poole...\n",
      "\n",
      "[INIT].... → Crawl4AI 0.5.0.post4\n",
      "Crawled 504 pages in total\n",
      "\n",
      "Top Similar Pages:\n",
      "========================================\n",
      "1. https://www.bcpcouncil.gov.uk/planning-and-building-control/urban-design-trees-and-conservation/conservation-areas | Similarity: 0.6143\n",
      "2. https://www.bcpcouncil.gov.uk/planning-and-building-control/urban-design-trees-and-conservation/conservation-areas#guide-contents | Similarity: 0.6143\n",
      "3. https://www.bcpcouncil.gov.uk/planning-and-building-control/urban-design-trees-and-conservation/conservation-areas#main | Similarity: 0.6143\n",
      "4. https://bcpcouncil.gov.uk/planning-and-building-control/local-land-charges | Similarity: 0.6074\n",
      "5. https://bcpcouncil.gov.uk/planning-and-building-control/local-land-charges#guide-contents | Similarity: 0.6074\n",
      "6. https://bcpcouncil.gov.uk/planning-and-building-control/local-land-charges#main | Similarity: 0.6074\n",
      "7. https://bcpcouncil.gov.uk/planning-and-building-control/urban-design-trees-and-conservation/listed-buildings | Similarity: 0.6000\n",
      "8. https://bcpcouncil.gov.uk/planning-and-building-control/urban-design-trees-and-conservation#main | Similarity: 0.5985\n",
      "9. https://bcpcouncil.gov.uk/planning-and-building-control/urban-design-trees-and-conservation | Similarity: 0.5985\n",
      "10. https://www.bcpcouncil.gov.uk/planning-and-building-control/local-land-charges/local-land-charges-in-christchurch#main | Similarity: 0.5964\n"
     ]
    }
   ],
   "source": [
    "max_depth = 6\n",
    "num_results = 10\n",
    "filters=[\n",
    "    {\"type\": \"ContentTypeFilter\", \"allowed_types\": [\"text/html\"]},\n",
    "    {\"type\": \"URLPatternFilter\", \"patterns\": [\"*conservation*\", \"*planning*\", \"*building*\"]},\n",
    "]\n",
    "\n",
    "# please write the prompt such that there is a curly bracket where the council\n",
    "# name will be inserted\n",
    "prompt = \"\"\"\n",
    "The text discusses conservation areas from the {} and includes data on \n",
    "planning data, areas, interactive maps, appraisals, notices, boundaries, \n",
    "links and similar.\n",
    "\"\"\"\n",
    "\n",
    "await process_council(\n",
    "    council_names=[\"Bournemouth, Christchurch and Poole\"], \n",
    "    max_depth=max_depth, \n",
    "    filters=filters, \n",
    "    prompt=prompt, \n",
    "    num_results=num_results\n",
    ")"
   ]
  },
  {
   "cell_type": "markdown",
   "id": "60ec51f6-4058-489c-80d9-53c95de77a0c",
   "metadata": {},
   "source": [
    "### Warrington"
   ]
  },
  {
   "cell_type": "code",
   "execution_count": 18,
   "id": "614492c8",
   "metadata": {},
   "outputs": [
    {
     "name": "stdout",
     "output_type": "stream",
     "text": [
      "========================================\n",
      "Processing Warrington...\n",
      "\n",
      "[INIT].... → Crawl4AI 0.5.0.post4\n",
      "Crawled 43 pages in total\n",
      "\n",
      "Top Similar Pages:\n",
      "========================================\n",
      "1. https://online.warrington.gov.uk/planning/index.html         | Similarity: 0.5629\n",
      "2. https://online.warrington.gov.uk/planning/                   | Similarity: 0.5513\n",
      "3. https://www.warrington.gov.uk/planning                       | Similarity: 0.5177\n",
      "4. https://www.warrington.gov.uk/planning#main-content          | Similarity: 0.5177\n",
      "5. https://www.warrington.gov.uk/planning-and-buildings         | Similarity: 0.5173\n",
      "6. https://www.warrington.gov.uk/planning-policy                | Similarity: 0.5140\n",
      "7. https://www.warrington.gov.uk/planningbreach                 | Similarity: 0.5033\n",
      "8. https://www.warrington.gov.uk/other-planning-policy-documents | Similarity: 0.5030\n",
      "9. https://www.warrington.gov.uk/building-control               | Similarity: 0.5002\n",
      "10. https://www.warrington.gov.uk/building-control#main-content  | Similarity: 0.5002\n"
     ]
    }
   ],
   "source": [
    "max_depth = 6\n",
    "num_results = 10\n",
    "filters=[\n",
    "    {\"type\": \"ContentTypeFilter\", \"allowed_types\": [\"text/html\"]},\n",
    "    {\"type\": \"URLPatternFilter\", \"patterns\": [\"*conservation*\", \"*planning*\", \"*building*\"]},\n",
    "]\n",
    "\n",
    "# please write the prompt such that there is a curly bracket where the council\n",
    "# name will be inserted\n",
    "prompt = \"\"\"\n",
    "The text discusses conservation areas from the {} and includes data on \n",
    "planning data, areas, interactive maps, appraisals, notices, boundaries, \n",
    "links and similar.\n",
    "\"\"\"\n",
    "\n",
    "await process_council(\n",
    "    council_names=[\"Warrington\"], \n",
    "    max_depth=max_depth, \n",
    "    filters=filters, \n",
    "    prompt=prompt, \n",
    "    num_results=num_results\n",
    ")"
   ]
  },
  {
   "cell_type": "markdown",
   "id": "2a16eca4-dff1-43a8-a28e-e847dc145dcc",
   "metadata": {},
   "source": [
    "### Stoke on Trent"
   ]
  },
  {
   "cell_type": "code",
   "execution_count": 22,
   "id": "87a073d1",
   "metadata": {},
   "outputs": [
    {
     "name": "stdout",
     "output_type": "stream",
     "text": [
      "========================================\n",
      "Processing Stoke...\n",
      "\n",
      "[INIT].... → Crawl4AI 0.5.0.post4\n",
      "Crawled 129 pages in total\n",
      "\n",
      "Top Similar Pages:\n",
      "========================================\n",
      "1. http://www.stoke.gov.uk/conservationareas                    | Similarity: 0.7814\n",
      "2. https://www.stoke.gov.uk/conservationareas#content           | Similarity: 0.7814\n",
      "3. https://www.stoke.gov.uk/conservationareas                   | Similarity: 0.7814\n",
      "4. https://www.stoke.gov.uk/info/20005/planning_and_building/547/conservation_areas | Similarity: 0.7225\n",
      "5. https://www.stoke.gov.uk/info/20005/planning_and_building/547/conservation_areas#content | Similarity: 0.7225\n",
      "6. https://www.stoke.gov.uk/news/article/1285/changes_to_conservation_areas_in_stoke-on-trent#content | Similarity: 0.7101\n",
      "7. https://www.stoke.gov.uk/news/article/1285/changes_to_conservation_areas_in_stoke-on-trent | Similarity: 0.7101\n",
      "8. https://www.stoke.gov.uk/news/article/1509/council_announces_new_conservation_areas | Similarity: 0.7024\n",
      "9. https://www.stoke.gov.uk/news/article/1509/council_announces_new_conservation_areas#content | Similarity: 0.7024\n",
      "10. https://www.stoke.gov.uk/info/20074/conservation_and_heritage | Similarity: 0.6781\n"
     ]
    }
   ],
   "source": [
    "max_depth = 6\n",
    "num_results = 10\n",
    "filters=[\n",
    "    {\"type\": \"ContentTypeFilter\", \"allowed_types\": [\"text/html\"]},\n",
    "    {\"type\": \"URLPatternFilter\", \"patterns\": [\"*conservation*\", \"*planning*\", \"*building*\"]},\n",
    "]\n",
    "\n",
    "# please write the prompt such that there is a curly bracket where the council\n",
    "# name will be inserted\n",
    "prompt = \"\"\"\n",
    "The text discusses conservation areas from the {} and includes data on \n",
    "planning data, areas, interactive maps, appraisals, notices, boundaries, \n",
    "links and similar.\n",
    "\"\"\"\n",
    "\n",
    "await process_council(\n",
    "    council_names=[\"Stoke\"], \n",
    "    max_depth=max_depth, \n",
    "    filters=filters, \n",
    "    prompt=prompt, \n",
    "    num_results=num_results\n",
    ")"
   ]
  },
  {
   "cell_type": "markdown",
   "id": "187695cb-e99c-40c6-9407-af0a7a3df0f7",
   "metadata": {},
   "source": [
    "### Redbridge"
   ]
  },
  {
   "cell_type": "code",
   "execution_count": 23,
   "id": "de8348d8",
   "metadata": {},
   "outputs": [
    {
     "name": "stdout",
     "output_type": "stream",
     "text": [
      "========================================\n",
      "Processing Redbridge...\n",
      "\n",
      "[INIT].... → Crawl4AI 0.5.0.post4\n",
      "Crawled 762 pages in total\n",
      "\n",
      "Top Similar Pages:\n",
      "========================================\n",
      "1. https://www.redbridge.gov.uk/Account/ForgotPassword?returnurl=%2Fplanning-and-building%2Fprotected-buildings-and-conservation-areas%2F&clientid=RedbridgeCMSLive#accessibilitySkip | Similarity: 0.6219\n",
      "2. https://www.redbridge.gov.uk/planning-and-building/protected-buildings-and-conservation-areas/article-4-direction-c4-hmos/#accessibilitySkip | Similarity: 0.6214\n",
      "3. https://www.redbridge.gov.uk/planning-and-building/protected-buildings-and-conservation-areas/article-4-direction-c4-hmos/ | Similarity: 0.6214\n",
      "4. https://www.redbridge.gov.uk/planning-and-building/protected-buildings-and-conservation-areas/ | Similarity: 0.6088\n",
      "5. https://www.redbridge.gov.uk/planning-and-building/protected-buildings-and-conservation-areas/#accessibilitySkip | Similarity: 0.6088\n",
      "6. https://www.redbridge.gov.uk/Account/ForgotPassword?returnurl=%2Fplanning-and-building%2Fprotected-buildings-and-conservation-areas%2Farticle-4-direction-c4-hmos%2F&clientid=RedbridgeCMSLive#accessibilitySkip | Similarity: 0.6055\n",
      "7. https://www.redbridge.gov.uk/Account/Register?returnurl=%2Fplanning-and-building%2Fprotected-buildings-and-conservation-areas%2Farticle-4-direction-c4-hmos%2F&clientid=RedbridgeCMSLive#accessibilitySkip | Similarity: 0.6042\n",
      "8. https://www.redbridge.gov.uk/Account/Register?returnurl=%2Fplanning-and-building%2Fprotected-buildings-and-conservation-areas%2Farticle-4-direction-c4-hmos%2F&clientid=RedbridgeCMSLive | Similarity: 0.6042\n",
      "9. https://www.redbridge.gov.uk/Account/ForgotPassword?returnurl=%2Fplanning-and-building%2Fprotected-buildings-and-conservation-areas%2Farticle-4-direction-c4-hmos%2F&clientid=RedbridgeCMSLive | Similarity: 0.6032\n",
      "10. https://www.redbridge.gov.uk/planning-and-building/building-control/drainage/#accessibilitySkip | Similarity: 0.6015\n"
     ]
    }
   ],
   "source": [
    "max_depth = 6\n",
    "num_results = 10\n",
    "filters=[\n",
    "    {\"type\": \"ContentTypeFilter\", \"allowed_types\": [\"text/html\"]},\n",
    "    {\"type\": \"URLPatternFilter\", \"patterns\": [\"*conservation*\", \"*planning*\", \"*building*\"]},\n",
    "]\n",
    "\n",
    "# please write the prompt such that there is a curly bracket where the council\n",
    "# name will be inserted\n",
    "prompt = \"\"\"\n",
    "The text discusses conservation areas from the {} and includes data on \n",
    "planning data, areas, interactive maps, appraisals, notices, boundaries, \n",
    "links and similar.\n",
    "\"\"\"\n",
    "\n",
    "await process_council(\n",
    "    council_names=[\"Redbridge\"], \n",
    "    max_depth=max_depth, \n",
    "    filters=filters, \n",
    "    prompt=prompt, \n",
    "    num_results=num_results\n",
    ")"
   ]
  },
  {
   "cell_type": "markdown",
   "id": "286414dd-dd60-48f1-b09f-74d86be15a2c",
   "metadata": {},
   "source": [
    "### York"
   ]
  },
  {
   "cell_type": "code",
   "execution_count": 25,
   "id": "ebc0f222",
   "metadata": {},
   "outputs": [
    {
     "name": "stdout",
     "output_type": "stream",
     "text": [
      "========================================\n",
      "Processing York...\n",
      "\n",
      "[INIT].... → Crawl4AI 0.5.0.post4\n",
      "Crawled 3260 pages in total\n",
      "\n",
      "Top Similar Pages:\n",
      "========================================\n",
      "1. https://planningaccess.york.gov.uk/online-applications/#top  | Similarity: 0.4857\n",
      "2. https://planningaccess.york.gov.uk/online-applications/#pageheading | Similarity: 0.4857\n",
      "3. https://planningaccess.york.gov.uk/online-applications/      | Similarity: 0.4857\n",
      "4. https://www.york.gov.uk/conservation-listed-buildings/york-central-historic-core-conservation-area-appraisal-hccaa#content | Similarity: 0.4832\n",
      "5. https://www.york.gov.uk/conservation-listed-buildings/york-central-historic-core-conservation-area-appraisal-hccaa | Similarity: 0.4832\n",
      "6. https://www.york.gov.uk/conservation-listed-buildings/york-central-historic-core-conservation-area-appraisal-hccaa#js-menu | Similarity: 0.4832\n",
      "7. https://www.york.gov.uk/conservation-listed-buildings/york-central-historic-core-conservation-area-appraisal-hccaa#top | Similarity: 0.4832\n",
      "8. https://www.york.gov.uk/conservation-listed-buildings/york-central-historic-core-conservation-area-appraisal-hccaa#js-search | Similarity: 0.4832\n",
      "9. https://www.york.gov.uk/conservation-listed-buildings/york-central-historic-core-conservation-area-appraisal-hccaa#js-search-toggle | Similarity: 0.4832\n",
      "10. https://www.york.gov.uk/conservation-listed-buildings/york-central-historic-core-conservation-area-appraisal-hccaa#js-menu-toggle | Similarity: 0.4832\n"
     ]
    }
   ],
   "source": [
    "max_depth = 6\n",
    "num_results = 10\n",
    "filters=[\n",
    "    {\"type\": \"ContentTypeFilter\", \"allowed_types\": [\"text/html\"]},\n",
    "    {\"type\": \"URLPatternFilter\", \"patterns\": [r\"*[Cc]onservation*\", r\"*[Pp]lanning*\", r\"*[Bb]uilding*\"]},\n",
    "]\n",
    "\n",
    "# please write the prompt such that there is a curly bracket where the council\n",
    "# name will be inserted\n",
    "prompt = \"\"\"\n",
    "The text discusses conservation areas from the {} and includes data on \n",
    "planning data, areas, interactive maps, appraisals, notices, boundaries, \n",
    "links and similar.\n",
    "\"\"\"\n",
    "\n",
    "await process_council(\n",
    "    council_names=[\"York\"], \n",
    "    max_depth=max_depth, \n",
    "    filters=filters, \n",
    "    prompt=prompt, \n",
    "    num_results=num_results\n",
    ")"
   ]
  },
  {
   "cell_type": "markdown",
   "id": "338095f7-217c-4afe-a2db-532759ffa411",
   "metadata": {},
   "source": [
    "### Malvern Hills"
   ]
  },
  {
   "cell_type": "code",
   "execution_count": null,
   "id": "7b106626",
   "metadata": {},
   "outputs": [
    {
     "name": "stdout",
     "output_type": "stream",
     "text": [
      "========================================\n",
      "Processing Malvern Hills...\n",
      "\n",
      "[INIT].... → Crawl4AI 0.5.0.post4\n"
     ]
    }
   ],
   "source": [
    "max_depth = 6\n",
    "num_results = 10\n",
    "filters=[\n",
    "    {\"type\": \"ContentTypeFilter\", \"allowed_types\": [\"text/html\"]},\n",
    "    {\"type\": \"URLPatternFilter\", \"patterns\": [r\"*[Cc]onservation*\", r\"*[Pp]lanning*\", r\"*[Bb]uilding*\"]},\n",
    "]\n",
    "\n",
    "# please write the prompt such that there is a curly bracket where the council\n",
    "# name will be inserted\n",
    "prompt = \"\"\"\n",
    "The text discusses conservation areas from the {} and includes data on \n",
    "planning data, areas, interactive maps, appraisals, notices, boundaries, \n",
    "links and similar.\n",
    "\"\"\"\n",
    "\n",
    "await process_council(\n",
    "    council_names=[\"Malvern Hills\"], \n",
    "    max_depth=max_depth, \n",
    "    filters=filters, \n",
    "    prompt=prompt, \n",
    "    num_results=num_results\n",
    ")"
   ]
  },
  {
   "cell_type": "markdown",
   "id": "0c4a7493-5717-409f-843e-b98295bf5350",
   "metadata": {},
   "source": [
    "## Multiple councils\n",
    "\n",
    "You can define any list of councils and their processing will be executed sequentially"
   ]
  },
  {
   "cell_type": "code",
   "execution_count": 29,
   "id": "a7ab152b-5fac-480d-8538-d47b43247dd2",
   "metadata": {
    "scrolled": true
   },
   "outputs": [
    {
     "data": {
      "text/html": [
       "<div><style>\n",
       ".dataframe > thead > tr,\n",
       ".dataframe > tbody > tr {\n",
       "  text-align: right;\n",
       "  white-space: pre-wrap;\n",
       "}\n",
       "</style>\n",
       "<small>shape: (10, 3)</small><table border=\"1\" class=\"dataframe\"><thead><tr><th>name</th><th>website</th><th>documentation_url</th></tr><tr><td>str</td><td>str</td><td>list[str]</td></tr></thead><tbody><tr><td>&quot;Canterbury City Council&quot;</td><td>&quot;https://www.canterbury.gov.uk&quot;</td><td>[&quot;https://mapping.canterbury.gov.uk/arcgis/rest/services/External/Planning_Constraints_New/MapServer&quot;]</td></tr><tr><td>&quot;Leicester City Council&quot;</td><td>&quot;https://www.leicester.gov.uk&quot;</td><td>[&quot;https://data.gov.uk/dataset/e702ebff-27b4-4e86-acbb-74d066f3c4e7/conservation-areas&quot;, &quot;https://data.leicester.gov.uk/explore/?q=conservation+area&amp;sort=modified&quot;, &quot;https://data.leicester.gov.uk/explore/?q=conservation+area&amp;sort=modified&quot;]</td></tr><tr><td>&quot;Gateshead Metropolitan Borough…</td><td>&quot;https://www.gateshead.gov.uk&quot;</td><td>[null, &quot;https://gateshead-council-open-data-gateshead.hub.arcgis.com/datasets/Gateshead::spe-hx-conservation-areas/about&quot;]</td></tr><tr><td>&quot;Runnymede Borough Council&quot;</td><td>&quot;https://www.runnymede.gov.uk&quot;</td><td>[null]</td></tr><tr><td>&quot;Birmingham City Council&quot;</td><td>&quot;https://www.birmingham.gov.uk&quot;</td><td>[null, null, … &quot;https://openplanningdata-sbham.hub.arcgis.com/datasets/ee06653284154ccfb4fec1e9428760e1/about&quot;]</td></tr><tr><td>&quot;Thurrock Thames Gateway Develo…</td><td>&quot;https://www.gov.uk/government/…</td><td>[null]</td></tr><tr><td>&quot;Basildon Borough Council&quot;</td><td>&quot;https://www.basildon.gov.uk&quot;</td><td>[null]</td></tr><tr><td>&quot;London Borough of Richmond upo…</td><td>&quot;https://www.richmond.gov.uk&quot;</td><td>[null]</td></tr><tr><td>&quot;Ministry of Housing, Communiti…</td><td>&quot;https://www.gov.uk/government/…</td><td>[&quot;https://dluhc-datasets.planning-data.dev/dataset/conservation-area-document-type&quot;, &quot;https://github.com/digital-land/conservation-area-data/tree/main/data/Output/Missing&quot;, … &quot;https://dataset-editor.development.planning.data.gov.uk/dataset/conservation-area-document-type&quot;]</td></tr><tr><td>&quot;Newcastle-under-Lyme Borough C…</td><td>&quot;https://www.newcastle-staffs.g…</td><td>[null]</td></tr></tbody></table></div>"
      ],
      "text/plain": [
       "shape: (10, 3)\n",
       "┌────────────────────────────────┬────────────────────────────────┬────────────────────────────────┐\n",
       "│ name                           ┆ website                        ┆ documentation_url              │\n",
       "│ ---                            ┆ ---                            ┆ ---                            │\n",
       "│ str                            ┆ str                            ┆ list[str]                      │\n",
       "╞════════════════════════════════╪════════════════════════════════╪════════════════════════════════╡\n",
       "│ Canterbury City Council        ┆ https://www.canterbury.gov.uk  ┆ [\"https://mapping.canterbury.g │\n",
       "│                                ┆                                ┆ …                              │\n",
       "│ Leicester City Council         ┆ https://www.leicester.gov.uk   ┆ [\"https://data.gov.uk/dataset/ │\n",
       "│                                ┆                                ┆ …                              │\n",
       "│ Gateshead Metropolitan         ┆ https://www.gateshead.gov.uk   ┆ [null,                         │\n",
       "│ Borough…                       ┆                                ┆ \"https://gateshead-coun…       │\n",
       "│ Runnymede Borough Council      ┆ https://www.runnymede.gov.uk   ┆ [null]                         │\n",
       "│ Birmingham City Council        ┆ https://www.birmingham.gov.uk  ┆ [null, null, …                 │\n",
       "│                                ┆                                ┆ \"https://openpl…               │\n",
       "│ Thurrock Thames Gateway        ┆ https://www.gov.uk/government/ ┆ [null]                         │\n",
       "│ Develo…                        ┆ …                              ┆                                │\n",
       "│ Basildon Borough Council       ┆ https://www.basildon.gov.uk    ┆ [null]                         │\n",
       "│ London Borough of Richmond     ┆ https://www.richmond.gov.uk    ┆ [null]                         │\n",
       "│ upo…                           ┆                                ┆                                │\n",
       "│ Ministry of Housing,           ┆ https://www.gov.uk/government/ ┆ [\"https://dluhc-datasets.plann │\n",
       "│ Communiti…                     ┆ …                              ┆ …                              │\n",
       "│ Newcastle-under-Lyme Borough   ┆ https://www.newcastle-staffs.g ┆ [null]                         │\n",
       "│ C…                             ┆ …                              ┆                                │\n",
       "└────────────────────────────────┴────────────────────────────────┴────────────────────────────────┘"
      ]
     },
     "execution_count": 29,
     "metadata": {},
     "output_type": "execute_result"
    }
   ],
   "source": [
    "np.random.seed(4321)\n",
    "num_examples = 10\n",
    "example_idx = np.random.randint(0, len(data), num_examples)\n",
    "examples = data[example_idx]\n",
    "examples"
   ]
  },
  {
   "cell_type": "code",
   "execution_count": null,
   "id": "ee9d402d-0ffb-46b7-98ef-2f6b813aaee9",
   "metadata": {},
   "outputs": [],
   "source": [
    "max_depth = 6\n",
    "num_results = 10\n",
    "filters=[\n",
    "    {\"type\": \"ContentTypeFilter\", \"allowed_types\": [\"text/html\"]},\n",
    "    {\"type\": \"URLPatternFilter\", \"patterns\": [\"*conservation*\", \"*planning*\", \"*building*\"]},\n",
    "]\n",
    "\n",
    "# please write the prompt such that there is a curly bracket where the council\n",
    "# name will be inserted\n",
    "prompt = \"\"\"\n",
    "The text discusses conservation areas from the {} and includes data on \n",
    "planning data, areas, interactive maps, appraisals, notices, boundaries, \n",
    "links and similar.\n",
    "\"\"\"\n",
    "\n",
    "await process_council(\n",
    "    council_names=examples.get_column(\"name\"), \n",
    "    max_depth=max_depth, \n",
    "    filters=filters, \n",
    "    prompt=prompt, \n",
    "    num_results=num_results\n",
    ")"
   ]
  },
  {
   "cell_type": "code",
   "execution_count": null,
   "id": "120e25d7-db9d-4213-a3e0-a733ab14bb49",
   "metadata": {},
   "outputs": [],
   "source": []
  }
 ],
 "metadata": {
  "kernelspec": {
   "display_name": "Python 3 (ipykernel)",
   "language": "python",
   "name": "python3"
  },
  "language_info": {
   "codemirror_mode": {
    "name": "ipython",
    "version": 3
   },
   "file_extension": ".py",
   "mimetype": "text/x-python",
   "name": "python",
   "nbconvert_exporter": "python",
   "pygments_lexer": "ipython3",
   "version": "3.11.9"
  }
 },
 "nbformat": 4,
 "nbformat_minor": 5
}
