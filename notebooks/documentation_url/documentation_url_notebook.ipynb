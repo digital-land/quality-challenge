{
 "cells": [
  {
   "cell_type": "code",
   "execution_count": 1,
   "id": "f4361c7b-e149-475f-823b-e56baa3d3784",
   "metadata": {},
   "outputs": [],
   "source": [
    "import os\n",
    "import requests\n",
    "import urllib\n",
    "import numpy as np\n",
    "import polars as pl\n",
    "import asyncio\n",
    "from data_quality_utils import Crawler\n",
    "from sentence_transformers import SentenceTransformer, util"
   ]
  },
  {
   "cell_type": "code",
   "execution_count": 2,
   "id": "7701c33a-ed1e-4b0e-a6c4-a3ba361a4b2c",
   "metadata": {},
   "outputs": [],
   "source": [
    "# embedding model\n",
    "embedding_model = SentenceTransformer('sentence-transformers/all-MiniLM-L6-v2')\n",
    "# suppress warnings\n",
    "os.environ[\"TOKENIZERS_PARALLELISM\"] = \"false\""
   ]
  },
  {
   "cell_type": "code",
   "execution_count": 3,
   "id": "5eb7e124-377a-411f-9507-5e2e5296ce94",
   "metadata": {},
   "outputs": [],
   "source": [
    "# get data from datasette\n",
    "datasette_base_url = \"https://datasette.planning.data.gov.uk/digital-land.csv\"\n",
    "\n",
    "query = \"\"\"\n",
    "select * \n",
    "from source as s\n",
    "left join organisation as o\n",
    "on s.organisation=o.organisation \n",
    "where s.collection = \"conservation-area\"\n",
    "\"\"\"\n",
    "encoded_query = urllib.parse.urlencode({\"sql\": query})\n",
    "\n",
    "r = requests.get(f\"{datasette_base_url}?{encoded_query}\", auth=('user', 'pass'))\n",
    "\n",
    "filename = \"datasette_data.csv\"\n",
    "with open(filename, \"wb\") as f_out:\n",
    "    f_out.write(r.content)"
   ]
  },
  {
   "cell_type": "code",
   "execution_count": 4,
   "id": "4fff92ca-01a5-4616-a301-3f8f98cd4020",
   "metadata": {
    "scrolled": true
   },
   "outputs": [
    {
     "data": {
      "text/html": [
       "<div><style>\n",
       ".dataframe > thead > tr,\n",
       ".dataframe > tbody > tr {\n",
       "  text-align: right;\n",
       "  white-space: pre-wrap;\n",
       "}\n",
       "</style>\n",
       "<small>shape: (350, 3)</small><table border=\"1\" class=\"dataframe\"><thead><tr><th>name</th><th>website</th><th>documentation_url</th></tr><tr><td>str</td><td>str</td><td>list[str]</td></tr></thead><tbody><tr><td>&quot;North East Lincolnshire Counci…</td><td>&quot;https://www.nelincs.gov.uk&quot;</td><td>[null]</td></tr><tr><td>&quot;Blackpool Borough Council&quot;</td><td>&quot;https://www.blackpool.gov.uk&quot;</td><td>[null]</td></tr><tr><td>&quot;West Berkshire Council&quot;</td><td>&quot;https://www.westberks.gov.uk&quot;</td><td>[null, &quot;https://www.westberks.gov.uk/planning-data-conservation-areas&quot;]</td></tr><tr><td>&quot;Tendring District Council&quot;</td><td>&quot;https://www.tendringdc.gov.uk&quot;</td><td>[null]</td></tr><tr><td>&quot;St Helens Council&quot;</td><td>&quot;https://www.sthelens.gov.uk&quot;</td><td>[&quot;https://data.gov.uk/dataset/86bea27d-e174-4a67-aa4b-ee1d3c72a0e8/st-helens-conservation-areas&quot;]</td></tr><tr><td>&hellip;</td><td>&hellip;</td><td>&hellip;</td></tr><tr><td>&quot;Test Valley Borough Council&quot;</td><td>&quot;https://www.testvalley.gov.uk&quot;</td><td>[null]</td></tr><tr><td>&quot;Spelthorne Borough Council&quot;</td><td>&quot;https://www.spelthorne.gov.uk&quot;</td><td>[null]</td></tr><tr><td>&quot;East Suffolk Council&quot;</td><td>&quot;https://www.eastsuffolk.gov.uk&quot;</td><td>[null, null]</td></tr><tr><td>&quot;Newark and Sherwood District C…</td><td>&quot;https://www.newark-sherwooddc.…</td><td>[null]</td></tr><tr><td>&quot;Staffordshire Moorlands Distri…</td><td>&quot;https://www.staffsmoorlands.go…</td><td>[null]</td></tr></tbody></table></div>"
      ],
      "text/plain": [
       "shape: (350, 3)\n",
       "┌────────────────────────────────┬────────────────────────────────┬────────────────────────────────┐\n",
       "│ name                           ┆ website                        ┆ documentation_url              │\n",
       "│ ---                            ┆ ---                            ┆ ---                            │\n",
       "│ str                            ┆ str                            ┆ list[str]                      │\n",
       "╞════════════════════════════════╪════════════════════════════════╪════════════════════════════════╡\n",
       "│ North East Lincolnshire        ┆ https://www.nelincs.gov.uk     ┆ [null]                         │\n",
       "│ Counci…                        ┆                                ┆                                │\n",
       "│ Blackpool Borough Council      ┆ https://www.blackpool.gov.uk   ┆ [null]                         │\n",
       "│ West Berkshire Council         ┆ https://www.westberks.gov.uk   ┆ [null,                         │\n",
       "│                                ┆                                ┆ \"https://www.westberks.…       │\n",
       "│ Tendring District Council      ┆ https://www.tendringdc.gov.uk  ┆ [null]                         │\n",
       "│ St Helens Council              ┆ https://www.sthelens.gov.uk    ┆ [\"https://data.gov.uk/dataset/ │\n",
       "│                                ┆                                ┆ …                              │\n",
       "│ …                              ┆ …                              ┆ …                              │\n",
       "│ Test Valley Borough Council    ┆ https://www.testvalley.gov.uk  ┆ [null]                         │\n",
       "│ Spelthorne Borough Council     ┆ https://www.spelthorne.gov.uk  ┆ [null]                         │\n",
       "│ East Suffolk Council           ┆ https://www.eastsuffolk.gov.uk ┆ [null, null]                   │\n",
       "│ Newark and Sherwood District   ┆ https://www.newark-sherwooddc. ┆ [null]                         │\n",
       "│ C…                             ┆ …                              ┆                                │\n",
       "│ Staffordshire Moorlands        ┆ https://www.staffsmoorlands.go ┆ [null]                         │\n",
       "│ Distri…                        ┆ …                              ┆                                │\n",
       "└────────────────────────────────┴────────────────────────────────┴────────────────────────────────┘"
      ]
     },
     "execution_count": 4,
     "metadata": {},
     "output_type": "execute_result"
    }
   ],
   "source": [
    "# group by organisation as we're looking for one page per council\n",
    "data = (\n",
    "    pl.read_csv(filename)\n",
    "    .group_by(\"name\")\n",
    "    .agg(pl.col(\"website\").first(), pl.col(\"documentation_url\"))\n",
    ")\n",
    "data"
   ]
  },
  {
   "cell_type": "code",
   "execution_count": 5,
   "id": "405f3be6-d1c0-454a-8e4a-2be416a523eb",
   "metadata": {},
   "outputs": [],
   "source": [
    "def get_similar_urls(crawl_data, prompt, num_results=None):\n",
    "    \"\"\"\n",
    "    Embeds crawled webpage data, computes similarity to a given prompt, and returns the top N most similar pages.\n",
    "\n",
    "    Parameters:\n",
    "    - crawl_data (list of tuples): A list of tuples containing (url, markdown) for each crawled page.\n",
    "    - prompt (str): The text prompt to compare against the crawled page embeddings.\n",
    "    - num_results (int, optional): The number of top similar pages to return. If None, returns all pages.\n",
    "\n",
    "    Returns:\n",
    "    - polars.DataFrame: A DataFrame containing:\n",
    "        - \"url\": The webpage URL.\n",
    "        - \"markdown\": The extracted markdown content.\n",
    "        - \"embedding\": The computed embedding for the content.\n",
    "        - \"similarity\": The cosine similarity score with the prompt.\n",
    "    \"\"\"\n",
    "    res = []\n",
    "    for url, markdown in crawl_data:\n",
    "        embedding = embedding_model.encode(markdown, convert_to_numpy=True).tolist()\n",
    "        res.append((url, markdown, embedding))\n",
    "                \n",
    "    crawl_df = pl.DataFrame(res, schema=[\"url\", \"markdown\", \"embedding\"], orient=\"row\")\n",
    "    embeddings = np.stack(crawl_df[\"embedding\"].to_list())\n",
    "    \n",
    "    prompt_embedding = np.array(embedding_model.encode(prompt, convert_to_numpy=True), dtype='float64')\n",
    "    \n",
    "    # get similarity scores\n",
    "    sim=util.cos_sim(\n",
    "        prompt_embedding.astype(np.float32), \n",
    "        embeddings.astype(np.float32)\n",
    "    )\n",
    "    # get indices of top n most similar urls\n",
    "    if not num_results:\n",
    "        num_results = len(crawl_df)\n",
    "    indices = np.argsort(sim).numpy().flatten()[:-num_results-1:-1]\n",
    "    sorted_df = (\n",
    "        crawl_df[indices]\n",
    "        .with_columns(similarity=np.sort(sim).flatten()[:-num_results-1:-1])\n",
    "    )\n",
    "    return sorted_df"
   ]
  },
  {
   "cell_type": "code",
   "execution_count": 6,
   "id": "f3fa1e86-9138-433e-9d48-fef8c337d14a",
   "metadata": {},
   "outputs": [],
   "source": [
    "def pretty_print_results(sorted_df, num_results):\n",
    "    # print top n urls with similarity scores\n",
    "    print(\"\\nTop Similar Pages:\\n\" + \"=\"*40)\n",
    "    for i in range(min(num_results, len(sorted_df))):\n",
    "        url = sorted_df.get_column(\"url\")[i]\n",
    "        score = sorted_df.get_column(\"similarity\")[i]\n",
    "        print(f\"{i+1}. {url.ljust(60)} | Similarity: {score:.4f}\")"
   ]
  },
  {
   "cell_type": "code",
   "execution_count": 7,
   "id": "62700309-3308-4ff8-b9f5-cdafb6b01c13",
   "metadata": {},
   "outputs": [],
   "source": [
    "async def process_council(\n",
    "    council_names,\n",
    "    max_depth=6,\n",
    "    keyword_scorer=None,\n",
    "    filters=None,\n",
    "    prompt=\"A page about conservation areas.\",\n",
    "    cache_enabled=False,\n",
    "    num_results=10,\n",
    "):\n",
    "    crawler = Crawler(\n",
    "            max_depth=max_depth,\n",
    "            keyword_scorer=keyword_scorer,\n",
    "            filters=filters,\n",
    "            cache_enabled=cache_enabled,\n",
    "        )\n",
    "    \n",
    "    for council_name in council_names:\n",
    "        council_data = data.filter(pl.col(\"name\").str.contains(council_name))\n",
    "        full_name = council_data.get_column(\"name\")[0]\n",
    "        homepage = council_data.get_column(\"website\")[0]\n",
    "        prompt = prompt.format((full_name).replace('\\n', ''))\n",
    "        print(\"=\"*40 + f\"\\nProcessing {full_name}...\\n\")\n",
    "        \n",
    "        # crawl url\n",
    "        crawl_data = await crawler.deep_crawl(homepage)\n",
    "        \n",
    "        # get markdown embeddings\n",
    "        sorted_df = get_similar_urls(crawl_data, prompt)\n",
    "        \n",
    "        pretty_print_results(sorted_df, num_results)"
   ]
  },
  {
   "cell_type": "markdown",
   "id": "cd082b60-59f0-4789-8051-2006e5e8f189",
   "metadata": {},
   "source": [
    "## Our approach\n",
    "\n",
    "Our approach involves 2 main steps: a web crawler and an embedding similarity search. Below is a description of these steps.\n",
    "\n",
    "### Web crawler\n",
    "\n",
    "The web crawler takes a homepage URL of an organisation (council website) and crawls it to look for pages talking about conservation areas.\n",
    "\n",
    "The crawler will look for links on a single page, put them in a queue and then iteratively check them until it finds what it was looking for or it reaches a stopping criterion, such as maximum depth (how many clicks away from home page). \n",
    "\n",
    "In order to save time, we can define some scorers or filters which tell the crawler which pages to prioritise or ignore. In this case, some common patterns of what a user needs to click to get to the page of interest are _\"planning\"_, _\"building\"_, _\"heritage\"_ or _\"conservation\"_.\n",
    "\n",
    "The crawler uses a *\"best first strategy\"*, which utilises the scorers or filters to visit most relevant sites first, rather than a depth-first or breath-first search.\n",
    "\n",
    "The crawler extracts the HTML from the pages and turns them into markdown. This is because it's more readable and easier to work with in the next steps. The crawler returns a list of pairs of (_url_, _markdown_).\n",
    "\n",
    "### Embedding search\n",
    "\n",
    "To be filled"
   ]
  },
  {
   "cell_type": "markdown",
   "id": "fa81c3c2-abc0-409d-ac54-90c58848fd1a",
   "metadata": {},
   "source": [
    "### The next few cells show how to use the tools to find conservation area pages.\n",
    "\n",
    "You can define your own parameters, such as maximum depth, how many results you want to see and any scorers or filters. Below is a template showing how to defin each scorer/filter type correctly - all you need to do is change the keywords or patterns.\n",
    "\n",
    "You can also define a prompt - this is what will be used to get embeddings scores for a webpage. The more similar the prompt is to what a conservation area page usually looks like, the more accurate the results.\n",
    "\n",
    "Lastly, you can await the `process_council` function, which will run the functionality described above and print the results. You can use it for one council only or for a list of councils."
   ]
  },
  {
   "cell_type": "markdown",
   "id": "63761147-b9c6-46aa-8538-6d2f5c57bc4e",
   "metadata": {},
   "source": [
    "#### Template for how to define filters or scorers\n",
    "##### Pick the types you need and adjust their parameter (keywords, threshold, ...) and pass them to the crawler function.\n",
    "    keyword_scorer = {\n",
    "        \"keywords\": [\"conservation\", \"conservation area\", \"planning\", \"building\", \"urban\", \"heritage\", \"resident\"],\n",
    "        \"weight\": 0.8,\n",
    "    }\n",
    "        \n",
    "    filters=[\n",
    "        {\"type\": \"SEOFilter\", \"threshold\": 0.6, \"keywords\": [\"conservation\", \"area\", \"planning\", \"heritage\", \"resident\"]},\n",
    "        {\"type\": \"ContentRelevanceFilter\", \"query\": \"conservation area or planning data\", \"threshold\": 0.2},\n",
    "        {\"type\": \"ContentTypeFilter\", \"allowed_types\": [\"text/html\"]},\n",
    "        {\"type\": \"URLPatternFilter\", \"patterns\": [\"*conservation*\", \"*planning*\", \"*building*\"]},\n",
    "    ]"
   ]
  },
  {
   "cell_type": "markdown",
   "id": "d48645d9-ab88-4369-bbb9-b76f282b9eeb",
   "metadata": {},
   "source": [
    "### Gedling"
   ]
  },
  {
   "cell_type": "code",
   "execution_count": 8,
   "id": "1aa1c676-48fe-4a1a-b02f-5314d79fc2ff",
   "metadata": {},
   "outputs": [
    {
     "name": "stdout",
     "output_type": "stream",
     "text": [
      "========================================\n",
      "Processing Gedling Borough Council...\n",
      "\n",
      "[INIT].... → Crawl4AI 0.5.0.post4\n",
      "Crawled 137 pages in total\n",
      "\n",
      "Top Similar Pages:\n",
      "========================================\n",
      "1. https://www.gedling.gov.uk/conservation/#page                | Similarity: 0.6600\n",
      "2. https://www.gedling.gov.uk/conservation/                     | Similarity: 0.6600\n",
      "3. http://www.gedling.gov.uk/resident/planningandbuildingcontrol/ | Similarity: 0.6419\n",
      "4. http://www.gedling.gov.uk/resident/planningandbuildingcontrol/#page | Similarity: 0.6419\n",
      "5. https://www.gedling.gov.uk/resident/planningandbuildingcontrol/ | Similarity: 0.6416\n",
      "6. https://www.gedling.gov.uk/resident/planningandbuildingcontrol/#page | Similarity: 0.6416\n",
      "7. https://www.gedling.gov.uk/resident/planningandbuildingcontrol/planningpolicy/naturalenvironment/ | Similarity: 0.6250\n",
      "8. https://www.gedling.gov.uk/resident/planningandbuildingcontrol/planningpolicy/naturalenvironment/#page | Similarity: 0.6250\n",
      "9. http://www.gedling.gov.uk/resident/planningandbuildingcontrol/planningpolicy/ | Similarity: 0.6018\n",
      "10. https://www.gedling.gov.uk/resident/planningandbuildingcontrol/planningpolicy/#page | Similarity: 0.5903\n"
     ]
    }
   ],
   "source": [
    "max_depth = 6\n",
    "num_results = 10\n",
    "filters=[\n",
    "    {\"type\": \"ContentTypeFilter\", \"allowed_types\": [\"text/html\"]},\n",
    "    {\"type\": \"URLPatternFilter\", \"patterns\": [\"*conservation*\", \"*planning*\", \"*building*\"]},\n",
    "]\n",
    "\n",
    "# please write the prompt such that there is a curly bracket where the council\n",
    "# name will be inserted\n",
    "prompt = \"\"\"\n",
    "The text discusses conservation areas from the {} and includes data on \n",
    "planning data, areas, interactive maps, appraisals, notices, boundaries, \n",
    "links and similar.\n",
    "\"\"\"\n",
    "\n",
    "df = await process_council(\n",
    "    council_names=[\"Gedling\"], \n",
    "    max_depth=max_depth, \n",
    "    filters=filters, \n",
    "    prompt=prompt, \n",
    "    num_results=num_results\n",
    ")"
   ]
  },
  {
   "cell_type": "markdown",
   "id": "64f29b7a-f3ed-4d8c-8bf6-b59fa6bb9a4f",
   "metadata": {},
   "source": [
    "### South Gloucestershire"
   ]
  },
  {
   "cell_type": "code",
   "execution_count": 8,
   "id": "9141c6a5-65bd-4d7d-8149-1b1a1491b972",
   "metadata": {},
   "outputs": [
    {
     "name": "stdout",
     "output_type": "stream",
     "text": [
      "========================================\n",
      "Processing South Gloucestershire Council...\n",
      "\n",
      "[INIT].... → Crawl4AI 0.5.0.post4\n",
      "Crawled 332 pages in total\n",
      "\n",
      "Top Similar Pages:\n",
      "========================================\n",
      "1. https://beta.southglos.gov.uk/conservation-area              | Similarity: 0.6868\n",
      "2. https://beta.southglos.gov.uk/conservation-area/             | Similarity: 0.6852\n",
      "3. https://beta.southglos.gov.uk/planning-and-development/conservation-and-regeneration/ | Similarity: 0.6736\n",
      "4. https://beta.southglos.gov.uk/planning-and-development/conservation-and-regeneration/regeneration/ | Similarity: 0.6475\n",
      "5. https://beta.southglos.gov.uk/planning-and-development/conservation-and-regeneration/historic-environment-and-listed-buildings/ | Similarity: 0.6379\n",
      "6. https://beta.southglos.gov.uk/planning-and-development/conservation-and-regeneration/trees-and-hedges/ | Similarity: 0.6340\n",
      "7. http://www.southglos.gov.uk/environment-and-planning/search-planning-applications/ | Similarity: 0.6165\n",
      "8. http://www.southglos.gov.uk/planning-and-development/planning-applications/ | Similarity: 0.6056\n",
      "9. https://www.southglos.gov.uk/environment-and-planning/search-planning-applications/ | Similarity: 0.6026\n",
      "10. https://www.southglos.gov.uk/environment-and-planning/       | Similarity: 0.5972\n"
     ]
    }
   ],
   "source": [
    "max_depth = 6\n",
    "num_results = 10\n",
    "filters=[\n",
    "    {\"type\": \"ContentTypeFilter\", \"allowed_types\": [\"text/html\"]},\n",
    "    {\"type\": \"URLPatternFilter\", \"patterns\": [\"*conservation*\", \"*planning*\", \"*building*\"]},\n",
    "]\n",
    "\n",
    "# please write the prompt such that there is a curly bracket where the council\n",
    "# name will be inserted\n",
    "prompt = \"\"\"\n",
    "The text discusses conservation areas from the {} and includes data on \n",
    "planning data, areas, interactive maps, appraisals, notices, boundaries, \n",
    "links and similar.\n",
    "\"\"\"\n",
    "\n",
    "await process_council(\n",
    "    council_names=[\"South Gloucestershire\"], \n",
    "    max_depth=max_depth, \n",
    "    filters=filters, \n",
    "    prompt=prompt, \n",
    "    num_results=num_results\n",
    ")"
   ]
  },
  {
   "cell_type": "markdown",
   "id": "5a416094-8fbc-4283-8047-27d2e24bcc05",
   "metadata": {},
   "source": [
    "### Bournemouth, Christchurch and Poole"
   ]
  },
  {
   "cell_type": "code",
   "execution_count": 13,
   "id": "1f87c118-de61-4a7b-8b19-7d02ef474ded",
   "metadata": {},
   "outputs": [
    {
     "name": "stdout",
     "output_type": "stream",
     "text": [
      "========================================\n",
      "Processing Bournemouth, Christchurch and Poole Council...\n",
      "\n",
      "[INIT].... → Crawl4AI 0.5.0.post4\n",
      "Crawled 504 pages in total\n",
      "\n",
      "Top Similar Pages:\n",
      "========================================\n",
      "1. https://www.bcpcouncil.gov.uk/planning-and-building-control/urban-design-trees-and-conservation/conservation-areas | Similarity: 0.6143\n",
      "2. https://www.bcpcouncil.gov.uk/planning-and-building-control/urban-design-trees-and-conservation/conservation-areas#guide-contents | Similarity: 0.6143\n",
      "3. https://www.bcpcouncil.gov.uk/planning-and-building-control/urban-design-trees-and-conservation/conservation-areas#main | Similarity: 0.6143\n",
      "4. https://bcpcouncil.gov.uk/planning-and-building-control/local-land-charges | Similarity: 0.6074\n",
      "5. https://bcpcouncil.gov.uk/planning-and-building-control/local-land-charges#guide-contents | Similarity: 0.6074\n",
      "6. https://bcpcouncil.gov.uk/planning-and-building-control/local-land-charges#main | Similarity: 0.6074\n",
      "7. https://bcpcouncil.gov.uk/planning-and-building-control/urban-design-trees-and-conservation/listed-buildings | Similarity: 0.6000\n",
      "8. https://bcpcouncil.gov.uk/planning-and-building-control/urban-design-trees-and-conservation#main | Similarity: 0.5985\n",
      "9. https://bcpcouncil.gov.uk/planning-and-building-control/urban-design-trees-and-conservation | Similarity: 0.5985\n",
      "10. https://www.bcpcouncil.gov.uk/planning-and-building-control/local-land-charges/local-land-charges-in-christchurch#main | Similarity: 0.5964\n"
     ]
    }
   ],
   "source": [
    "max_depth = 6\n",
    "num_results = 10\n",
    "filters=[\n",
    "    {\"type\": \"ContentTypeFilter\", \"allowed_types\": [\"text/html\"]},\n",
    "    {\"type\": \"URLPatternFilter\", \"patterns\": [\"*conservation*\", \"*planning*\", \"*building*\"]},\n",
    "]\n",
    "\n",
    "# please write the prompt such that there is a curly bracket where the council\n",
    "# name will be inserted\n",
    "prompt = \"\"\"\n",
    "The text discusses conservation areas from the {} and includes data on \n",
    "planning data, areas, interactive maps, appraisals, notices, boundaries, \n",
    "links and similar.\n",
    "\"\"\"\n",
    "\n",
    "await process_council(\n",
    "    council_names=[\"Bournemouth, Christchurch and Poole\"], \n",
    "    max_depth=max_depth, \n",
    "    filters=filters, \n",
    "    prompt=prompt, \n",
    "    num_results=num_results\n",
    ")"
   ]
  },
  {
   "cell_type": "markdown",
   "id": "60ec51f6-4058-489c-80d9-53c95de77a0c",
   "metadata": {},
   "source": [
    "### Warrington"
   ]
  },
  {
   "cell_type": "code",
   "execution_count": 9,
   "id": "614492c8",
   "metadata": {},
   "outputs": [
    {
     "name": "stdout",
     "output_type": "stream",
     "text": [
      "========================================\n",
      "Processing Warrington Borough Council...\n",
      "\n",
      "[INIT].... → Crawl4AI 0.5.0.post4\n",
      "Crawled 67 pages in total\n",
      "\n",
      "Top Similar Pages:\n",
      "========================================\n",
      "1. https://www.warrington.gov.uk/nature-conservation#main-content | Similarity: 0.6056\n",
      "2. https://www.warrington.gov.uk/nature-conservation            | Similarity: 0.6056\n",
      "3. https://online.warrington.gov.uk/planning/index.html         | Similarity: 0.5629\n",
      "4. https://online.warrington.gov.uk/planning/                   | Similarity: 0.5513\n",
      "5. https://www.warrington.gov.uk/supplementary-planning-documents-consultation | Similarity: 0.5456\n",
      "6. https://www.warrington.gov.uk/supplementary-planning-documents-consultation#main-content | Similarity: 0.5456\n",
      "7. https://www.warrington.gov.uk/supplementary-planning-documents | Similarity: 0.5359\n",
      "8. https://www.warrington.gov.uk/supplementary-planning-documents#main-content | Similarity: 0.5359\n",
      "9. https://www.warrington.gov.uk/planning-policy-archives#main-content | Similarity: 0.5312\n",
      "10. https://www.warrington.gov.uk/planning-policy-archives       | Similarity: 0.5312\n"
     ]
    }
   ],
   "source": [
    "max_depth = 6\n",
    "num_results = 10\n",
    "filters=[\n",
    "    {\"type\": \"ContentTypeFilter\", \"allowed_types\": [\"text/html\"]},\n",
    "    {\"type\": \"URLPatternFilter\", \"patterns\": [\"*conservation*\", \"*planning*\", \"*building*\"]},\n",
    "]\n",
    "\n",
    "# please write the prompt such that there is a curly bracket where the council\n",
    "# name will be inserted\n",
    "prompt = \"\"\"\n",
    "The text discusses conservation areas from the {} and includes data on \n",
    "planning data, areas, interactive maps, appraisals, notices, boundaries, \n",
    "links and similar.\n",
    "\"\"\"\n",
    "\n",
    "await process_council(\n",
    "    council_names=[\"Warrington\"], \n",
    "    max_depth=max_depth, \n",
    "    filters=filters, \n",
    "    prompt=prompt, \n",
    "    num_results=num_results\n",
    ")"
   ]
  },
  {
   "cell_type": "markdown",
   "id": "2a16eca4-dff1-43a8-a28e-e847dc145dcc",
   "metadata": {},
   "source": [
    "### Stoke on Trent"
   ]
  },
  {
   "cell_type": "code",
   "execution_count": 10,
   "id": "87a073d1",
   "metadata": {},
   "outputs": [
    {
     "name": "stdout",
     "output_type": "stream",
     "text": [
      "========================================\n",
      "Processing Stoke-on-Trent City Council...\n",
      "\n",
      "[INIT].... → Crawl4AI 0.5.0.post4\n",
      "Crawled 129 pages in total\n",
      "\n",
      "Top Similar Pages:\n",
      "========================================\n",
      "1. https://www.stoke.gov.uk/info/20005/planning_and_building/547/conservation_areas#content | Similarity: 0.8232\n",
      "2. https://www.stoke.gov.uk/info/20005/planning_and_building/547/conservation_areas | Similarity: 0.8232\n",
      "3. https://www.stoke.gov.uk/news/article/1509/council_announces_new_conservation_areas#content | Similarity: 0.8073\n",
      "4. https://www.stoke.gov.uk/news/article/1509/council_announces_new_conservation_areas | Similarity: 0.8073\n",
      "5. https://www.stoke.gov.uk/news/article/1285/changes_to_conservation_areas_in_stoke-on-trent | Similarity: 0.7924\n",
      "6. https://www.stoke.gov.uk/news/article/1285/changes_to_conservation_areas_in_stoke-on-trent#content | Similarity: 0.7924\n",
      "7. https://www.stoke.gov.uk/conservationareas#content           | Similarity: 0.7902\n",
      "8. http://www.stoke.gov.uk/conservationareas                    | Similarity: 0.7902\n",
      "9. https://www.stoke.gov.uk/conservationareas                   | Similarity: 0.7902\n",
      "10. https://www.stoke.gov.uk/news/article/1235/changes_to_conservation_areas_in_stoke-on-trent#content | Similarity: 0.7682\n"
     ]
    }
   ],
   "source": [
    "max_depth = 6\n",
    "num_results = 10\n",
    "filters=[\n",
    "    {\"type\": \"ContentTypeFilter\", \"allowed_types\": [\"text/html\"]},\n",
    "    {\"type\": \"URLPatternFilter\", \"patterns\": [\"*conservation*\", \"*planning*\", \"*building*\"]},\n",
    "]\n",
    "\n",
    "# please write the prompt such that there is a curly bracket where the council\n",
    "# name will be inserted\n",
    "prompt = \"\"\"\n",
    "The text discusses conservation areas from the {} and includes data on \n",
    "planning data, areas, interactive maps, appraisals, notices, boundaries, \n",
    "links and similar.\n",
    "\"\"\"\n",
    "\n",
    "await process_council(\n",
    "    council_names=[\"Stoke\"], \n",
    "    max_depth=max_depth, \n",
    "    filters=filters, \n",
    "    prompt=prompt, \n",
    "    num_results=num_results\n",
    ")"
   ]
  },
  {
   "cell_type": "markdown",
   "id": "187695cb-e99c-40c6-9407-af0a7a3df0f7",
   "metadata": {},
   "source": [
    "### Redbridge"
   ]
  },
  {
   "cell_type": "code",
   "execution_count": 14,
   "id": "de8348d8",
   "metadata": {},
   "outputs": [
    {
     "name": "stdout",
     "output_type": "stream",
     "text": [
      "========================================\n",
      "Processing London Borough of Redbridge...\n",
      "\n",
      "[INIT].... → Crawl4AI 0.5.0.post4\n",
      "Crawled 762 pages in total\n",
      "\n",
      "Top Similar Pages:\n",
      "========================================\n",
      "1. https://www.redbridge.gov.uk/planning-and-building/protected-buildings-and-conservation-areas/article-4-direction-c4-hmos/ | Similarity: 0.6607\n",
      "2. https://www.redbridge.gov.uk/planning-and-building/protected-buildings-and-conservation-areas/article-4-direction-c4-hmos/#accessibilitySkip | Similarity: 0.6607\n",
      "3. https://www.redbridge.gov.uk/planning-and-building/protected-buildings-and-conservation-areas/ | Similarity: 0.6513\n",
      "4. https://www.redbridge.gov.uk/planning-and-building/protected-buildings-and-conservation-areas/#accessibilitySkip | Similarity: 0.6513\n",
      "5. https://www.redbridge.gov.uk/Account/Register?returnurl=%2Fplanning-and-building%2Fprotected-buildings-and-conservation-areas%2Farticle-4-direction-c4-hmos%2F&clientid=RedbridgeCMSLive#accessibilitySkip | Similarity: 0.6512\n",
      "6. https://www.redbridge.gov.uk/Account/Register?returnurl=%2Fplanning-and-building%2Fprotected-buildings-and-conservation-areas%2Farticle-4-direction-c4-hmos%2F&clientid=RedbridgeCMSLive | Similarity: 0.6512\n",
      "7. https://www.redbridge.gov.uk/Account/ForgotPassword?returnurl=%2Fplanning-and-building%2Fprotected-buildings-and-conservation-areas%2Farticle-4-direction-c4-hmos%2F&clientid=RedbridgeCMSLive | Similarity: 0.6489\n",
      "8. https://my.redbridge.gov.uk/Map/conservation-areas           | Similarity: 0.6486\n",
      "9. https://my.redbridge.gov.uk/map/conservation-areas           | Similarity: 0.6486\n",
      "10. https://my.redbridge.gov.uk/Map/conservation-areas#accessibilitySkip | Similarity: 0.6486\n"
     ]
    }
   ],
   "source": [
    "max_depth = 6\n",
    "num_results = 10\n",
    "filters=[\n",
    "    {\"type\": \"ContentTypeFilter\", \"allowed_types\": [\"text/html\"]},\n",
    "    {\"type\": \"URLPatternFilter\", \"patterns\": [\"*conservation*\", \"*planning*\", \"*building*\"]},\n",
    "]\n",
    "\n",
    "# please write the prompt such that there is a curly bracket where the council\n",
    "# name will be inserted\n",
    "prompt = \"\"\"\n",
    "The text discusses conservation areas from the {} and includes data on \n",
    "planning data, areas, interactive maps, appraisals, notices, boundaries, \n",
    "links and similar.\n",
    "\"\"\"\n",
    "\n",
    "await process_council(\n",
    "    council_names=[\"Redbridge\"], \n",
    "    max_depth=max_depth, \n",
    "    filters=filters, \n",
    "    prompt=prompt, \n",
    "    num_results=num_results\n",
    ")"
   ]
  },
  {
   "cell_type": "markdown",
   "id": "286414dd-dd60-48f1-b09f-74d86be15a2c",
   "metadata": {},
   "source": [
    "### York"
   ]
  },
  {
   "cell_type": "code",
   "execution_count": 25,
   "id": "ebc0f222",
   "metadata": {},
   "outputs": [
    {
     "name": "stdout",
     "output_type": "stream",
     "text": [
      "========================================\n",
      "Processing York...\n",
      "\n",
      "[INIT].... → Crawl4AI 0.5.0.post4\n",
      "Crawled 3260 pages in total\n",
      "\n",
      "Top Similar Pages:\n",
      "========================================\n",
      "1. https://planningaccess.york.gov.uk/online-applications/#top  | Similarity: 0.4857\n",
      "2. https://planningaccess.york.gov.uk/online-applications/#pageheading | Similarity: 0.4857\n",
      "3. https://planningaccess.york.gov.uk/online-applications/      | Similarity: 0.4857\n",
      "4. https://www.york.gov.uk/conservation-listed-buildings/york-central-historic-core-conservation-area-appraisal-hccaa#content | Similarity: 0.4832\n",
      "5. https://www.york.gov.uk/conservation-listed-buildings/york-central-historic-core-conservation-area-appraisal-hccaa | Similarity: 0.4832\n",
      "6. https://www.york.gov.uk/conservation-listed-buildings/york-central-historic-core-conservation-area-appraisal-hccaa#js-menu | Similarity: 0.4832\n",
      "7. https://www.york.gov.uk/conservation-listed-buildings/york-central-historic-core-conservation-area-appraisal-hccaa#top | Similarity: 0.4832\n",
      "8. https://www.york.gov.uk/conservation-listed-buildings/york-central-historic-core-conservation-area-appraisal-hccaa#js-search | Similarity: 0.4832\n",
      "9. https://www.york.gov.uk/conservation-listed-buildings/york-central-historic-core-conservation-area-appraisal-hccaa#js-search-toggle | Similarity: 0.4832\n",
      "10. https://www.york.gov.uk/conservation-listed-buildings/york-central-historic-core-conservation-area-appraisal-hccaa#js-menu-toggle | Similarity: 0.4832\n"
     ]
    }
   ],
   "source": [
    "max_depth = 6\n",
    "num_results = 10\n",
    "filters=[\n",
    "    {\"type\": \"ContentTypeFilter\", \"allowed_types\": [\"text/html\"]},\n",
    "    {\"type\": \"URLPatternFilter\", \"patterns\": [r\"*[Cc]onservation*\", r\"*[Pp]lanning*\", r\"*[Bb]uilding*\"]},\n",
    "]\n",
    "\n",
    "# please write the prompt such that there is a curly bracket where the council\n",
    "# name will be inserted\n",
    "prompt = \"\"\"\n",
    "The text discusses conservation areas from the {} and includes data on \n",
    "planning data, areas, interactive maps, appraisals, notices, boundaries, \n",
    "links and similar.\n",
    "\"\"\"\n",
    "\n",
    "await process_council(\n",
    "    council_names=[\"York\"], \n",
    "    max_depth=max_depth, \n",
    "    filters=filters, \n",
    "    prompt=prompt, \n",
    "    num_results=num_results\n",
    ")"
   ]
  },
  {
   "cell_type": "markdown",
   "id": "338095f7-217c-4afe-a2db-532759ffa411",
   "metadata": {},
   "source": [
    "### Malvern Hills"
   ]
  },
  {
   "cell_type": "code",
   "execution_count": null,
   "id": "7b106626",
   "metadata": {},
   "outputs": [
    {
     "name": "stdout",
     "output_type": "stream",
     "text": [
      "========================================\n",
      "Processing Malvern Hills...\n",
      "\n",
      "[INIT].... → Crawl4AI 0.5.0.post4\n"
     ]
    }
   ],
   "source": [
    "max_depth = 6\n",
    "num_results = 10\n",
    "filters=[\n",
    "    {\"type\": \"ContentTypeFilter\", \"allowed_types\": [\"text/html\"]},\n",
    "    {\"type\": \"URLPatternFilter\", \"patterns\": [r\"*[Cc]onservation*\", r\"*[Pp]lanning*\", r\"*[Bb]uilding*\"]},\n",
    "]\n",
    "\n",
    "# please write the prompt such that there is a curly bracket where the council\n",
    "# name will be inserted\n",
    "prompt = \"\"\"\n",
    "The text discusses conservation areas from the {} and includes data on \n",
    "planning data, areas, interactive maps, appraisals, notices, boundaries, \n",
    "links and similar.\n",
    "\"\"\"\n",
    "\n",
    "await process_council(\n",
    "    council_names=[\"Malvern Hills\"], \n",
    "    max_depth=max_depth, \n",
    "    filters=filters, \n",
    "    prompt=prompt, \n",
    "    num_results=num_results\n",
    ")"
   ]
  },
  {
   "cell_type": "markdown",
   "id": "0c4a7493-5717-409f-843e-b98295bf5350",
   "metadata": {},
   "source": [
    "## Multiple councils\n",
    "\n",
    "You can define any list of councils and their processing will be executed sequentially"
   ]
  },
  {
   "cell_type": "code",
   "execution_count": 29,
   "id": "a7ab152b-5fac-480d-8538-d47b43247dd2",
   "metadata": {
    "scrolled": true
   },
   "outputs": [
    {
     "data": {
      "text/html": [
       "<div><style>\n",
       ".dataframe > thead > tr,\n",
       ".dataframe > tbody > tr {\n",
       "  text-align: right;\n",
       "  white-space: pre-wrap;\n",
       "}\n",
       "</style>\n",
       "<small>shape: (10, 3)</small><table border=\"1\" class=\"dataframe\"><thead><tr><th>name</th><th>website</th><th>documentation_url</th></tr><tr><td>str</td><td>str</td><td>list[str]</td></tr></thead><tbody><tr><td>&quot;Canterbury City Council&quot;</td><td>&quot;https://www.canterbury.gov.uk&quot;</td><td>[&quot;https://mapping.canterbury.gov.uk/arcgis/rest/services/External/Planning_Constraints_New/MapServer&quot;]</td></tr><tr><td>&quot;Leicester City Council&quot;</td><td>&quot;https://www.leicester.gov.uk&quot;</td><td>[&quot;https://data.gov.uk/dataset/e702ebff-27b4-4e86-acbb-74d066f3c4e7/conservation-areas&quot;, &quot;https://data.leicester.gov.uk/explore/?q=conservation+area&amp;sort=modified&quot;, &quot;https://data.leicester.gov.uk/explore/?q=conservation+area&amp;sort=modified&quot;]</td></tr><tr><td>&quot;Gateshead Metropolitan Borough…</td><td>&quot;https://www.gateshead.gov.uk&quot;</td><td>[null, &quot;https://gateshead-council-open-data-gateshead.hub.arcgis.com/datasets/Gateshead::spe-hx-conservation-areas/about&quot;]</td></tr><tr><td>&quot;Runnymede Borough Council&quot;</td><td>&quot;https://www.runnymede.gov.uk&quot;</td><td>[null]</td></tr><tr><td>&quot;Birmingham City Council&quot;</td><td>&quot;https://www.birmingham.gov.uk&quot;</td><td>[null, null, … &quot;https://openplanningdata-sbham.hub.arcgis.com/datasets/ee06653284154ccfb4fec1e9428760e1/about&quot;]</td></tr><tr><td>&quot;Thurrock Thames Gateway Develo…</td><td>&quot;https://www.gov.uk/government/…</td><td>[null]</td></tr><tr><td>&quot;Basildon Borough Council&quot;</td><td>&quot;https://www.basildon.gov.uk&quot;</td><td>[null]</td></tr><tr><td>&quot;London Borough of Richmond upo…</td><td>&quot;https://www.richmond.gov.uk&quot;</td><td>[null]</td></tr><tr><td>&quot;Ministry of Housing, Communiti…</td><td>&quot;https://www.gov.uk/government/…</td><td>[&quot;https://dluhc-datasets.planning-data.dev/dataset/conservation-area-document-type&quot;, &quot;https://github.com/digital-land/conservation-area-data/tree/main/data/Output/Missing&quot;, … &quot;https://dataset-editor.development.planning.data.gov.uk/dataset/conservation-area-document-type&quot;]</td></tr><tr><td>&quot;Newcastle-under-Lyme Borough C…</td><td>&quot;https://www.newcastle-staffs.g…</td><td>[null]</td></tr></tbody></table></div>"
      ],
      "text/plain": [
       "shape: (10, 3)\n",
       "┌────────────────────────────────┬────────────────────────────────┬────────────────────────────────┐\n",
       "│ name                           ┆ website                        ┆ documentation_url              │\n",
       "│ ---                            ┆ ---                            ┆ ---                            │\n",
       "│ str                            ┆ str                            ┆ list[str]                      │\n",
       "╞════════════════════════════════╪════════════════════════════════╪════════════════════════════════╡\n",
       "│ Canterbury City Council        ┆ https://www.canterbury.gov.uk  ┆ [\"https://mapping.canterbury.g │\n",
       "│                                ┆                                ┆ …                              │\n",
       "│ Leicester City Council         ┆ https://www.leicester.gov.uk   ┆ [\"https://data.gov.uk/dataset/ │\n",
       "│                                ┆                                ┆ …                              │\n",
       "│ Gateshead Metropolitan         ┆ https://www.gateshead.gov.uk   ┆ [null,                         │\n",
       "│ Borough…                       ┆                                ┆ \"https://gateshead-coun…       │\n",
       "│ Runnymede Borough Council      ┆ https://www.runnymede.gov.uk   ┆ [null]                         │\n",
       "│ Birmingham City Council        ┆ https://www.birmingham.gov.uk  ┆ [null, null, …                 │\n",
       "│                                ┆                                ┆ \"https://openpl…               │\n",
       "│ Thurrock Thames Gateway        ┆ https://www.gov.uk/government/ ┆ [null]                         │\n",
       "│ Develo…                        ┆ …                              ┆                                │\n",
       "│ Basildon Borough Council       ┆ https://www.basildon.gov.uk    ┆ [null]                         │\n",
       "│ London Borough of Richmond     ┆ https://www.richmond.gov.uk    ┆ [null]                         │\n",
       "│ upo…                           ┆                                ┆                                │\n",
       "│ Ministry of Housing,           ┆ https://www.gov.uk/government/ ┆ [\"https://dluhc-datasets.plann │\n",
       "│ Communiti…                     ┆ …                              ┆ …                              │\n",
       "│ Newcastle-under-Lyme Borough   ┆ https://www.newcastle-staffs.g ┆ [null]                         │\n",
       "│ C…                             ┆ …                              ┆                                │\n",
       "└────────────────────────────────┴────────────────────────────────┴────────────────────────────────┘"
      ]
     },
     "execution_count": 29,
     "metadata": {},
     "output_type": "execute_result"
    }
   ],
   "source": [
    "np.random.seed(4321)\n",
    "num_examples = 10\n",
    "example_idx = np.random.randint(0, len(data), num_examples)\n",
    "examples = data[example_idx]\n",
    "examples"
   ]
  },
  {
   "cell_type": "code",
   "execution_count": null,
   "id": "ee9d402d-0ffb-46b7-98ef-2f6b813aaee9",
   "metadata": {},
   "outputs": [],
   "source": [
    "max_depth = 6\n",
    "num_results = 10\n",
    "filters=[\n",
    "    {\"type\": \"ContentTypeFilter\", \"allowed_types\": [\"text/html\"]},\n",
    "    {\"type\": \"URLPatternFilter\", \"patterns\": [\"*conservation*\", \"*planning*\", \"*building*\"]},\n",
    "]\n",
    "\n",
    "# please write the prompt such that there is a curly bracket where the council\n",
    "# name will be inserted\n",
    "prompt = \"\"\"\n",
    "The text discusses conservation areas from the {} and includes data on \n",
    "planning data, areas, interactive maps, appraisals, notices, boundaries, \n",
    "links and similar.\n",
    "\"\"\"\n",
    "\n",
    "await process_council(\n",
    "    council_names=examples.get_column(\"name\"), \n",
    "    max_depth=max_depth, \n",
    "    filters=filters, \n",
    "    prompt=prompt, \n",
    "    num_results=num_results\n",
    ")"
   ]
  },
  {
   "cell_type": "code",
   "execution_count": null,
   "id": "120e25d7-db9d-4213-a3e0-a733ab14bb49",
   "metadata": {},
   "outputs": [],
   "source": []
  }
 ],
 "metadata": {
  "kernelspec": {
   "display_name": "Python 3 (ipykernel)",
   "language": "python",
   "name": "python3"
  },
  "language_info": {
   "codemirror_mode": {
    "name": "ipython",
    "version": 3
   },
   "file_extension": ".py",
   "mimetype": "text/x-python",
   "name": "python",
   "nbconvert_exporter": "python",
   "pygments_lexer": "ipython3",
   "version": "3.11.9"
  }
 },
 "nbformat": 4,
 "nbformat_minor": 5
}
